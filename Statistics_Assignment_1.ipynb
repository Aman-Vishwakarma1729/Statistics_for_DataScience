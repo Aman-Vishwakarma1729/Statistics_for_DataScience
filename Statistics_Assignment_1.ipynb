{
 "cells": [
  {
   "cell_type": "markdown",
   "id": "33e19731-ba93-4fb9-bf1e-9b3c0c02ee72",
   "metadata": {},
   "source": [
    "#### Answer_1"
   ]
  },
  {
   "cell_type": "markdown",
   "id": "9f4071b4-da61-4d29-b8e9-da4bd3211903",
   "metadata": {},
   "source": [
    "##### It is discipline that concerns the collection, organization,analysing, interpretation and presentation of data.\n"
   ]
  },
  {
   "cell_type": "markdown",
   "id": "87314393-b937-45fd-a06c-64390f3534fa",
   "metadata": {},
   "source": [
    "#### Answer_2"
   ]
  },
  {
   "cell_type": "markdown",
   "id": "b75e597d-215f-4aca-8e73-8066e84f1d9c",
   "metadata": {},
   "source": [
    "#### Descriptive Statistics\n",
    "##### 1) It is associated with analysing, summarizing, organizing data.\n",
    "##### 2) We use different methods such as Bar graphs, Histogram, Pie charts,                PDF (Probability Density Functions), CDF, Different types of                      distribution, and so on.\n",
    "##### 3) We make use of \n",
    "###### > Measure of central tendency -:\n",
    "###### >> Mean\n",
    "###### >> Median\n",
    "###### >> Mode\n",
    "###### > Measure of dispersions -:\n",
    "###### >> Range\n",
    "###### >> Coefficient of range\n",
    "###### >> Interquartile Range\n",
    "###### >> Quartile Deviation\n",
    "#####  etc.\n",
    "\n",
    "#### Inferential Statistics\n",
    "##### 1) It is associated with analysing the sample data from population and                drawing some conclusion for population from it using different                    statistical technique on sample data.\n",
    "##### 2) We draw conclusion using different concepts.\n",
    "###### >> Z-test\n",
    "###### >> t-test\n",
    "###### >> chi-sqaure test\n",
    "###### >> Hypothesis testing\n",
    "###### >> P-value\n",
    "###### >> Significance value\n",
    "#####  etc.\n",
    "\n",
    "\n",
    "\n",
    "  \n"
   ]
  },
  {
   "cell_type": "markdown",
   "id": "63544c8c-2a24-4965-8851-80abb4bbb16d",
   "metadata": {},
   "source": [
    "#### Answer_3"
   ]
  },
  {
   "cell_type": "markdown",
   "id": "cf665cff-8bb0-4328-b0d8-9603d07ad643",
   "metadata": {},
   "source": [
    "#### Data is basically of two types: \n",
    "#### 1) Quantitative Data\n",
    "##### > Quantitaive Data is further of two types:\n",
    "##### i) Discrete Data\n",
    "###### > a) Discrete Data is always a whole number.\n",
    "###### > ex. Number of bank accounts, Number of houses at certain location.\n",
    "##### ii) Continuous Data\n",
    "###### > a) It can be of any type of numerical values.\n",
    "###### > ex. Height, weight.\n",
    "##### > Quantitaive Data is numerical Data\n",
    "#### 2) Qualitative Data\n",
    "##### > Qualitative Data is further of two types:\n",
    "##### i) Nominal Data\n",
    "###### > ex. Gender, Blood Group, Colour.\n",
    "##### ii) Ordinal Data\n",
    "###### > a) Here we can assign rank.\n",
    "###### > ex. Good, Very Good, Excellent.\n",
    "##### > Qualitative Data is catagorical Data\n"
   ]
  },
  {
   "cell_type": "markdown",
   "id": "d62dc1df-aa1f-4d9a-a81c-d526cf95bc15",
   "metadata": {},
   "source": [
    "#### Answer_4"
   ]
  },
  {
   "cell_type": "markdown",
   "id": "8c5b098d-d034-4b8a-9ef1-661eb9353014",
   "metadata": {},
   "source": [
    "|        Qunatitave Data       |       Qualitative Data     |\n",
    "|------------------------------|----------------------------|\n",
    "|3) Height data of class       | 1) Grading in exam         |\n",
    "|4) Number of mangoes exported | 2) Colour of mangoes       |\n",
    "|    by a farm                 |                            |"
   ]
  },
  {
   "cell_type": "markdown",
   "id": "d69e9438-338a-4fad-8b47-65ff7ed7e80d",
   "metadata": {},
   "source": [
    "#### Answer_5"
   ]
  },
  {
   "cell_type": "markdown",
   "id": "b057204a-eab6-43f0-b56e-7ecd0adb0da2",
   "metadata": {},
   "source": [
    "#### Levels of measurement, also called scales of measurement, tell you how            precisely variables are recorded.\n",
    "#### There are 4 level of measurement -:\n",
    "##### 1) Nominal : the data can only be categorized.\n",
    "##### ex. Marital status, Gender etc.\n",
    "##### 2) Ordinal : the data can be categorized and ranked.\n",
    "##### ex. Top 5 olypic medalist, Language ablity (Beginer, Intermediate, fluent)\n",
    "##### 3) Interval : the data can be categorized, ranked, and evenly spaced.\n",
    "##### ex. Test score of IQ exam, Temperature in celcius.\n",
    "##### 4) Ratio : the data can be categorized, ranked, evenly spaced, and has a                      natural zero.\n",
    "##### ex. Height, age, weight etc. "
   ]
  },
  {
   "cell_type": "markdown",
   "id": "263e7bff-6163-449d-b5b8-a80df387b9c3",
   "metadata": {},
   "source": [
    "#### Answer_6"
   ]
  },
  {
   "cell_type": "markdown",
   "id": "945243ae-d8e9-4df5-b0ae-b6b5b8eea5cb",
   "metadata": {},
   "source": [
    "##### Level of measurement is important as it determines the type of statistical analysis we can carry out. As a result, it affects both the nature and the depth of insights we’re able to glean from our data. Certain statistical tests can only be performed where more precise levels of measurement have been used, so it’s essential to plan in advance how we’ll gather and measure our data."
   ]
  },
  {
   "cell_type": "markdown",
   "id": "2573c851-73d2-4522-8fce-66dd3cbd73c5",
   "metadata": {},
   "source": [
    "#### Answer_7"
   ]
  },
  {
   "cell_type": "markdown",
   "id": "4cd3c52c-16f9-4bb8-9aef-729e7f79f30d",
   "metadata": {},
   "source": [
    "|            Nominal data type            |          Ordinal data type         |\n",
    "|-----------------------------------------|------------------------------------|\n",
    "|Here we can categorize and label vaiables| Here also we can categorize and label vaiables|\n",
    "|Rank do not categories in order          | Rank categories in order           |"
   ]
  },
  {
   "cell_type": "markdown",
   "id": "b20ea31d-e55b-48d5-847e-039785c009ca",
   "metadata": {},
   "source": [
    "#### Answer_8"
   ]
  },
  {
   "cell_type": "markdown",
   "id": "8367dd9a-e38b-4346-bf57-3baf76883e92",
   "metadata": {},
   "source": [
    "##### Histogram "
   ]
  },
  {
   "cell_type": "markdown",
   "id": "2ad65e29-c56b-4b8d-acb9-e4bb65bceaae",
   "metadata": {},
   "source": [
    "#### Answer_9"
   ]
  },
  {
   "cell_type": "markdown",
   "id": "54d0836c-9dc4-4c27-92de-aee9ff51d4bf",
   "metadata": {},
   "source": [
    "#### Descriptive Statistics\n",
    "##### 1) It is associated with analysing, summarizing, organizing data.\n",
    "##### 2) We use different methods such as Bar graphs, Histogram, Pie charts,                PDF (Probability Density Functions), CDF, Different types of                      distribution, and so on.\n",
    "##### 3) We make use of \n",
    "###### > Measure of central tendency -:\n",
    "###### >> Mean\n",
    "###### >> Median\n",
    "###### >> Mode\n",
    "###### > Measure of dispersions -:\n",
    "###### >> Range\n",
    "###### >> Coefficient of range\n",
    "###### >> Interquartile Range\n",
    "###### >> Quartile Deviation\n",
    "#####  etc.\n",
    "\n",
    "#### Inferential Statistics\n",
    "##### 1) It is associated with analysing the sample data from population and                drawing some conclusion for population from it using different                    statistical technique on sample data.\n",
    "##### 2) We draw conclusion using different concepts.\n",
    "###### >> Z-test\n",
    "###### >> t-test\n",
    "###### >> chi-sqaure test\n",
    "###### >> Hypothesis testing\n",
    "###### >> P-value\n",
    "###### >> Significance value\n",
    "#####  etc."
   ]
  },
  {
   "cell_type": "markdown",
   "id": "0e189ee7-ed42-434b-a6e3-a59fb57799e5",
   "metadata": {},
   "source": [
    "#### Answer_10"
   ]
  },
  {
   "cell_type": "markdown",
   "id": "195bbe5e-7245-47d2-a7dc-9a1ed32f1758",
   "metadata": {},
   "source": [
    "##### > Measure of central tendency is used to calculate the location or position of central point and explain central tendency of data.\n",
    "##### > Measure of central tendency cosist of Mean, Median and Mode.\n",
    "##### > Mean : It is used to known the average value of data set.\n",
    "##### > Median : It is used to study cental value of data set.\n",
    "##### > Mode : It is value of variable for which the frequency is maximum."
   ]
  },
  {
   "cell_type": "code",
   "execution_count": null,
   "id": "d877d78d-deb1-4faf-af5a-ab06a3e9aa68",
   "metadata": {},
   "outputs": [],
   "source": []
  },
  {
   "cell_type": "code",
   "execution_count": null,
   "id": "894be430-9ef7-45ef-84b8-b70d91106127",
   "metadata": {},
   "outputs": [],
   "source": []
  },
  {
   "cell_type": "code",
   "execution_count": null,
   "id": "2a9d8a76-0a69-4091-bf36-9a68b46e4bc7",
   "metadata": {},
   "outputs": [],
   "source": []
  }
 ],
 "metadata": {
  "kernelspec": {
   "display_name": "Python 3 (ipykernel)",
   "language": "python",
   "name": "python3"
  },
  "language_info": {
   "codemirror_mode": {
    "name": "ipython",
    "version": 3
   },
   "file_extension": ".py",
   "mimetype": "text/x-python",
   "name": "python",
   "nbconvert_exporter": "python",
   "pygments_lexer": "ipython3",
   "version": "3.10.8"
  }
 },
 "nbformat": 4,
 "nbformat_minor": 5
}
