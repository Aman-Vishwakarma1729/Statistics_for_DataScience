{
 "cells": [
  {
   "cell_type": "markdown",
   "id": "79c1e497-e902-4c8f-84f1-871cb2de0256",
   "metadata": {},
   "source": [
    "#### Answer_1"
   ]
  },
  {
   "cell_type": "markdown",
   "id": "ad03609e-da51-4512-9606-3456e8d023d3",
   "metadata": {},
   "source": [
    "##### >> The Probability Mass Function (PMF) and Probability Density Function (PDF) are mathematical functions used in probability theory to describe the probability distribution of a discrete random variable and a continuous random variable, respectively.\n",
    "\n",
    "|                 PMF                 |                  PDF                   | \n",
    "|-------------------------------------|----------------------------------------|\n",
    "| A Probability Mass Function (PMF) is used to describe the probability distribution of a discrete random variable. It assigns a probability to each possible outcome of a random variable. In other words, it gives the probability of the discrete variable taking a certain value. | Probability Density Function (PDF) is used to describe the probability distribution of a continuous random variable. It gives the relative likelihood of a continuous variable taking on a certain value within a given range of values.|\n",
    "| Example: For example, consider a random variable X that represents the number of heads obtained when a fair coin is tossed three times. The possible outcomes are 0, 1, 2, and 3. The PMF of X is given by:\n",
    "P(X=0) = 1/8\n",
    "P(X=1) = 3/8\n",
    "P(X=2) = 3/8\n",
    "P(X=3) = 1/8\n",
    "Here, the PMF tells us that the probability of getting zero heads is 1/8, the probability of getting one head is 3/8, the probability of getting two heads is 3/8, and the probability of getting three heads is 1/8. | For example, consider a random variable Y that represents the height of students in a classroom. The PDF of Y could be a normal distribution, given by:                                      f(y) = (1 / sqrt(2πσ^2)) * exp(-(y-μ)^2 / 2σ^2) |"
   ]
  },
  {
   "cell_type": "markdown",
   "id": "ae5cafc9-5ba3-4e80-baa5-e0fbfdfa7a40",
   "metadata": {},
   "source": [
    "#### Answer_2"
   ]
  },
  {
   "cell_type": "markdown",
   "id": "39c4d2c9-f0f2-45b2-a7e9-56d269f64115",
   "metadata": {},
   "source": [
    "##### A Cumulative Density Function (CDF) is a mathematical function that describes the cumulative probability of a random variable taking on a value less than or equal to a specific value. In other words, it gives the probability that a random variable is less than or equal to a given value.\n",
    "\n",
    "##### For a discrete random variable X, the CDF is defined as:\n",
    "\n",
    "#### F(x) = P(X ≤ x)\n",
    "\n",
    "##### For a continuous random variable Y, the CDF is defined as:\n",
    "\n",
    "#### F(y) = ∫f(t)dt (from -∞ to y)\n",
    "\n",
    "##### where f(y) is the Probability Density Function (PDF) of Y.\n",
    "\n",
    "##### The CDF is used to understand the overall distribution of a random variable and its probabilities. It can be used to find the probability of a random variable taking on a value within a certain range or between two specific values. The CDF is also useful in generating other statistical measures such as median, quartiles, and percentiles.\n",
    "\n",
    "##### As an example, consider a random variable X that represents the number of hours a student spends studying for an exam. Suppose the probability distribution of X is given by:\n",
    "\n",
    "#### X = {0, 1, 2, 3, 4}\n",
    "#### P(X = 0) = 0.2\n",
    "#### P(X = 1) = 0.3\n",
    "#### P(X = 2) = 0.25\n",
    "#### P(X = 3) = 0.15\n",
    "#### P(X = 4) = 0.1\n",
    "\n",
    "##### The CDF of X is then given by:\n",
    "\n",
    "#### F(x) = P(X ≤ x)\n",
    "\n",
    "#### F(0) = P(X ≤ 0) = 0.2\n",
    "#### F(1) = P(X ≤ 1) = 0.5\n",
    "#### F(2) = P(X ≤ 2) = 0.75\n",
    "#### F(3) = P(X ≤ 3) = 0.9\n",
    "#### F(4) = P(X ≤ 4) = 1\n",
    "\n",
    "##### Here, the CDF tells us that the probability that a student spends less than or equal to 1 hour studying for the exam is 0.5, while the probability that a student spends less than or equal to 3 hours is 0.9. The CDF also indicates that the probability that a student spends exactly 2 hours studying is 0.25-0.2 = 0.05, and the probability that a student spends between 2 and 4 hours studying is 0.9-0.75 = 0.15."
   ]
  },
  {
   "cell_type": "markdown",
   "id": "23c91618-6892-4cfb-aa8d-61bcffece095",
   "metadata": {},
   "source": [
    "#### Answer_3"
   ]
  },
  {
   "cell_type": "markdown",
   "id": "0eb43e0b-7e88-451f-a0aa-47a274024e7c",
   "metadata": {},
   "source": [
    "##### The normal distribution is a probability distribution that is commonly used as a model for real-world situations. Here are some examples of situations where the normal distribution might be used as a model:\n",
    "\n",
    "##### 1) Heights and weights of people: The distribution of heights and weights in a population can often be modeled using the normal distribution.\n",
    "\n",
    "##### 2) Test scores: The distribution of test scores in a large population of students can often be modeled using the normal distribution.\n",
    "\n",
    "##### 3) Measurement errors: The distribution of measurement errors in a scientific experiment can often be modeled using the normal distribution.\n",
    "\n",
    "##### 4) Financial data: The returns of a portfolio of stocks or bonds can often be modeled using the normal distribution.\n",
    "\n",
    "##### The normal distribution is characterized by two parameters: the mean (μ) and the standard deviation (σ). The mean is the average value of the distribution, and the standard deviation is a measure of the spread of the distribution.\n",
    "\n",
    "##### The shape of the normal distribution is determined by the mean and the standard deviation. The mean specifies the center of the distribution, and the standard deviation specifies how spread out the distribution is. A larger standard deviation results in a flatter and wider distribution, while a smaller standard deviation results in a more peaked and narrow distribution.\n",
    "\n",
    "##### The normal distribution is symmetric around its mean, which means that the probability of observing a value to the left of the mean is equal to the probability of observing a value to the right of the mean. The total area under the curve of the normal distribution is equal to 1, which means that the probability of observing any value within the distribution is equal to 1."
   ]
  },
  {
   "cell_type": "markdown",
   "id": "1663a756-0227-4cf8-bf77-068009afea40",
   "metadata": {},
   "source": [
    "#### Answer_4"
   ]
  },
  {
   "cell_type": "markdown",
   "id": "c1495a40-25de-475c-929b-e7cd2bb3093c",
   "metadata": {},
   "source": [
    "##### Normal distribution, also known as Gaussian distribution, is a probability distribution that is widely used in statistics and many other fields. It is important because it describes the distribution of many real-world phenomena, and it has several properties that make it easy to work with mathematically.\n",
    "\n",
    "##### One of the main reasons why normal distribution is so important is the central limit theorem, which states that the sum or average of a large number of independent and identically distributed random variables will be approximately normally distributed, regardless of the underlying distribution of the individual variables. This theorem is used in many statistical applications, such as hypothesis testing, confidence intervals, and regression analysis.\n",
    "\n",
    "##### Some real-life examples of normal distribution include:\n",
    "\n",
    "##### 1] Height: The heights of a large group of people are typically normally distributed, with most people being close to the mean height and fewer people being much taller or shorter.\n",
    "\n",
    "##### 2] Test scores: In a well-designed exam, the scores of students are often normally distributed, with most students scoring close to the mean score and fewer students scoring much higher or lower.\n",
    "\n",
    "##### 3] Weight: The weights of a large group of objects or animals are typically normally distributed, with most objects or animals being close to the mean weight and fewer objects or animals being much lighter or heavier.\n",
    "\n",
    "##### 4] Errors in measurement: When measuring physical quantities, such as length or temperature, there are often small errors introduced by the measuring instruments or methods. These errors are often normally distributed, with most errors being close to zero and fewer errors being much larger.\n",
    "\n",
    "##### 5] Financial returns: In finance, the returns of stocks, bonds, or other assets are often assumed to be normally distributed, which allows analysts to estimate the probability of various outcomes and make informed investment decisions.\n",
    "\n",
    "##### Overall, the normal distribution is an essential tool for understanding and analyzing a wide range of phenomena, from the physical world to the social and economic domains."
   ]
  },
  {
   "cell_type": "markdown",
   "id": "2041e229-30df-4d83-8d6a-73045647e1d4",
   "metadata": {},
   "source": [
    "#### Amswer_5"
   ]
  },
  {
   "cell_type": "markdown",
   "id": "9cb7819c-04be-4660-97e5-38b95c6adfc2",
   "metadata": {},
   "source": [
    "##### Bernoulli distribution is a discrete probability distribution that models a random variable that can take only two possible outcomes, typically labeled as success and failure, with probabilities p and 1-p respectively. The distribution is named after Swiss mathematician Jacob Bernoulli, who introduced it in his book Ars Conjectandi in 1713.\n",
    "\n",
    "##### An example of a Bernoulli distribution is flipping a coin, where the probability of getting heads is p, and the probability of getting tails is 1-p. Another example is a single trial of a medical test, where the outcome can be positive (success) or negative (failure) with a certain probability.\n",
    "\n",
    "##### The probability mass function (PMF) of a Bernoulli distribution is given by:\n",
    "\n",
    "#### P(X = 1) = p\n",
    "#### P(X = 0) = 1 - p\n",
    "\n",
    "##### Where X is a random variable that takes on the value 1 with probability p (success) and 0 with probability 1-p (failure).\n",
    "\n",
    "###### The difference between the Bernoulli distribution and the binomial distribution is that the Bernoulli distribution models a single trial with two possible outcomes, while the binomial distribution models a sequence of n independent and identical Bernoulli trials, each with probability of success p. The binomial distribution describes the number of successes in n trials, where each trial has a fixed probability of success p.\n",
    "\n",
    "##### The probability mass function of the binomial distribution is given by:\n",
    "\n",
    "#### P(X = k) = (n choose k) * p^k * (1-p)^(n-k)\n",
    "\n",
    "###### Where X is a random variable that represents the number of successes in n independent and identical Bernoulli trials, and k is the number of successes."
   ]
  },
  {
   "cell_type": "markdown",
   "id": "dd17e346-a73f-431a-8edf-5908802656af",
   "metadata": {},
   "source": [
    "#### Answer_6"
   ]
  },
  {
   "cell_type": "code",
   "execution_count": 4,
   "id": "b1c10b03-3909-4e70-ba01-5f5722a49428",
   "metadata": {},
   "outputs": [],
   "source": [
    "mean = 50\n",
    "standard_Deviation = 10\n",
    "\n",
    "## Dataset is nomrally distributed\n",
    "## P(X > 60) = ?\n",
    "## X --> N(50,60)\n",
    "## Using Z-score\n",
    "## When X = 60, Z = ?\n",
    "## Z =(X - mean)/standard_deivation\n",
    "## Z --> N(0,1)\n",
    "\n",
    "Z = (60-50)/10\n",
    "Z = 1\n",
    "\n",
    "## P(X > 60) = P(Z>1) = 1 - P(Z=1) = 1 - 0.8413 = 0.15869999999999995\n"
   ]
  },
  {
   "cell_type": "markdown",
   "id": "18c3d405-706b-4902-9b8b-01658c9d22a3",
   "metadata": {},
   "source": [
    "#### Answer_7"
   ]
  },
  {
   "cell_type": "markdown",
   "id": "8fd6cced-c724-49f4-895b-d70684f24d4a",
   "metadata": {},
   "source": [
    "##### Uniform distribution is a probability distribution in which all values in a given range are equally likely to occur. In other words, it is a type of probability distribution in which all possible outcomes are equally likely.\n",
    "\n",
    "##### For example, let's consider rolling a fair six-sided die. The probability of getting any one of the numbers (1, 2, 3, 4, 5, or 6) is equally likely, and thus, the distribution of the possible outcomes is uniform.\n",
    "\n",
    "##### Another example of a uniform distribution could be the probability of randomly selecting a card from a standard deck of 52 cards. Since there are 4 suits (clubs, diamonds, hearts, and spades) with 13 cards each (Ace, 2, 3, 4, 5, 6, 7, 8, 9, 10, Jack, Queen, and King), each card has an equal chance of being selected, and thus, the distribution of possible outcomes is uniform.\n",
    "\n",
    "##### Uniform distribution is often used in simulations and modeling, as well as in statistical analysis and machine learning applications."
   ]
  },
  {
   "cell_type": "markdown",
   "id": "216b5393-cc5e-4604-b42c-e73a991e2205",
   "metadata": {},
   "source": [
    "#### Answer_8"
   ]
  },
  {
   "cell_type": "markdown",
   "id": "17c8e3cf-f520-4037-beb8-cfe7513cae84",
   "metadata": {},
   "source": [
    "##### The z-score (also called standard score) is a measure of how many standard deviations a data point is away from the mean of a distribution. It is calculated by subtracting the population mean from the observed value and then dividing by the population standard deviation. Mathematically, the formula for z-score is:\n",
    "\n",
    "#### z = (x - μ) / σ\n",
    "\n",
    "##### where x is the observed value, μ is the population mean, and σ is the population standard deviation.\n",
    "\n",
    "##### The importance of the z-score lies in its ability to standardize data across different distributions, making it easier to compare values from different datasets. By converting raw data to z-scores, we can transform different distributions to a common standard normal distribution with a mean of 0 and a standard deviation of 1. This standardization helps in making meaningful comparisons and drawing conclusions from the data.\n",
    "\n",
    "##### The z-score is also used in hypothesis testing, where it helps to determine the probability of observing a certain value or set of values based on the standard normal distribution. By calculating the z-score of a sample mean, we can determine the likelihood of that sample mean occurring by chance, which helps to make inferences about the population mean.\n",
    "\n",
    "##### In addition, the z-score is useful in identifying outliers in a dataset, which are values that are significantly different from the rest of the data. A z-score above a certain threshold can indicate an outlier in the dataset."
   ]
  },
  {
   "cell_type": "markdown",
   "id": "e95d1b70-7da1-4981-af18-65367a49f23d",
   "metadata": {},
   "source": [
    "#### Answer_9"
   ]
  },
  {
   "cell_type": "markdown",
   "id": "0b8e9753-d309-4aea-ba44-8544b44e2564",
   "metadata": {},
   "source": [
    "##### The Central Limit Theorem is a fundamental concept in statistics that states that when independent random variables are added together, their sum will tend towards a normal distribution, regardless of the underlying distribution of the individual random variables.\n",
    "\n",
    "##### In other words, if we take a large number of random samples from any distribution with a finite mean and variance, and add them together, the resulting distribution of the sum will be approximately normal, even if the original distribution is not normal.\n",
    "\n",
    "##### The significance of the Central Limit Theorem is that it provides a foundation for many statistical methods that assume normally distributed data. It also allows us to make inferences about a population from a sample, by using the sample mean and standard deviation to estimate the population mean and standard deviation.\n",
    "\n",
    "##### Furthermore, the Central Limit Theorem has important practical applications in fields such as finance, physics, engineering, and social sciences, where it is often used to model real-world phenomena and make predictions based on data."
   ]
  },
  {
   "cell_type": "markdown",
   "id": "4c11341a-71ee-4c64-9ab8-414cc268e5e5",
   "metadata": {},
   "source": [
    "#### Answer_10"
   ]
  },
  {
   "cell_type": "markdown",
   "id": "7d059f34-5729-4ddd-84c0-f8ca16c34248",
   "metadata": {},
   "source": [
    "##### 1] Independence: The random variables being added together must be independent of each other.\n",
    "\n",
    "##### 2] Finite variance: Each random variable in the sample must have a finite variance.\n",
    "\n",
    "##### 3] Identical distribution: Each random variable must be drawn from the same probability distribution.\n",
    "\n",
    "##### 4] Sample size: The sample size must be large enough for the Central Limit Theorem to hold, typically n > 30."
   ]
  },
  {
   "cell_type": "code",
   "execution_count": null,
   "id": "a625c1c3-59a0-4d8d-8161-b4f0cc241fca",
   "metadata": {},
   "outputs": [],
   "source": []
  },
  {
   "cell_type": "code",
   "execution_count": null,
   "id": "fd34ca4a-ebd4-4c30-a63f-8a76a558deae",
   "metadata": {},
   "outputs": [],
   "source": []
  },
  {
   "cell_type": "code",
   "execution_count": null,
   "id": "837ea9dd-e157-4a68-a1c2-ef93ed5842af",
   "metadata": {},
   "outputs": [],
   "source": []
  },
  {
   "cell_type": "code",
   "execution_count": null,
   "id": "86896e25-22d3-48db-81fe-b4db05545b2c",
   "metadata": {},
   "outputs": [],
   "source": []
  },
  {
   "cell_type": "code",
   "execution_count": null,
   "id": "abd31b0d-491c-498c-a339-4fa249232cc5",
   "metadata": {},
   "outputs": [],
   "source": []
  },
  {
   "cell_type": "code",
   "execution_count": null,
   "id": "5498345c-f226-4811-8b59-ebfc90e92856",
   "metadata": {},
   "outputs": [],
   "source": []
  },
  {
   "cell_type": "code",
   "execution_count": null,
   "id": "da11c0df-29e1-47e4-9b43-f305676f3479",
   "metadata": {},
   "outputs": [],
   "source": []
  },
  {
   "cell_type": "code",
   "execution_count": null,
   "id": "ed6916a3-19d8-4228-a1bb-28ae0aaf6dcb",
   "metadata": {},
   "outputs": [],
   "source": []
  },
  {
   "cell_type": "code",
   "execution_count": null,
   "id": "2a04be2a-2714-43e2-8f21-4f8def0466c7",
   "metadata": {},
   "outputs": [],
   "source": []
  },
  {
   "cell_type": "code",
   "execution_count": null,
   "id": "64b98d2a-74d1-4b18-963d-15d57fae4fac",
   "metadata": {},
   "outputs": [],
   "source": []
  },
  {
   "cell_type": "code",
   "execution_count": null,
   "id": "fc5cf02e-54d5-48bf-b27d-aa36f44da438",
   "metadata": {},
   "outputs": [],
   "source": []
  },
  {
   "cell_type": "code",
   "execution_count": null,
   "id": "7a4acde0-c1f2-4430-ab0a-71953f996bb3",
   "metadata": {},
   "outputs": [],
   "source": []
  },
  {
   "cell_type": "code",
   "execution_count": null,
   "id": "4c7c27a2-108a-40f8-8fbf-3738f23a84f7",
   "metadata": {},
   "outputs": [],
   "source": []
  },
  {
   "cell_type": "code",
   "execution_count": null,
   "id": "db6691f0-61fb-4217-aa33-c6d973dd1c6f",
   "metadata": {},
   "outputs": [],
   "source": []
  },
  {
   "cell_type": "code",
   "execution_count": null,
   "id": "c451c483-f7a1-456d-afa3-8270b436f4f8",
   "metadata": {},
   "outputs": [],
   "source": []
  },
  {
   "cell_type": "code",
   "execution_count": null,
   "id": "02941b6d-1200-4ed3-8620-62e89aeaed0d",
   "metadata": {},
   "outputs": [],
   "source": []
  },
  {
   "cell_type": "code",
   "execution_count": null,
   "id": "cae3b77c-d464-4853-a678-59a47c042d02",
   "metadata": {},
   "outputs": [],
   "source": []
  },
  {
   "cell_type": "code",
   "execution_count": null,
   "id": "a606be70-def8-4d2c-9e54-29f3b131521c",
   "metadata": {},
   "outputs": [],
   "source": []
  },
  {
   "cell_type": "code",
   "execution_count": null,
   "id": "acd9ae67-1b38-454e-8dfe-6eaa1c0cf502",
   "metadata": {},
   "outputs": [],
   "source": []
  },
  {
   "cell_type": "code",
   "execution_count": null,
   "id": "38d477db-e5be-483e-90c8-ec5dfc713a46",
   "metadata": {},
   "outputs": [],
   "source": []
  },
  {
   "cell_type": "code",
   "execution_count": null,
   "id": "5470e363-ad7d-453d-8660-b6d47580dc6f",
   "metadata": {},
   "outputs": [],
   "source": []
  },
  {
   "cell_type": "code",
   "execution_count": null,
   "id": "ca3e011d-aab4-49b4-8e12-266a930cc736",
   "metadata": {},
   "outputs": [],
   "source": []
  },
  {
   "cell_type": "code",
   "execution_count": null,
   "id": "ce1bb903-a04e-4266-96cc-8dc8206c635f",
   "metadata": {},
   "outputs": [],
   "source": []
  },
  {
   "cell_type": "code",
   "execution_count": null,
   "id": "1d3302cc-f6d8-4210-8f5e-ea21111112bd",
   "metadata": {},
   "outputs": [],
   "source": []
  },
  {
   "cell_type": "code",
   "execution_count": null,
   "id": "6c0d8849-ea22-4233-9845-1db0b0054b6b",
   "metadata": {},
   "outputs": [],
   "source": []
  },
  {
   "cell_type": "code",
   "execution_count": null,
   "id": "681ed5d3-763d-4596-9c73-ed917ac19d45",
   "metadata": {},
   "outputs": [],
   "source": []
  },
  {
   "cell_type": "code",
   "execution_count": null,
   "id": "827257f3-072f-4f1c-9aef-9840718c31ba",
   "metadata": {},
   "outputs": [],
   "source": []
  },
  {
   "cell_type": "code",
   "execution_count": null,
   "id": "21cacf81-f6f5-455c-b137-c8a974954b74",
   "metadata": {},
   "outputs": [],
   "source": []
  },
  {
   "cell_type": "code",
   "execution_count": null,
   "id": "4ef756bd-fe35-46bf-baf0-0322eebf3972",
   "metadata": {},
   "outputs": [],
   "source": []
  },
  {
   "cell_type": "code",
   "execution_count": null,
   "id": "e94f80d5-a23e-422f-a4c7-dc1f26331c30",
   "metadata": {},
   "outputs": [],
   "source": []
  },
  {
   "cell_type": "code",
   "execution_count": null,
   "id": "eef7d1b2-6dde-4d9a-9505-7bc8457d9116",
   "metadata": {},
   "outputs": [],
   "source": []
  },
  {
   "cell_type": "code",
   "execution_count": null,
   "id": "8aad3010-e9e1-4dc2-b208-e80157d3e8e6",
   "metadata": {},
   "outputs": [],
   "source": []
  },
  {
   "cell_type": "code",
   "execution_count": null,
   "id": "bc8034f2-75d7-4cd5-9ceb-87df806cbcb2",
   "metadata": {},
   "outputs": [],
   "source": []
  },
  {
   "cell_type": "code",
   "execution_count": null,
   "id": "e8ea9267-911e-4467-9bcf-24f6ab1010f8",
   "metadata": {},
   "outputs": [],
   "source": []
  },
  {
   "cell_type": "code",
   "execution_count": null,
   "id": "697ae8bc-1bfb-4472-9f4b-863d4204ce6b",
   "metadata": {},
   "outputs": [],
   "source": []
  },
  {
   "cell_type": "code",
   "execution_count": null,
   "id": "67aae78f-3721-4271-8207-873643198eda",
   "metadata": {},
   "outputs": [],
   "source": []
  },
  {
   "cell_type": "code",
   "execution_count": null,
   "id": "2f0ee837-6815-4a54-837b-56f96d766a37",
   "metadata": {},
   "outputs": [],
   "source": []
  },
  {
   "cell_type": "code",
   "execution_count": null,
   "id": "e8492b8b-0be3-4d5e-b570-111996ae5a76",
   "metadata": {},
   "outputs": [],
   "source": []
  },
  {
   "cell_type": "code",
   "execution_count": null,
   "id": "bbe67cf4-e145-40ea-8f3c-cce0fca045e7",
   "metadata": {},
   "outputs": [],
   "source": []
  },
  {
   "cell_type": "code",
   "execution_count": null,
   "id": "93855f4b-aef1-49ab-b0fd-0264fad5f60a",
   "metadata": {},
   "outputs": [],
   "source": []
  },
  {
   "cell_type": "code",
   "execution_count": null,
   "id": "2a68da12-9c94-4632-b01c-f762e8fd0a23",
   "metadata": {},
   "outputs": [],
   "source": []
  },
  {
   "cell_type": "code",
   "execution_count": null,
   "id": "ba18ac40-da4f-4664-bf6b-06308ee76ca9",
   "metadata": {},
   "outputs": [],
   "source": []
  },
  {
   "cell_type": "code",
   "execution_count": null,
   "id": "cbc6c8dc-a130-48ff-b650-4ac302a052f7",
   "metadata": {},
   "outputs": [],
   "source": []
  },
  {
   "cell_type": "code",
   "execution_count": null,
   "id": "b9b465a3-f0a3-4f2e-9c53-bd326f97ff76",
   "metadata": {},
   "outputs": [],
   "source": []
  },
  {
   "cell_type": "code",
   "execution_count": null,
   "id": "37e950a6-5634-46e1-98b2-fd9209df1572",
   "metadata": {},
   "outputs": [],
   "source": []
  },
  {
   "cell_type": "code",
   "execution_count": null,
   "id": "888c7153-c166-4c30-84b7-89d578762454",
   "metadata": {},
   "outputs": [],
   "source": []
  },
  {
   "cell_type": "code",
   "execution_count": null,
   "id": "5ebafcef-d412-419a-9bfc-d3134117935f",
   "metadata": {},
   "outputs": [],
   "source": []
  },
  {
   "cell_type": "code",
   "execution_count": null,
   "id": "4cb5aa46-8878-4d8c-801c-d84275d6d680",
   "metadata": {},
   "outputs": [],
   "source": []
  },
  {
   "cell_type": "code",
   "execution_count": null,
   "id": "bc2283d0-b8f5-4e50-be9a-5dd8213ee9e7",
   "metadata": {},
   "outputs": [],
   "source": []
  },
  {
   "cell_type": "code",
   "execution_count": null,
   "id": "cfd1b1f2-733e-4a8a-b21a-da6a5527ca20",
   "metadata": {},
   "outputs": [],
   "source": []
  },
  {
   "cell_type": "code",
   "execution_count": null,
   "id": "f8833055-d5a3-438d-aab4-f4179ca88b81",
   "metadata": {},
   "outputs": [],
   "source": []
  },
  {
   "cell_type": "code",
   "execution_count": null,
   "id": "8384b00f-a4e1-43b7-85e2-de944ba6d261",
   "metadata": {},
   "outputs": [],
   "source": []
  },
  {
   "cell_type": "code",
   "execution_count": null,
   "id": "333e3ba8-38bd-4375-a0e6-404d8ed19c46",
   "metadata": {},
   "outputs": [],
   "source": []
  },
  {
   "cell_type": "code",
   "execution_count": null,
   "id": "75f927f3-a708-4212-bf2e-009a2f7c6821",
   "metadata": {},
   "outputs": [],
   "source": []
  },
  {
   "cell_type": "code",
   "execution_count": null,
   "id": "0d4cb06c-23c7-4ec9-939a-2d7f9012978f",
   "metadata": {},
   "outputs": [],
   "source": []
  },
  {
   "cell_type": "code",
   "execution_count": null,
   "id": "c74232cb-4d50-45aa-bde5-09dbecc7e757",
   "metadata": {},
   "outputs": [],
   "source": []
  },
  {
   "cell_type": "code",
   "execution_count": null,
   "id": "e38f1823-6910-4936-a244-78450a661f75",
   "metadata": {},
   "outputs": [],
   "source": []
  },
  {
   "cell_type": "code",
   "execution_count": null,
   "id": "6eda40ab-46c0-495d-833d-0ea993173100",
   "metadata": {},
   "outputs": [],
   "source": []
  },
  {
   "cell_type": "code",
   "execution_count": null,
   "id": "269b4008-6215-4f7c-aa7a-a679359d1f63",
   "metadata": {},
   "outputs": [],
   "source": []
  },
  {
   "cell_type": "code",
   "execution_count": null,
   "id": "c22b2d31-8b01-4c43-bf66-601192e1b2f9",
   "metadata": {},
   "outputs": [],
   "source": []
  },
  {
   "cell_type": "code",
   "execution_count": null,
   "id": "1a3a938e-8db5-4744-8361-c2815353b8f9",
   "metadata": {},
   "outputs": [],
   "source": []
  },
  {
   "cell_type": "code",
   "execution_count": null,
   "id": "12f58e95-8b35-4985-8ff2-eb33a113860b",
   "metadata": {},
   "outputs": [],
   "source": []
  },
  {
   "cell_type": "code",
   "execution_count": null,
   "id": "e331a111-d475-4456-8500-0a2abda859b9",
   "metadata": {},
   "outputs": [],
   "source": []
  },
  {
   "cell_type": "code",
   "execution_count": null,
   "id": "045b9c9a-a929-4f26-8e77-17d6254246bd",
   "metadata": {},
   "outputs": [],
   "source": []
  },
  {
   "cell_type": "code",
   "execution_count": null,
   "id": "692cb26a-db11-4184-afee-99c440f562aa",
   "metadata": {},
   "outputs": [],
   "source": []
  },
  {
   "cell_type": "code",
   "execution_count": null,
   "id": "be2c6c70-45d4-4eeb-8c40-1bcbde2666d6",
   "metadata": {},
   "outputs": [],
   "source": []
  },
  {
   "cell_type": "code",
   "execution_count": null,
   "id": "39887fff-9d1d-43a5-8d4c-bfe10e0d9a34",
   "metadata": {},
   "outputs": [],
   "source": []
  },
  {
   "cell_type": "code",
   "execution_count": null,
   "id": "d8c4bea2-bf9d-4e17-9818-3cd6349de016",
   "metadata": {},
   "outputs": [],
   "source": []
  },
  {
   "cell_type": "code",
   "execution_count": null,
   "id": "3d2bacbf-68f2-4604-9502-38f0f3af5fa5",
   "metadata": {},
   "outputs": [],
   "source": []
  },
  {
   "cell_type": "code",
   "execution_count": null,
   "id": "39dfc2bc-da65-4b06-b6d7-7a7a778a78f7",
   "metadata": {},
   "outputs": [],
   "source": []
  },
  {
   "cell_type": "code",
   "execution_count": null,
   "id": "bb36cb0b-9dcd-48a8-8b65-8fc347468cb1",
   "metadata": {},
   "outputs": [],
   "source": []
  },
  {
   "cell_type": "code",
   "execution_count": null,
   "id": "596d20aa-971f-46cc-a6d3-935fa17d21d1",
   "metadata": {},
   "outputs": [],
   "source": []
  },
  {
   "cell_type": "code",
   "execution_count": null,
   "id": "f3579d60-20b8-460d-b3e8-de584678855e",
   "metadata": {},
   "outputs": [],
   "source": []
  },
  {
   "cell_type": "code",
   "execution_count": null,
   "id": "75bc5042-e83e-463c-8385-81d5df107e80",
   "metadata": {},
   "outputs": [],
   "source": []
  },
  {
   "cell_type": "code",
   "execution_count": null,
   "id": "33a59e43-55ef-4f27-b813-baf59080a779",
   "metadata": {},
   "outputs": [],
   "source": []
  },
  {
   "cell_type": "code",
   "execution_count": null,
   "id": "4f09356f-b675-46ea-965a-b525e6b9127c",
   "metadata": {},
   "outputs": [],
   "source": []
  },
  {
   "cell_type": "code",
   "execution_count": null,
   "id": "042686d4-8d91-4cf3-ba3c-d843dcdf1c0c",
   "metadata": {},
   "outputs": [],
   "source": []
  },
  {
   "cell_type": "code",
   "execution_count": null,
   "id": "14f360de-4924-48d4-9890-c1418b893edf",
   "metadata": {},
   "outputs": [],
   "source": []
  },
  {
   "cell_type": "code",
   "execution_count": null,
   "id": "2c171593-6073-4a1b-a3de-676c379ce6da",
   "metadata": {},
   "outputs": [],
   "source": []
  },
  {
   "cell_type": "code",
   "execution_count": null,
   "id": "ec8a3970-6b1b-44ea-98b2-461c1d77a2e2",
   "metadata": {},
   "outputs": [],
   "source": []
  },
  {
   "cell_type": "code",
   "execution_count": null,
   "id": "1b177fb7-cbb8-45b4-bea7-bc0cba0ca46d",
   "metadata": {},
   "outputs": [],
   "source": []
  },
  {
   "cell_type": "code",
   "execution_count": null,
   "id": "0e325f77-899a-4c7a-9141-08598a15e3d5",
   "metadata": {},
   "outputs": [],
   "source": []
  },
  {
   "cell_type": "code",
   "execution_count": null,
   "id": "5152a0d4-79c1-437b-aa92-1900c96f6241",
   "metadata": {},
   "outputs": [],
   "source": []
  },
  {
   "cell_type": "code",
   "execution_count": null,
   "id": "1da81d97-9e49-4214-8b4c-b6d584339a3a",
   "metadata": {},
   "outputs": [],
   "source": []
  },
  {
   "cell_type": "code",
   "execution_count": null,
   "id": "0b348887-b7c8-4343-8ee7-ae9b5fc3f716",
   "metadata": {},
   "outputs": [],
   "source": []
  }
 ],
 "metadata": {
  "kernelspec": {
   "display_name": "Python 3 (ipykernel)",
   "language": "python",
   "name": "python3"
  },
  "language_info": {
   "codemirror_mode": {
    "name": "ipython",
    "version": 3
   },
   "file_extension": ".py",
   "mimetype": "text/x-python",
   "name": "python",
   "nbconvert_exporter": "python",
   "pygments_lexer": "ipython3",
   "version": "3.10.8"
  }
 },
 "nbformat": 4,
 "nbformat_minor": 5
}
