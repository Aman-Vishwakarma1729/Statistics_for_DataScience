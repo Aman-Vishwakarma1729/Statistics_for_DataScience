{
 "cells": [
  {
   "cell_type": "markdown",
   "id": "32f9c1f8-f2ec-4d04-afae-69e73b08940b",
   "metadata": {},
   "source": [
    "#### Answer_1"
   ]
  },
  {
   "cell_type": "code",
   "execution_count": 1,
   "id": "d18c841c-07f8-4665-abfa-f4ccf08aa305",
   "metadata": {},
   "outputs": [
    {
     "name": "stdin",
     "output_type": "stream",
     "text": [
      "Enter the sample size 200\n"
     ]
    },
    {
     "name": "stdout",
     "output_type": "stream",
     "text": [
      "Confifence interval is: (49.30703535443718,50.69296464556282)\n"
     ]
    }
   ],
   "source": [
    "import scipy.stats as stat\n",
    "\n",
    "\n",
    "sample_mean = 50\n",
    "sample_SD = 5\n",
    "sample_size = int(input('Enter the sample size'))\n",
    "confidence_interval = 0.95\n",
    "significance_level = 0.05\n",
    "\n",
    "margin_of_error = 1.96*(sample_SD/(sample_size**0.5))\n",
    "\n",
    "lower_bound = sample_mean - margin_of_error\n",
    "upper_bound = sample_mean + margin_of_error\n",
    "\n",
    "print(f'Confifence interval is: ({lower_bound},{upper_bound })')\n",
    "\n"
   ]
  },
  {
   "cell_type": "markdown",
   "id": "bddb3474-abe5-496a-b3ec-1673ed5616b2",
   "metadata": {},
   "source": [
    "#### Answer_2"
   ]
  },
  {
   "cell_type": "code",
   "execution_count": 4,
   "id": "0ed44018-8c35-4b01-92b1-0dda99438c38",
   "metadata": {},
   "outputs": [
    {
     "name": "stdin",
     "output_type": "stream",
     "text": [
      "Enter the observed frequency for M&M colour in bag of color Blue 23\n",
      "Enter the observed frequency for M&M colour in bag of color Orange 45\n",
      "Enter the observed frequency for M&M colour in bag of color Green 67\n",
      "Enter the observed frequency for M&M colour in bag of color Yellow 54\n",
      "Enter the observed frequency for M&M colour in bag of color Red 32\n",
      "Enter the observed frequency for M&M colour in bag of color Brown 45\n"
     ]
    },
    {
     "name": "stdout",
     "output_type": "stream",
     "text": [
      "Fail to accept null hypothesis The distribution of colors of M&Ms in the bag do not matches the expected distribution\n"
     ]
    }
   ],
   "source": [
    "import numpy as np\n",
    "import scipy.stats as stat\n",
    "import pandas as pd\n",
    "\n",
    "Null_Hypothesis =  \"The distribution of colors of M&Ms in the bag matches the expected distribution\"\n",
    "Alternate_Hypothesis = \"The distribution of colors of M&Ms in the bag do not matches the expected distribution\"\n",
    "\n",
    "colour = np.array(['Blue','Orange','Green','Yellow','Red','Brown'])\n",
    "\n",
    "obs_fre = []\n",
    "for i in colour:\n",
    "    fre = input(f'Enter the observed frequency for M&M colour in bag of color {i}')\n",
    "    obs_fre.append(int(fre))\n",
    "\n",
    "observed_frequency = np.array(obs_fre)\n",
    "expected_frequency = np.array([0.2,0.2,0.2,0.1,0.1,0.2])*sum(observed_frequency)\n",
    "\n",
    "df = pd.DataFrame({\n",
    "    'colours' : colour,\n",
    "    'observed_freq' : observed_frequency,\n",
    "    'expected_freq' : expected_frequency \n",
    "})\n",
    "\n",
    "chi_squ_statistic,p_value = stat.chisquare(observed_frequency,expected_frequency)\n",
    "\n",
    "significance_value = 0.05\n",
    "deg_of_freedom = len(colour)-1\n",
    "critical_value = stat.chi2.ppf(1-significance_value,deg_of_freedom )\n",
    "\n",
    "if chi_squ_statistic < critical_value :\n",
    "    print(\"Accept the null hypothesis :\", Null_Hypothesis )\n",
    "else:\n",
    "    print(\"Fail to accept null hypothesis\" , Alternate_Hypothesis)\n"
   ]
  },
  {
   "cell_type": "markdown",
   "id": "6f736a29-5fec-4a8d-bef9-9773023ac6a1",
   "metadata": {},
   "source": [
    "#### Answer_3"
   ]
  },
  {
   "cell_type": "code",
   "execution_count": 8,
   "id": "28b02972-bc11-4a38-8599-fe10e0a4e0f4",
   "metadata": {},
   "outputs": [
    {
     "name": "stdout",
     "output_type": "stream",
     "text": [
      "<class 'ValueError'> For each axis slice, the sum of the observed frequencies must agree with the sum of the expected frequencies to a relative tolerance of 1e-08, but the percent differences are:\n",
      "0.3333333333333333\n"
     ]
    }
   ],
   "source": [
    "import numpy as np\n",
    "import scipy.stats as stat\n",
    "import pandas as pd\n",
    "\n",
    "try:\n",
    "    Group_A = np.array([20,10,15])\n",
    "    Group_B = np.array([15,25,20])\n",
    "\n",
    "    df = pd.DataFrame({\n",
    "    \n",
    "    'Group A' : Group_A,\n",
    "    'Group B' : Group_B \n",
    "    } , index = [\"outcome 1\",\"outcome 2\",\"outcome 3\"])\n",
    "\n",
    "    chi_squ_statistic,p_value = stat.chisquare(Group_A,Group_B)\n",
    "\n",
    "    print(f'chi_squ_statistic: {chi_squ_statistic}, p-vaulue : {p_value}' )\n",
    "except Exception as e:\n",
    "    print(ValueError , e)\n"
   ]
  },
  {
   "cell_type": "markdown",
   "id": "f158cb76-7e99-470f-be85-c183f3329ff5",
   "metadata": {},
   "source": [
    "#### Answer_4"
   ]
  },
  {
   "cell_type": "code",
   "execution_count": 9,
   "id": "a6230d3f-e4b0-4d21-8458-0a741bfbdb26",
   "metadata": {},
   "outputs": [
    {
     "name": "stdout",
     "output_type": "stream",
     "text": [
      "95% confidence interval: (0.09151638887130707, 0.1484836111286929)\n",
      "Therefore, we can be 95% confident that the true proportion of individuals in the population who smoke is between 9.151638887130707 and 14.848361112869291.\n"
     ]
    }
   ],
   "source": [
    "import numpy as np\n",
    "import scipy.stats as stats\n",
    "\n",
    "n = 500\n",
    "p = 60/500\n",
    "z = stats.norm.ppf(0.975)  # 1.96 for 95% confidence interval\n",
    "\n",
    "CI = (p - z*np.sqrt(p*(1-p)/n), p + z*np.sqrt(p*(1-p)/n))\n",
    "\n",
    "print(f\"95% confidence interval: {CI}\")\n",
    "print(f\"Therefore, we can be 95% confident that the true proportion of individuals in the population who smoke is between {(p - z*np.sqrt(p*(1-p)/n))*100} and {(p + z*np.sqrt(p*(1-p)/n))*100}.\")"
   ]
  },
  {
   "cell_type": "markdown",
   "id": "80c79643-e08e-434d-9e0e-46e4b3891359",
   "metadata": {},
   "source": [
    "#### Answer_5"
   ]
  },
  {
   "cell_type": "code",
   "execution_count": 10,
   "id": "7fc14a67-472f-42fe-b29e-a8d9d1c5300b",
   "metadata": {},
   "outputs": [
    {
     "name": "stdout",
     "output_type": "stream",
     "text": [
      "90% confidence interval: (72.64804321855193, 77.35195678144807)\n"
     ]
    }
   ],
   "source": [
    "import numpy as np\n",
    "import scipy.stats as stats\n",
    "\n",
    "n = 100  # sample size\n",
    "x_bar = 75  # sample mean\n",
    "s = 12  # sample standard deviation\n",
    "z = stats.norm.ppf(0.95 + (1-0.95)/2)  # 1.645 for 90% confidence interval\n",
    "\n",
    "CI = (x_bar - z*(s/np.sqrt(n)), x_bar + z*(s/np.sqrt(n)))\n",
    "\n",
    "print(f\"90% confidence interval: {CI}\")\n"
   ]
  },
  {
   "cell_type": "markdown",
   "id": "8e9b3f56-d96a-4a85-ae37-8c52f2ba97c6",
   "metadata": {},
   "source": [
    "#### Answer_6"
   ]
  },
  {
   "cell_type": "code",
   "execution_count": 12,
   "id": "40d40138-da89-4272-b49a-fa189caf7025",
   "metadata": {},
   "outputs": [
    {
     "data": {
      "image/png": "[encoded data removed]",
      "text/plain": [
       "<Figure size 640x480 with 1 Axes>"
      ]
     },
     "metadata": {},
     "output_type": "display_data"
    }
   ],
   "source": [
    "import numpy as np\n",
    "import scipy.stats as stats\n",
    "import matplotlib.pyplot as plt\n",
    "\n",
    "# Define the degrees of freedom and the x-axis range\n",
    "df = 10\n",
    "x = np.linspace(0, 30, 200)\n",
    "\n",
    "# Create the chi-square distribution object\n",
    "chi2 = stats.chi2(df)\n",
    "\n",
    "# Plot the chi-square distribution\n",
    "fig, ax = plt.subplots()\n",
    "ax.plot(x, chi2.pdf(x), 'k-', lw=2, label='Chi-square distribution')\n",
    "\n",
    "# Shade the area corresponding to a chi-square statistic of 15\n",
    "x_shade = np.linspace(15, 30, 100)\n",
    "ax.fill_between(x_shade, chi2.pdf(x_shade), color='blue', alpha=0.5, label='Chi-square statistic = 15')\n",
    "\n",
    "# Label the axes and add a legend\n",
    "ax.set_xlabel('Chi-square statistic')\n",
    "ax.set_ylabel('Probability density')\n",
    "ax.legend()\n",
    "\n",
    "plt.show()\n"
   ]
  },
  {
   "cell_type": "markdown",
   "id": "7cd81e63-f529-472e-916a-395434730e54",
   "metadata": {},
   "source": [
    "#### Answer_7"
   ]
  },
  {
   "cell_type": "code",
   "execution_count": 17,
   "id": "80ad00c3-20ed-45d8-aa3d-ae365b7547f8",
   "metadata": {},
   "outputs": [
    {
     "name": "stdout",
     "output_type": "stream",
     "text": [
      "99% confidence interval: (0.4792392659536166, 0.5607607340463834)\n"
     ]
    }
   ],
   "source": [
    "import numpy as np\n",
    "import scipy.stats as stats\n",
    "\n",
    "n = 1000 \n",
    "p = 520/1000  ## proportion of population that preffered coke\n",
    "z = 2.58 # 2.58 for 95% confidence interval\n",
    "\n",
    "CI = (p - z*np.sqrt(p*(1-p)/n), p + z*np.sqrt(p*(1-p)/n))\n",
    "\n",
    "print(f\"99% confidence interval: {CI}\")\n"
   ]
  },
  {
   "cell_type": "markdown",
   "id": "df184760-85ba-4081-94ab-2f3c1b12d482",
   "metadata": {},
   "source": [
    "#### Answer_8"
   ]
  },
  {
   "cell_type": "code",
   "execution_count": 9,
   "id": "b45dc792-20c9-44b2-9eda-403a684d2759",
   "metadata": {},
   "outputs": [
    {
     "name": "stdout",
     "output_type": "stream",
     "text": [
      "Fail to reject null hypothesis\n"
     ]
    }
   ],
   "source": [
    "import pandas as pd\n",
    "import scipy.stats as stat\n",
    "\n",
    "Null_Hypothesis = \"Coin is not biased\"\n",
    "## If coin is not biased the expected output will be 50-50 for both head and tail.\n",
    "Alternative_Hypothesis = \"Coin is biased\"\n",
    "\n",
    "df = pd.DataFrame({\n",
    "    \"Possible Outcomes\" : [\"Head\", \"Tail\"],\n",
    "    \"Expected result\" : [50 , 50],\n",
    "    \"Observed result\"  : [55,45]\n",
    "})\n",
    "\n",
    "signiface_value = 0.05\n",
    "CI = 0.95\n",
    "dof = len(df)-1\n",
    "\n",
    "df['O - E'] = df['Expected result'] - df['Observed result']\n",
    "df['(O - E)sqr'] = df['O - E']*df['O - E']\n",
    "df['((O - E)sqr)/E'] = df['(O - E)sqr']/df['Expected result']\n",
    "\n",
    "chi_srq_stats = df['((O - E)sqr)/E'].sum()\n",
    "chi_sqr_tab = stat.chi2.ppf(1-signiface_value,dof)\n",
    "\n",
    "if chi_srq_stats > chi_sqr_tab:\n",
    "    print('Reject null Hypothesis')\n",
    "else:\n",
    "    print('Fail to reject null hypothesis')"
   ]
  },
  {
   "cell_type": "markdown",
   "id": "6f22ec90-8517-49d3-8146-3aa393cda2ba",
   "metadata": {},
   "source": [
    "#### Answer_9"
   ]
  },
  {
   "cell_type": "code",
   "execution_count": 11,
   "id": "71b780ea-46ba-4845-8791-7d08a31e4feb",
   "metadata": {},
   "outputs": [
    {
     "name": "stdout",
     "output_type": "stream",
     "text": [
      "Chi-square statistic: 20.332763023678094\n",
      "P-value: 0.0004292487809022321\n"
     ]
    }
   ],
   "source": [
    "import numpy as np\n",
    "import scipy.stats as stats\n",
    "\n",
    "# Create the contingency table\n",
    "observed = np.array([[20, 15], [10, 25], [15, 20]])\n",
    "smoking = np.array([60, 30])\n",
    "non_smoking = np.array([140, 170])\n",
    "\n",
    "# Combine the smoking and non-smoking data into a single table\n",
    "observed = np.vstack([observed, [smoking, non_smoking]])\n",
    "\n",
    "# Calculate the expected frequencies using the marginal sums of the table\n",
    "expected = np.outer(observed[:,1], observed[3,:]) / np.sum(observed[3,:])\n",
    "\n",
    "# Calculate the chi-square test statistic and p-value\n",
    "chi2_statistic, p_value, _, _ = stats.chi2_contingency(observed)\n",
    "\n",
    "# Print the results\n",
    "print(f\"Chi-square statistic: {chi2_statistic}\")\n",
    "print(f\"P-value: {p_value}\")"
   ]
  },
  {
   "cell_type": "markdown",
   "id": "eaec47ed-1569-4f87-b43b-7e7fff701b36",
   "metadata": {},
   "source": [
    "#### Answer_10"
   ]
  },
  {
   "cell_type": "code",
   "execution_count": 12,
   "id": "7d08df47-633c-4834-b338-054950e5b65a",
   "metadata": {},
   "outputs": [
    {
     "name": "stdout",
     "output_type": "stream",
     "text": [
      "Chi-square statistic: 13.393665158371041\n",
      "P-value: 0.0012348168997745918\n"
     ]
    }
   ],
   "source": [
    "import numpy as np\n",
    "import scipy.stats as stats\n",
    "\n",
    "# Create the contingency table\n",
    "observed = np.array([[200, 150, 150], [225, 175, 100]])\n",
    "\n",
    "# Calculate the expected frequencies using the marginal sums of the table\n",
    "row_totals = observed.sum(axis=1)\n",
    "col_totals = observed.sum(axis=0)\n",
    "total = observed.sum()\n",
    "expected = np.outer(row_totals, col_totals) / total\n",
    "\n",
    "# Calculate the chi-square test statistic and p-value\n",
    "chi2_statistic, p_value, _, _ = stats.chi2_contingency(observed)\n",
    "\n",
    "# Print the results\n",
    "print(f\"Chi-square statistic: {chi2_statistic}\")\n",
    "print(f\"P-value: {p_value}\")\n",
    "\n",
    "##Since the p-value is less than the significance level of 0.01, we reject the null hypothesis and conclude that there is a significant association between chocolate preference and country of origin."
   ]
  },
  {
   "cell_type": "markdown",
   "id": "83bd56ee-ffc5-4339-8fbe-abb01cf0878d",
   "metadata": {},
   "source": [
    "#### Answer_11"
   ]
  },
  {
   "cell_type": "code",
   "execution_count": 16,
   "id": "22a036e7-e307-42b2-b04f-520b81b9f79d",
   "metadata": {},
   "outputs": [
    {
     "name": "stdout",
     "output_type": "stream",
     "text": [
      "Reject Null hypothesis\n"
     ]
    }
   ],
   "source": [
    "Null_Hypothesis = \"population_mean is equal to 70\"\n",
    "Alternative_Hypothesis = \"Population_mean is not equal to 70\"\n",
    "\n",
    "sample_size = 30\n",
    "sample_mean = 72\n",
    "sample_SD = 10\n",
    "significance_level = 0.05\n",
    "Confidennce_interval = 0.95\n",
    "dof = 29\n",
    "\n",
    "t_table = stat.t.ppf(1-(significance_level/2),dof)\n",
    "t_cal = (sample_mean-70)/(sample_SD/(sample_size**0.5))\n",
    "\n",
    "if t_table > t_cal:\n",
    "    print(\"Reject Null hypothesis\")\n",
    "else:\n",
    "    print(\"fail to reject null hypothesis\")"
   ]
  },
  {
   "cell_type": "code",
   "execution_count": null,
   "id": "c6a38fc9-9f63-4ed7-b3ca-04e6ec30d787",
   "metadata": {},
   "outputs": [],
   "source": []
  },
  {
   "cell_type": "code",
   "execution_count": null,
   "id": "bdf1894f-f499-458a-847b-bd6253463e84",
   "metadata": {},
   "outputs": [],
   "source": []
  }
 ],
 "metadata": {
  "kernelspec": {
   "display_name": "Python 3 (ipykernel)",
   "language": "python",
   "name": "python3"
  },
  "language_info": {
   "codemirror_mode": {
    "name": "ipython",
    "version": 3
   },
   "file_extension": ".py",
   "mimetype": "text/x-python",
   "name": "python",
   "nbconvert_exporter": "python",
   "pygments_lexer": "ipython3",
   "version": "3.10.8"
  }
 },
 "nbformat": 4,
 "nbformat_minor": 5
}
