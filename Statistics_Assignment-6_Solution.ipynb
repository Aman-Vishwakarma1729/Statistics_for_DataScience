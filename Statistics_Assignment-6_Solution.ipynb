{
 "cells": [
  {
   "cell_type": "markdown",
   "id": "173ce793-57d7-4b53-a8d1-6516f057f0bb",
   "metadata": {},
   "source": [
    "#### Answer_1"
   ]
  },
  {
   "cell_type": "markdown",
   "id": "a39d512b-8422-41ae-971e-1b716da385d3",
   "metadata": {},
   "source": [
    "##### A t-test and a z-test are both statistical hypothesis tests used to determine if a sample mean is significantly different from a population mean. However, they differ in the assumptions made about the population and the sample size.\n",
    "\n",
    "##### ##### A z-test is used when the population variance is known, and the sample size is large (typically greater than 30). In contrast, a t-test is used when the population variance is unknown, and the sample size is small (typically less than 30).\n",
    "\n",
    "##### An example scenario where you might use a z-test is if you were conducting a study to determine if a new medication reduces blood pressure. Suppose you have information on the population mean blood pressure (e.g., 120 mmHg) and its variance (e.g., 20 mmHg), and you have a large sample of participants who were given the medication. If you want to determine if the medication significantly reduced blood pressure, you could use a z-test to compare the mean blood pressure of the sample to the population mean.\n",
    "\n",
    "##### On the other hand, an example scenario where you might use a t-test is if you were conducting a study to determine if there is a significant difference in test scores between two groups of students. Suppose you have two groups of 15 students each, and you want to compare their mean test scores. Since you don't know the population variance, you would use a t-test to compare the means of the two groups."
   ]
  },
  {
   "cell_type": "markdown",
   "id": "6328515e-920d-4f0d-8b42-77459104846e",
   "metadata": {},
   "source": [
    "#### Answer_2"
   ]
  },
  {
   "cell_type": "markdown",
   "id": "982305b1-6806-48b8-8077-90b171cec10a",
   "metadata": {},
   "source": [
    "##### In statistical hypothesis testing, a one-tailed test (also called a directional test) is a test of a statistical hypothesis where the null hypothesis is rejected only if the sample result falls in one direction of the distribution of the test statistic. A two-tailed test (also called a non-directional test) is a test where the null hypothesis is rejected if the sample result falls in either tail of the distribution of the test statistic."
   ]
  },
  {
   "cell_type": "markdown",
   "id": "e2d728f9-aab8-4962-9c5c-10660c6214e3",
   "metadata": {},
   "source": [
    "#### Answer_3"
   ]
  },
  {
   "cell_type": "markdown",
   "id": "8814942c-a0e7-4b19-8f54-9c2c3402363e",
   "metadata": {},
   "source": [
    "##### In hypothesis testing, a Type 1 error is when the null hypothesis is rejected when it is actually true. A Type 2 error is when the null hypothesis is not rejected when it is actually false.\n",
    "\n",
    "##### To understand the concept of Type 1 and Type 2 errors, let's consider an example scenario. Suppose a company claims that their new product increases customer satisfaction by 20%, and a market research firm wants to test this claim. The null hypothesis would be that the new product does not increase customer satisfaction by 20%, while the alternative hypothesis would be that the new product does increase customer satisfaction by 20%.\n",
    "\n",
    "##### If the market research firm rejects the null hypothesis when it is actually true, this would be a Type 1 error. For example, if the market research firm concludes that the new product increases customer satisfaction by 20% based on the sample data, but the actual increase in satisfaction is due to chance, this would be a Type 1 error. The company might then invest resources into promoting the new product based on this false conclusion, which could lead to financial losses in the future.\n",
    "\n",
    "##### On the other hand, if the market research firm fails to reject the null hypothesis when it is actually false, this would be a Type 2 error. For example, if the market research firm concludes that the new product does not increase customer satisfaction by 20% based on the sample data, but the actual increase in satisfaction is real, this would be a Type 2 error. The company might then miss out on opportunities to promote the new product and increase profits."
   ]
  },
  {
   "cell_type": "markdown",
   "id": "7eee54b3-a5a8-488c-9064-ed28789ba4fa",
   "metadata": {},
   "source": [
    "#### Answer_4"
   ]
  },
  {
   "cell_type": "markdown",
   "id": "3257c836-c30a-4317-b0d5-ba457b7aacda",
   "metadata": {},
   "source": [
    "##### Bayes's theorem is a mathematical formula used to calculate the probability of an event based on prior knowledge or information. It is named after the Reverend Thomas Bayes, who developed the theorem in the 18th century.\n",
    "\n",
    "##### Bayes's theorem states that the probability of an event A, given event B, can be calculated as follows:\n",
    "\n",
    "##### P(A|B) = (P(B|A) x P(A)) / P(B)\n",
    "\n",
    "##### Where:\n",
    "\n",
    "##### P(A|B) is the conditional probability of A given B;\n",
    "##### P(B|A) is the conditional probability of B given A;\n",
    "##### P(A) is the prior probability of A;\n",
    "##### P(B) is the prior probability of B.\n",
    "\n",
    "##### To understand Bayes's theorem better, let's consider an example scenario. Suppose you are a doctor and you want to determine if a patient has a certain rare disease based on a test result. The test has a false positive rate of 2%, meaning that 2% of healthy people will test positive for the disease, and a true positive rate of 98%, meaning that 98% of people with the disease will test positive. The prevalence of the disease in the population is 1 in 1,000.\n",
    "\n",
    "##### Using Bayes's theorem, you can calculate the probability of the patient having the disease given the test result.\n",
    "\n",
    "##### P(Disease|Positive) = (P(Positive|Disease) x P(Disease)) / P(Positive)\n",
    "\n",
    "##### Where:\n",
    "\n",
    "##### P(Disease|Positive) is the probability of the patient having the disease given a positive test result;\n",
    "##### P(Positive|Disease) is the probability of testing positive given the patient has the disease, which is 0.98;\n",
    "##### P(Disease) is the prior probability of the patient having the disease, which is 0.001;\n",
    "##### P(Positive) is the probability of testing positive, which can be calculated as follows:\n",
    "\n",
    "##### P(Positive) = P(Positive|Disease) x P(Disease) + P(Positive|No Disease) x P(No Disease)\n",
    "##### = 0.98 x 0.001 + 0.02 x 0.999\n",
    "##### = 0.02076\n",
    "\n",
    "##### So, plugging in the numbers, we get:\n",
    "\n",
    "##### P(Disease|Positive) = (0.98 x 0.001) / 0.02076\n",
    "##### = 0.047\n",
    "\n",
    "##### Therefore, the probability of the patient having the disease given a positive test result is 0.047 or 4.7%. This means that even with a positive test result, there is still a low probability of the patient having the disease, given the rarity of the disease in the population"
   ]
  },
  {
   "cell_type": "markdown",
   "id": "a4f0c886-6106-4afd-92e3-53139accb59a",
   "metadata": {},
   "source": [
    "#### Answer_5"
   ]
  },
  {
   "cell_type": "markdown",
   "id": "ab240518-3b9e-41c4-ab2b-aac5d1c6bb0c",
   "metadata": {},
   "source": [
    "##### A confidence interval is a range of values that is likely to contain the true value of a population parameter with a specified level of confidence. In other words, a confidence interval gives us a measure of how confident we are that the estimated value of a population parameter falls within a certain range.\n",
    "\n",
    "##### The calculation of a confidence interval involves several factors, including the sample size, the standard error of the sample mean, and the level of confidence desired. The standard error of the mean is a measure of the variability of the sample mean, and is calculated as the standard deviation of the sample divided by the square root of the sample size.\n",
    "\n",
    "##### To calculate a confidence interval, we start by estimating the population parameter of interest using a sample. For example, suppose we want to estimate the average height of a population of people. We take a random sample of 100 people and measure their heights. The sample mean height is 170 cm and the sample standard deviation is 5 cm.\n",
    "\n",
    "##### Next, we choose a level of confidence, which is typically 95% or 99%. A 95% confidence level means that we expect 95 out of 100 samples to produce confidence intervals that contain the true population parameter.\n",
    "\n",
    "##### Using the formula for the confidence interval, we can calculate the upper and lower bounds of the interval:\n",
    "\n",
    "##### Lower bound = sample mean - (critical value x standard error)\n",
    "##### Upper bound = sample mean + (critical value x standard error)\n",
    "\n",
    "##### The critical value is obtained from a table of values based on the level of confidence and the degrees of freedom, which is equal to the sample size minus one. For a 95% confidence level with 99 degrees of freedom, the critical value is 1.984.\n",
    "\n",
    "##### Plugging in the values, we get:\n",
    "\n",
    "##### Lower bound = 170 - (1.984 x (5 / sqrt(100))) = 167.56\n",
    "##### Upper bound = 170 + (1.984 x (5 / sqrt(100))) = 172.44\n",
    "\n",
    "##### Therefore, we can say with 95% confidence that the true population mean height falls within the range of 167.56 cm to 172.44 cm."
   ]
  },
  {
   "cell_type": "markdown",
   "id": "e108df13-02ef-4e8d-baef-dcd1c650c53f",
   "metadata": {},
   "source": [
    "#### Answer_6"
   ]
  },
  {
   "cell_type": "markdown",
   "id": "527687ce-56cf-44cd-b8f6-ff95fc76e794",
   "metadata": {},
   "source": [
    "##### Suppose you are a doctor and you want to determine if a patient has a certain rare disease based on a test result. The test has a false positive rate of 2%, meaning that 2% of healthy people will test positive for the disease, and a true positive rate of 98%, meaning that 98% of people with the disease will test positive. The prevalence of the disease in the population is 1 in 1,000.\n",
    "\n",
    "##### Using Bayes's theorem, you can calculate the probability of the patient having the disease given the test result.\n",
    "\n",
    "##### P(Disease|Positive) = (P(Positive|Disease) x P(Disease)) / P(Positive)\n",
    "\n",
    "##### Where:\n",
    "\n",
    "##### P(Disease|Positive) is the probability of the patient having the disease given a positive test result;\n",
    "##### P(Positive|Disease) is the probability of testing positive given the patient has the disease, which is 0.98;\n",
    "##### P(Disease) is the prior probability of the patient having the disease, which is 0.001;\n",
    "##### P(Positive) is the probability of testing positive, which can be calculated as follows:\n",
    "\n",
    "##### P(Positive) = P(Positive|Disease) x P(Disease) + P(Positive|No Disease) x P(No Disease)\n",
    "##### = 0.98 x 0.001 + 0.02 x 0.999\n",
    "##### = 0.02076\n",
    "\n",
    "##### So, plugging in the numbers, we get:\n",
    "\n",
    "##### P(Disease|Positive) = (0.98 x 0.001) / 0.02076\n",
    "##### = 0.047\n",
    "\n",
    "##### Therefore, the probability of the patient having the disease given a positive test result is 0.047 or 4.7%. This means that even with a positive test result, there is still a low probability of the patient having the disease, given the rarity of the disease in the population"
   ]
  },
  {
   "cell_type": "markdown",
   "id": "f4647ced-ba74-474b-b2ce-a2ce2cb8ad7b",
   "metadata": {},
   "source": [
    "#### Answer_7"
   ]
  },
  {
   "cell_type": "markdown",
   "id": "6d192235-59c9-4676-a571-81cff8d5f7e2",
   "metadata": {},
   "source": [
    "#### If n is sufficiently large\n",
    "## (50 - (1.96*(5/sqrt(n)),50 + (1.96*(5/sqrt(n)))"
   ]
  },
  {
   "cell_type": "markdown",
   "id": "214fdf06-9a90-46d7-a6e4-48f5b40986de",
   "metadata": {},
   "source": [
    "#### Answer_8"
   ]
  },
  {
   "cell_type": "markdown",
   "id": "093b4a8e-0298-4f2e-a222-945cb93b70b7",
   "metadata": {},
   "source": [
    "##### The margin of error is a measure of the uncertainty associated with a particular sample size and confidence level in estimating a population parameter. It represents the maximum amount by which the sample statistic (e.g., mean or proportion) might deviate from the true population parameter, and is typically expressed as a range of values above and below the sample statistic.\n",
    "\n",
    "##### The margin of error is calculated as:\n",
    "\n",
    "##### Margin of error = critical value x standard error\n",
    "\n",
    "#####  where the critical value depends on the chosen level of confidence, and the standard error is a measure of the precision of the sample statistic based on the variability of the sample and the sample size.\n",
    "\n",
    "#####  A larger sample size tends to reduce the margin of error because a larger sample provides more information about the population, which reduces the variability of the sample statistic. This reduction in variability results in a more precise estimate of the population parameter, and thus a smaller margin of error. Specifically, the standard error decreases as the sample size increases, which leads to a smaller margin of error.\n",
    "\n",
    "##### For example, suppose we want to estimate the proportion of voters in a city who support a certain candidate. We take a random sample of 500 voters and find that 60% of them support the candidate. We want to calculate a 95% confidence interval for the true proportion of supporters in the population.\n",
    "\n",
    "##### Using the formula for the margin of error, we can calculate the critical value from the standard normal distribution to be approximately 1.96. The standard error of the proportion is:\n",
    "\n",
    "##### Standard error = sqrt((p(1-p))/n)\n",
    "\n",
    "#####  where p is the sample proportion (0.60) and n is the sample size (500). Plugging in the values, we get:\n",
    "\n",
    "#####  Standard error = sqrt((0.60 x 0.40)/500) = 0.025\n",
    "\n",
    "#####  The margin of error is then:\n",
    "\n",
    "#####  Margin of error = 1.96 x 0.025 = 0.049\n",
    "\n",
    "#####  Therefore, we can say with 95% confidence that the true proportion of supporters in the population falls within the range of 0.551 to 0.649.\n",
    "\n",
    "#####  If we were to increase the sample size to 1000 while keeping all other factors constant, the standard error would be halved, resulting in a margin of error of 1.96 x 0.018 = 0.035. This would result in a smaller range of possible population proportions, which would be a more precise estimate of the true proportion of supporters."
   ]
  },
  {
   "cell_type": "markdown",
   "id": "2279f13d-e532-4230-b14a-1f4f4b269297",
   "metadata": {},
   "source": [
    "#### Answer_9"
   ]
  },
  {
   "cell_type": "markdown",
   "id": "a860a114-1e1c-4250-9a4e-d0736b0f2d09",
   "metadata": {},
   "source": [
    "##### To calculate the z-score for a data point with a value of 75, a population mean of 70, and a population standard deviation of 5, we can use the formula:\n",
    "\n",
    "##### z = (x - μ) / σ\n",
    "\n",
    "##### where:\n",
    "\n",
    "##### x is the value of the data point (which is 75 in this case)\n",
    "##### μ is the population mean (which is 70 in this case)\n",
    "##### σ is the population standard deviation (which is 5 in this case)\n",
    "##### Substituting these values into the formula, we get:\n",
    "\n",
    "##### z = (75 - 70) / 5 = 1\n",
    "\n",
    "##### Therefore, the z-score for the data point with a value of 75 is 1. This means that the data point is 1 standard deviation above the population mean. A positive z-score indicates that the data point is above the mean, while a negative z-score would indicate that the data point is below the mean. The magnitude of the z-score represents how far away from the mean the data point is in terms of standard deviations.\n",
    "\n",
    "##### In this case, a z-score of 1 means that the data point is 1 standard deviation above the mean. This can be interpreted as the data point being relatively high in value compared to the rest of the population."
   ]
  },
  {
   "cell_type": "markdown",
   "id": "47a99b4c-c83f-4822-a5fc-0195b4429394",
   "metadata": {},
   "source": [
    "#### Answer_10"
   ]
  },
  {
   "cell_type": "code",
   "execution_count": null,
   "id": "d2f5ecc4-899e-47b3-891b-9357ed9db341",
   "metadata": {},
   "outputs": [],
   "source": [
    "sample_size = 50\n",
    "sample_mean = 6\n",
    "sample_sd = 2.5\n",
    "degree_of_freedom = 49\n",
    "confidence_level = 0.95\n",
    "significance_value = 0.05\n",
    "\n",
    "## Null hypothesis (H0): The mean weight loss of the population is not significantly different from 0 pounds.\n",
    "## Alternative hypothesis (Ha): The mean weight loss of the population is significantly different from 0 pounds.\n",
    "\n",
    "t(calculated) = (6-0)/(2.5/(50**0.5))\n",
    "t(calculated) = 16.970562748477143\n",
    "\n",
    "## The critical t-value for a two-tailed test with α = 0.05 and 49 degrees of freedom is approximately ±2.009.\n",
    "\n",
    "## Since our calculated t-statistic (16.970562748477143) is greater than the critical t-value (±2.009), we reject the null hypothesis and conclude that the mean weight loss of the population is significantly different from 0 pounds at a 95% confidence level. This means that we have evidence to support the claim that the new weight loss drug is effective in helping people lose weight."
   ]
  },
  {
   "cell_type": "markdown",
   "id": "64831341-30ad-44cf-b380-d2329619a14c",
   "metadata": {},
   "source": [
    "#### Answer_11"
   ]
  },
  {
   "cell_type": "markdown",
   "id": "09a9821e-6f94-4863-9f9b-7072914bf20e",
   "metadata": {},
   "source": [
    "To calculate the 95% confidence interval for the true proportion of people who are satisfied with their job based on a survey of 500 people where 65% reported being satisfied, we can use the following formula:\n",
    "\n",
    "CI = p ± z*(√(p*(1-p)/n))\n",
    "\n",
    "where:\n",
    "\n",
    "p is the sample proportion (which is 0.65 in this case)\n",
    "z* is the critical z-value for a 95% confidence level (which is approximately 1.96)\n",
    "n is the sample size (which is 500 in this case)\n",
    "Substituting the values, we get:\n",
    "\n",
    "CI = 0.65 ± 1.96*(√(0.65*(1-0.65)/500))\n",
    "\n",
    "CI = 0.65 ± 0.045\n",
    "\n",
    "The 95% confidence interval for the true proportion of people who are satisfied with their job is therefore (0.605, 0.695). This means that we can be 95% confident that the true proportion of people who are satisfied with their job falls between 0.605 and 0.695, based on the survey of 500 people."
   ]
  },
  {
   "cell_type": "markdown",
   "id": "d2648dc3-2414-42a0-92fe-969606dd229d",
   "metadata": {},
   "source": [
    "#### Answer_12"
   ]
  },
  {
   "cell_type": "markdown",
   "id": "4307630e-32a7-460f-bf42-e815f379f460",
   "metadata": {},
   "source": [
    "To conduct a hypothesis test to determine if the two teaching methods have a significant difference in student performance using a t-test with a significance level of 0.01, we need to set up the null and alternative hypotheses:\n",
    "\n",
    "Null hypothesis (H0): The means of the two populations are not significantly different (μA - μB = 0).\n",
    "Alternative hypothesis (Ha): The means of the two populations are significantly different (μA - μB ≠ 0).\n",
    "We can use a two-sample t-test with unequal variances to compare the means of the two samples. The test statistic can be calculated using the formula:\n",
    "\n",
    "t = (x̄A - x̄B - D) / √((sA^2 / nA) + (sB^2 / nB))\n",
    "\n",
    "where:\n",
    "\n",
    "x̄A and x̄B are the sample means (which are 85 and 82, respectively, in this case)\n",
    "sA and sB are the sample standard deviations (which are 6 and 5, respectively, in this case)\n",
    "nA and nB are the sample sizes (which we do not have in this case)\n",
    "D is the hypothesized difference between the population means under the null hypothesis (which is 0 in this case)\n",
    "We need to calculate the degrees of freedom using the formula:\n",
    "\n",
    "df = (sA^2 / nA + sB^2 / nB)^2 / ((sA^2 / nA)^2 / (nA - 1) + (sB^2 / nB)^2 / (nB - 1))\n",
    "\n",
    "where nA and nB are the sample sizes (which we do not have in this case)\n",
    "\n",
    "We can use a conservative approach and assume that the sample sizes are equal. Therefore, we can use the pooled standard deviation formula:\n",
    "\n",
    "sp = √(((nA - 1) * sA^2 + (nB - 1) * sB^2) / (nA + nB - 2))\n",
    "\n",
    "and calculate the t-statistic using:\n",
    "\n",
    "t = (x̄A - x̄B - D) / (sp * √(1 / nA + 1 / nB))\n",
    "\n",
    "Substituting the values, we get:\n",
    "\n",
    "sp = √(((2 - 1) * 6^2 + (2 - 1) * 5^2) / (2 + 2 - 2)) = 5.099\n",
    "\n",
    "t = (85 - 82 - 0) / (5.099 * √(1/2 + 1/2)) = 2.178\n",
    "\n",
    "The degrees of freedom are df = 2 + 2 - 2 = 2.\n",
    "\n",
    "We can then compare this t-statistic to the critical t-value at a significance level of 0.01 with 2 degrees of freedom:\n",
    "\n",
    "The critical t-value for a two-tailed test with α = 0.01 and 2 degrees of freedom is approximately ±9.925.\n",
    "Since our calculated t-statistic (2.178) is less than the critical t-value (±9.925), we fail to reject the null hypothesis and conclude that there is not enough evidence to suggest a significant difference between the two teaching methods at a significance level of 0.01."
   ]
  },
  {
   "cell_type": "markdown",
   "id": "73dee3bc-ccb7-4c59-bb25-12af1261a198",
   "metadata": {},
   "source": [
    "#### Answer_13"
   ]
  },
  {
   "cell_type": "code",
   "execution_count": 23,
   "id": "5c8d91d3-b87b-46bd-9c99-ab4b9fc0a649",
   "metadata": {},
   "outputs": [
    {
     "name": "stdout",
     "output_type": "stream",
     "text": [
      "The 90% confidence interval for the true population mean is : (63.1445518061665,66.8554481938335)\n"
     ]
    }
   ],
   "source": [
    "population_mean = 60\n",
    "population_sd = 8\n",
    "sample_size = 50 \n",
    "sample_mean = 65\n",
    "confidence_interval = 0.90\n",
    "\n",
    "lower_bound = sample_mean - (1.64*(population_sd/(sample_size**0.5)))\n",
    "upper_bound = sample_mean + (1.64*(population_sd/(sample_size**0.5)))\n",
    "\n",
    "print(f\"The 90% confidence interval for the true population mean is : ({lower_bound},{upper_bound})\")"
   ]
  },
  {
   "cell_type": "markdown",
   "id": "97fd8623-acb5-402e-a65f-c8301d009153",
   "metadata": {},
   "source": [
    "#### Answer_14"
   ]
  },
  {
   "cell_type": "code",
   "execution_count": 28,
   "id": "8da2cf4b-e71a-4c4d-82d2-e7b3e5770a7e",
   "metadata": {},
   "outputs": [],
   "source": [
    "## Null Hypothesis: H0 : caffeine has a no significant effect on reaction time that is mu = 0\n",
    "## Alternatie Hypothesis: H1 : caffeine has a significant effect on reaction time mu != 0\n",
    "\n",
    "mu = 0\n",
    "n = 30\n",
    "dof = 29\n",
    "x_bar = 0.25\n",
    "s = 0.05\n",
    "CI = 0.95\n",
    "\n",
    "t = (x_bar - mu)/(s/(n**0.5))\n",
    "t = 27.386127875258307\n",
    "\n",
    "## critical value from t-table is (+/- 2.04523) which is less than 27.386127875258307\n",
    "## We reject null hypothesis\n",
    "## Therefore, caffeine has a significant effect on reaction time"
   ]
  },
  {
   "cell_type": "code",
   "execution_count": null,
   "id": "cf52a74a-3356-49ef-8c33-cd0ce4538d80",
   "metadata": {},
   "outputs": [],
   "source": []
  },
  {
   "cell_type": "code",
   "execution_count": null,
   "id": "51430b8f-c888-4204-b12c-c67a0b0482b9",
   "metadata": {},
   "outputs": [],
   "source": []
  }
 ],
 "metadata": {
  "kernelspec": {
   "display_name": "Python 3 (ipykernel)",
   "language": "python",
   "name": "python3"
  },
  "language_info": {
   "codemirror_mode": {
    "name": "ipython",
    "version": 3
   },
   "file_extension": ".py",
   "mimetype": "text/x-python",
   "name": "python",
   "nbconvert_exporter": "python",
   "pygments_lexer": "ipython3",
   "version": "3.10.8"
  }
 },
 "nbformat": 4,
 "nbformat_minor": 5
}
