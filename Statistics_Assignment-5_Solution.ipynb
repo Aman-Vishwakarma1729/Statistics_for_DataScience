{
 "cells": [
  {
   "cell_type": "markdown",
   "id": "61e31ae6-64ed-49a8-adb4-f24d46f597c6",
   "metadata": {},
   "source": [
    "#### Answer_1"
   ]
  },
  {
   "cell_type": "markdown",
   "id": "79817350-d114-46a9-8c76-4b29bc0bd93e",
   "metadata": {},
   "source": [
    "##### > Estimation statistics is a branch of statistics that deals with estimating or predicting the characteristics of a population based on sample data. It involves using sample statistics to make inferences about the population parameters.\n",
    "\n",
    "##### > Point estimate refers to a single value that is used to estimate a population parameter\n",
    "###### >> For example : sample mean is unbiased estimator of population mean and  sample proportion is unbiased estimator of population proportion.\n",
    "\n",
    "##### > Interval estimate, on the other hand, refers to a range of values within which the population parameter is expected to lie. The most common type of interval estimate is a confidence interval, which is a range of values that is constructed around the point estimate, such that we can be confident (at a certain level of confidence) that the population parameter lies within that range.\n",
    "                        "
   ]
  },
  {
   "cell_type": "markdown",
   "id": "ad043a21-abf5-412e-9d7f-b547d39cca9a",
   "metadata": {},
   "source": [
    "#### Answer_2"
   ]
  },
  {
   "cell_type": "code",
   "execution_count": 5,
   "id": "b8dca9d3-0842-4699-a269-3c19ad3d3133",
   "metadata": {},
   "outputs": [],
   "source": [
    "import math\n",
    "\n",
    "def estimate_population_mean(sample_mean,sample_SD,sample_size):\n",
    "    point_estimate_population_mean = sample_mean\n",
    "    \n",
    "    standard_error = (sample_SD)/(math.sqrt(sample_size))\n",
    "    \n",
    "    margin_of_error = 1.96*standard_error      ## 95% of confidence interval\n",
    "    \n",
    "    lower_bound = sample_mean - margin_of_error\n",
    "    upper_bound = sample_mean + margin_of_error\n",
    "    \n",
    "    interval_estimate_of_populaion_mean = f\"({lower_bound} , {upper_bound})\"\n",
    "    \n",
    "    return f\"The point estimate of population mean is {point_estimate_population_mean} and interval estimate of population mean is {interval_estimate_of_populaion_mean} with 95% of confidence interval\""
   ]
  },
  {
   "cell_type": "markdown",
   "id": "392d8f73-5f50-429c-9c08-78ce87b7e7c4",
   "metadata": {},
   "source": [
    "#### Answer_3"
   ]
  },
  {
   "cell_type": "markdown",
   "id": "8b9f8d76-1305-4482-bea5-1013520f6337",
   "metadata": {},
   "source": [
    "##### Hypothesis testing is a statistical technique that is used to determine whether a claim or hypothesis about a population is likely to be true or not. It involves making a statement about a population parameter and testing that statement using sample data.\n",
    "\n",
    "##### Hypothesis testing is used in many different fields, including science, engineering, medicine, and social sciences. It is used to make decisions based on data and to draw conclusions about populations. For example, it can be used to determine whether a new drug is effective in treating a particular disease or whether a new product is likely to be successful in the market.\n",
    "\n",
    "##### The importance of hypothesis testing lies in its ability to provide a structured and rigorous approach to decision-making based on data. It helps to eliminate bias and subjectivity and provides a way to make decisions based on statistical evidence. It also helps to ensure that decisions are based on sound reasoning and that the conclusions drawn from the data are reliable.\n",
    "\n",
    "##### Hypothesis testing involves several steps, including defining the null and alternative hypotheses, selecting an appropriate statistical test, determining the level of significance, collecting and analyzing data, and interpreting the results. By following these steps, researchers can make informed decisions based on data and draw reliable conclusions about populations."
   ]
  },
  {
   "cell_type": "markdown",
   "id": "47f3d94a-154a-4c39-aa31-d5d309ceab24",
   "metadata": {},
   "source": [
    "#### Answer_4"
   ]
  },
  {
   "cell_type": "markdown",
   "id": "3aaee801-8181-4459-b99d-3be65b948dde",
   "metadata": {},
   "source": [
    "##### The hypothesis that states whether the average weight of male college students is greater than the average weight of female college students can be stated as follows:\n",
    "\n",
    "##### Null hypothesis (H0): The average weight of male college students is equal to or less than the average weight of female college students.\n",
    "\n",
    "##### Alternative hypothesis (HA): The average weight of male college students is greater than the average weight of female college students."
   ]
  },
  {
   "cell_type": "markdown",
   "id": "00ef8f6d-28d8-4602-b3d0-bce4edd2b8fa",
   "metadata": {},
   "source": [
    "#### Answer_5"
   ]
  },
  {
   "cell_type": "code",
   "execution_count": null,
   "id": "272e0baf-c61b-40c5-9cb5-03d9d4046f4e",
   "metadata": {},
   "outputs": [],
   "source": [
    "import numpy as np\n",
    "from scipy import stats\n",
    "\n",
    "def hypothesis_test(sample1, sample2, alpha):\n",
    "    # Calculate the sample statistics\n",
    "    n1 = len(sample1)\n",
    "    n2 = len(sample2)\n",
    "    x1 = np.mean(sample1)\n",
    "    x2 = np.mean(sample2)\n",
    "    s1 = np.std(sample1, ddof=1)\n",
    "    s2 = np.std(sample2, ddof=1)\n",
    "    \n",
    "    # Calculate the test statistic and p-value\n",
    "    se = np.sqrt((s1**2 / n1) + (s2**2 / n2))\n",
    "    t_stat = (x1 - x2) / se\n",
    "    df = n1 + n2 - 2\n",
    "    p_value = stats.t.sf(abs(t_stat), df) * 2\n",
    "    \n",
    "    # Determine if the null hypothesis is rejected or not\n",
    "    if p_value < alpha:\n",
    "        print(\"Reject the null hypothesis. There is sufficient evidence to suggest that the population means are different.\")\n",
    "    else:\n",
    "        print(\"Fail to reject the null hypothesis. There is insufficient evidence to suggest that the population means are different.\")\n",
    "    \n",
    "    # Return the test statistic and p-value\n",
    "    return t_stat, p_value\n"
   ]
  },
  {
   "cell_type": "markdown",
   "id": "bf1e0401-c06c-4165-b012-5633fb9b4b2a",
   "metadata": {},
   "source": [
    "#### Answer_6"
   ]
  },
  {
   "cell_type": "markdown",
   "id": "3f31bee9-81bd-4743-96f9-d3ad1bb872b0",
   "metadata": {},
   "source": [
    "##### In statistics, the null hypothesis (H0) is a statement that assumes there is no significant difference between two or more populations, samples, or treatments. The alternative hypothesis (HA), on the other hand, is a statement that assumes there is a significant difference between two or more populations, samples, or treatments.\n",
    "\n",
    "##### Here are some examples of null and alternative hypotheses:\n",
    "\n",
    "##### Example 1: A company wants to test whether a new website design leads to a higher conversion rate than the old design.\n",
    "##### Null hypothesis: The new website design has no effect on the conversion rate compared to the old design.\n",
    "\n",
    "##### Alternative hypothesis: The new website design leads to a higher conversion rate than the old design.\n",
    "\n",
    "##### ##### Example 2: A researcher wants to investigate whether a new medication is more effective than the current medication for treating a particular medical condition.\n",
    "##### Null hypothesis: The new medication is no more effective than the current medication for treating the medical condition.\n",
    "\n",
    "##### Alternative hypothesis: The new medication is more effective than the current medication for treating the medical condition.\n",
    "\n",
    "##### Example 3: A teacher wants to determine whether there is a significant difference in test scores between students who receive extra tutoring and those who do not.\n",
    "##### Null hypothesis: There is no significant difference in test scores between students who receive extra tutoring and those who do not.\n",
    "\n",
    "##### Alternative hypothesis: Students who receive extra tutoring have higher test scores than those who do not.\n",
    "\n",
    "##### In each of these examples, the null hypothesis assumes that there is no significant difference, while the alternative hypothesis assumes that there is a significant difference. The actual hypothesis that is tested may vary depending on the research question and the type of data being analyzed"
   ]
  },
  {
   "cell_type": "markdown",
   "id": "518c68ce-ba51-4d63-977a-f92b0cffbeae",
   "metadata": {},
   "source": [
    "#### Answer_7"
   ]
  },
  {
   "cell_type": "markdown",
   "id": "28e2923a-205f-4967-a0ac-748072770a34",
   "metadata": {},
   "source": [
    "##### > 1) Formulate the null hypothesis (H0) and alternative hypothesis (H1) based on the research question or problem.\n",
    "##### > 2) Determine the level of significance (alpha) for the test.\n",
    "##### > 3) Choose an appropriate test statistic and distribution.\n",
    "##### > 4) Collect a sample of data from the population of interest\n",
    "##### > 5) Calculate the test statistic\n",
    "##### > 6) Determine the p-value associated with the test statistic\n",
    "##### > 7) Compare the p-value to the level of significance (alpha)\n",
    "##### > 8) Interpret the results"
   ]
  },
  {
   "cell_type": "markdown",
   "id": "38ea2907-07a5-4848-9686-3445df98dbb1",
   "metadata": {},
   "source": [
    "#### Answer_8"
   ]
  },
  {
   "cell_type": "markdown",
   "id": "9d301010-7849-44c3-94bf-7d99a9191a8f",
   "metadata": {},
   "source": [
    "##### In hypothesis testing, the p-value is a probability value that indicates the likelihood of obtaining a test statistic as extreme or more extreme than the observed value, assuming the null hypothesis is true. In other words, the p-value measures the strength of evidence against the null hypothesis.\n",
    "\n",
    "##### A small p-value (usually less than or equal to the chosen level of significance, alpha) indicates that the observed data is unlikely to have occurred by chance alone, and provides strong evidence against the null hypothesis. This leads to rejecting the null hypothesis in favor of the alternative hypothesis.\n",
    "\n",
    "##### On the other hand, a large p-value (usually greater than the chosen level of significance, alpha) indicates that the observed data is likely to have occurred by chance, and does not provide strong evidence against the null hypothesis. This leads to failing to reject the null hypothesis.\n",
    "\n",
    "##### The significance of the p-value in hypothesis testing is that it helps to make decisions about whether to reject or fail to reject the null hypothesis"
   ]
  },
  {
   "cell_type": "markdown",
   "id": "13bbd6ac-3f34-420f-ae10-b490d936be2f",
   "metadata": {},
   "source": [
    "#### Answer_9"
   ]
  },
  {
   "cell_type": "code",
   "execution_count": 9,
   "id": "409f6a6b-c150-418f-8884-b00c91bcf781",
   "metadata": {},
   "outputs": [
    {
     "data": {
      "image/png": "[encoded data removed]",
      "text/plain": [
       "<Figure size 640x480 with 1 Axes>"
      ]
     },
     "metadata": {},
     "output_type": "display_data"
    }
   ],
   "source": [
    "import numpy as np\n",
    "import matplotlib.pyplot as plt\n",
    "from scipy.stats import t\n",
    "\n",
    "df = 10  # Degrees of freedom\n",
    "x = np.linspace(-4, 4, 1000)  # Range of values for t-distribution\n",
    "\n",
    "# Calculate t-distribution values using the probability density function (pdf)\n",
    "y = t.pdf(x, df)\n",
    "\n",
    "# Generate plot\n",
    "plt.plot(x, y, 'b-', label='t-distribution')\n",
    "plt.xlabel('Values')\n",
    "plt.ylabel('Probability Density')\n",
    "plt.title('Student\\'s t-distribution (df=10)')\n",
    "plt.legend(loc='best')\n",
    "plt.show()"
   ]
  },
  {
   "cell_type": "markdown",
   "id": "4236f910-092f-4db3-a116-f6dbe8e54a32",
   "metadata": {},
   "source": [
    "#### Answer_10"
   ]
  },
  {
   "cell_type": "code",
   "execution_count": 2,
   "id": "1b9a7a5a-b562-4a88-ac16-c05150b6d23c",
   "metadata": {},
   "outputs": [
    {
     "name": "stdout",
     "output_type": "stream",
     "text": [
      "t-statistic =  -6.688929152189492\n",
      "p-value =  2.2474389613672243e-10\n"
     ]
    }
   ],
   "source": [
    "import numpy as np\n",
    "from scipy.stats import ttest_ind\n",
    "\n",
    "# Generate two random samples\n",
    "sample1 = np.random.normal(loc=10, scale=2, size=100)\n",
    "sample2 = np.random.normal(loc=12, scale=2, size=100)\n",
    "\n",
    "# Calculate the t-statistic and p-value\n",
    "t_stat, p_val = ttest_ind(sample1, sample2)\n",
    "\n",
    "# Print the results\n",
    "print(\"t-statistic = \", t_stat)\n",
    "print(\"p-value = \", p_val)\n"
   ]
  },
  {
   "cell_type": "markdown",
   "id": "a2eec6e9-f778-45ab-a0f4-a4949ccb6c71",
   "metadata": {},
   "source": [
    "#### Answer_11"
   ]
  },
  {
   "cell_type": "markdown",
   "id": "cf598d3b-ebe9-4137-a331-b1bdc8657f2d",
   "metadata": {},
   "source": [
    "##### Student's t-distribution, named after the pseudonym \"Student\" used by William Gosset in his 1908 paper, is a probability distribution that is used to model the distribution of the sample mean when the sample size is small (typically less than 30) and the population standard deviation is unknown.\n",
    "\n",
    "##### The t-distribution has a bell-shaped curve like the normal distribution, but it has heavier tails, which means that extreme values are more likely to occur. As the sample size increases, the t-distribution approaches the normal distribution.\n",
    "\n",
    "##### The t-distribution is commonly used in hypothesis testing to calculate confidence intervals and to test the null hypothesis that the mean of a population is equal to a specified value. The t-distribution is used when the sample size is small and the population standard deviation is unknown. When the sample size is large, the t-distribution approaches the normal distribution, and it is appropriate to use the normal distribution for hypothesis testing."
   ]
  },
  {
   "cell_type": "markdown",
   "id": "dadff514-cf01-41e4-84ef-f8f73a098cff",
   "metadata": {},
   "source": [
    "#### Answer_12"
   ]
  },
  {
   "cell_type": "markdown",
   "id": "5b15dd99-056d-4fbb-86ba-474b73a58b9c",
   "metadata": {},
   "source": [
    "##### The t-statistic is a measure of the difference between the sample mean and the hypothesized population mean in units of the standard error. It is used in hypothesis testing to determine whether the difference between the sample mean and the hypothesized population mean is statistically significant.\n",
    "\n",
    "##### The formula for the t-statistic is:\n",
    "\n",
    "### t = (x̄ - μ) / (s / √n)\n",
    "\n",
    "##### where x̄ is the sample mean, μ is the hypothesized population mean, s is the sample standard deviation, and n is the sample size.\n",
    "\n",
    "##### In this formula, the numerator represents the difference between the sample mean and the hypothesized population mean, while the denominator represents the standard error of the mean. The standard error of the mean is a measure of how much variability there is in the sample mean, and it decreases as the sample size increases.\n",
    "\n",
    "##### The t-statistic is used in hypothesis testing by comparing it to a critical value from the t-distribution, with the degrees of freedom equal to the sample size minus one. If the calculated t-value is greater than the critical value, the null hypothesis is rejected, and it is concluded that there is a statistically significant difference between the sample mean and the hypothesized population mean."
   ]
  },
  {
   "cell_type": "markdown",
   "id": "34170454-b51e-4a71-b3a5-d7c7d82f5988",
   "metadata": {},
   "source": [
    "#### Answer_13"
   ]
  },
  {
   "cell_type": "code",
   "execution_count": 5,
   "id": "e1aca90b-c15e-4a44-9392-61b1f3db9e2c",
   "metadata": {},
   "outputs": [],
   "source": [
    "import math\n",
    "\n",
    "def estimate_population_mean(sample_mean,sample_SD,sample_size):\n",
    "    point_estimate_population_mean = sample_mean\n",
    "    \n",
    "    standard_error = (sample_SD)/(math.sqrt(sample_size))\n",
    "    \n",
    "    margin_of_error = 1.96*standard_error      ## 95% of confidence interval\n",
    "    \n",
    "    lower_bound = sample_mean - margin_of_error\n",
    "    upper_bound = sample_mean + margin_of_error\n",
    "    \n",
    "    interval_estimate_of_populaion_mean = f\"({lower_bound} , {upper_bound})\"\n",
    "    \n",
    "    return f\"The point estimate of population mean is ${point_estimate_population_mean} and interval estimate of population mean is {interval_estimate_of_populaion_mean} with 95% of confidence interval\""
   ]
  },
  {
   "cell_type": "code",
   "execution_count": 6,
   "id": "39d019b5-6636-4d20-b7c9-11bc97ed8733",
   "metadata": {},
   "outputs": [
    {
     "data": {
      "text/plain": [
       "'The point estimate of population mean is $500 and interval estimate of population mean is (486.1407070887437 , 513.8592929112564) with 95% of confidence interval'"
      ]
     },
     "execution_count": 6,
     "metadata": {},
     "output_type": "execute_result"
    }
   ],
   "source": [
    "estimate_population_mean(500,50,50)"
   ]
  },
  {
   "cell_type": "markdown",
   "id": "1aeb9e08-f148-456b-9bdd-55e8f4ec7711",
   "metadata": {},
   "source": [
    "#### Answer_14"
   ]
  },
  {
   "cell_type": "code",
   "execution_count": 11,
   "id": "e48a2516-1f7e-4c5d-8b5b-57067e677e0b",
   "metadata": {},
   "outputs": [
    {
     "data": {
      "text/plain": [
       "-6.666666666666667"
      ]
     },
     "execution_count": 11,
     "metadata": {},
     "output_type": "execute_result"
    }
   ],
   "source": [
    "## H0 : New drug will decrease the blood pressure by 10mmHg : population_mean (mu) = 10mmHg\n",
    "## H1 : New drug will decrease the blood pressure by less than 10mmHg : mu < 10mmHg\n",
    "## It is one_tailed (Left-Tailed).\n",
    "\n",
    "## (population_mean) mu = 10mmHg          \n",
    "## (sample_mean) x_bar = 8mmHg\n",
    "## (sample_SD) s = 3mmHg\n",
    "## (sample_size) n = 100\n",
    "## (degree_of_freedom) dof = 99\n",
    "## (signifucance_value) alpha = 0.05\n",
    "\n",
    "mu = 10\n",
    "x_bar = 8\n",
    "s = 3\n",
    "n = 100\n",
    "dof = 99\n",
    "alpha = 0.05\n",
    "\n",
    "t = (x_bar - mu)/(s/(n**0.5))\n",
    "t"
   ]
  },
  {
   "cell_type": "code",
   "execution_count": null,
   "id": "b46dff83-11e0-40cd-a460-0ffde67d2904",
   "metadata": {},
   "outputs": [],
   "source": [
    "## from t-table we get t-value to be -1.98\n",
    "## since t(calculated) < t(table)\n",
    "## We reject null Null Hypothesis (H0)."
   ]
  },
  {
   "cell_type": "markdown",
   "id": "c1ef2764-97df-4583-8c3a-fa5cbb932906",
   "metadata": {},
   "source": [
    "#### Answer_15"
   ]
  },
  {
   "cell_type": "code",
   "execution_count": 12,
   "id": "b44b5d7c-f6d2-4402-8b3e-794f78af8daa",
   "metadata": {},
   "outputs": [
    {
     "data": {
      "text/plain": [
       "-2.0000000000000018"
      ]
     },
     "execution_count": 12,
     "metadata": {},
     "output_type": "execute_result"
    }
   ],
   "source": [
    "## population_mean is 5 pounds\n",
    "mu = 5\n",
    "## population_SD is 0.5 pounds\n",
    "sigma = 0.5\n",
    "## sample_size is 25 products\n",
    "n = 25\n",
    "## sample_mean is 4.8 pounds\n",
    "x_bar = 4.8\n",
    "## significance_level is 0.01\n",
    "alpha = 0.01\n",
    "\n",
    "## Null Hypothesis: H0 : mu = 5\n",
    "## Alternative Hypothesis: H1 : mu < 5\n",
    "## It is one-tail (left tailed)\n",
    "\n",
    "## confidence interval is P(-2.58<Z<2.58) = 0.99\n",
    "\n",
    "## Now if Z-value\n",
    "Z = (x_bar-mu)/(sigma/(n**0.5))\n",
    "Z"
   ]
  },
  {
   "cell_type": "code",
   "execution_count": null,
   "id": "acc4134e-6e1a-41ef-b9f1-93712b6e0423",
   "metadata": {},
   "outputs": [],
   "source": [
    "## Now to find P-value\n",
    "## If P-value is less than significance value we reject H0 otherwise we do not reject H0.\n",
    "## From Z-table\n",
    "## P_value = 0.0228\n",
    "## P_value > 0.001\n",
    "## Hence We cannot reject H0."
   ]
  },
  {
   "cell_type": "markdown",
   "id": "e500b626-0efe-4c24-96f0-4c9b6b18543e",
   "metadata": {},
   "source": [
    "#### Answer_16"
   ]
  },
  {
   "cell_type": "code",
   "execution_count": 30,
   "id": "74b040e8-02bc-4109-aa0d-99e789850cb1",
   "metadata": {},
   "outputs": [],
   "source": [
    "import numpy as np\n",
    "from scipy import stats\n",
    "\n",
    "def hypothesis_test(n1, n2, x1, x2, s1, s2, alpha):\n",
    "    \n",
    "    sample_statistic = f\" sample size of first sample: n1 = {n1}\\n sample size of second sample: n2 = {n1}\\n sample mean of first sample: x1 = {x1}\\n sample mean of second sample: x2 = {x2}\\n sample SD of first sample: s1 = {s1}\\n sample SD of second sample: s2 = {s2}\\n significance value: alpha = {alpha}\"\n",
    "    \n",
    "    print(sample_statistic)\n",
    "    se = np.sqrt((s1**2 / n1) + (s2**2 / n2))\n",
    "    t_stat = (x1 - x2) / se\n",
    "    df = n1 + n2 - 2\n",
    "    p_value = stats.t.sf(abs(t_stat), df) * 2\n",
    "    \n",
    "    # Determine if the null hypothesis is rejected or not\n",
    "    if p_value < alpha:\n",
    "        print(\"Reject the null hypothesis. There is sufficient evidence to suggest that the population means are different.\")\n",
    "    else:\n",
    "        print(\"Fail to reject the null hypothesis. There is insufficient evidence to suggest that the population means are different.\")\n",
    "    \n",
    "    # Return the test statistic and p-value\n",
    "    return t_stat, p_value"
   ]
  },
  {
   "cell_type": "code",
   "execution_count": 31,
   "id": "aee11309-b7ae-4b80-be2c-4db14332ceb7",
   "metadata": {},
   "outputs": [
    {
     "name": "stdout",
     "output_type": "stream",
     "text": [
      " sample size of first sample: n1 = 30\n",
      " sample size of second sample: n2 = 30\n",
      " sample mean of first sample: x1 = 80\n",
      " sample mean of second sample: x2 = 75\n",
      " sample SD of first sample: s1 = 10\n",
      " sample SD of second sample: s2 = 8\n",
      " significance value: alpha = 0.01\n",
      "Fail to reject the null hypothesis. There is insufficient evidence to suggest that the population means are different.\n"
     ]
    },
    {
     "data": {
      "text/plain": [
       "(2.2511258444537408, 0.02761348036769749)"
      ]
     },
     "execution_count": 31,
     "metadata": {},
     "output_type": "execute_result"
    }
   ],
   "source": [
    "hypothesis_test(30, 40, 80, 75, 10, 8, 0.01)"
   ]
  },
  {
   "cell_type": "markdown",
   "id": "0df4b4c3-747b-4ac5-a13b-f4b390c4f2ff",
   "metadata": {},
   "source": [
    "#### Answer_17"
   ]
  },
  {
   "cell_type": "code",
   "execution_count": 35,
   "id": "f1020b1b-ef0c-4e5b-bbc4-388b6e1e57f2",
   "metadata": {},
   "outputs": [],
   "source": [
    "import math\n",
    "\n",
    "def estimate_population_mean(sample_mean,sample_SD,sample_size):\n",
    "    point_estimate_population_mean = sample_mean\n",
    "    \n",
    "    standard_error = (sample_SD)/(math.sqrt(sample_size))\n",
    "    \n",
    "    margin_of_error = 2.58*standard_error      ## 99% of confidence interval\n",
    "    \n",
    "    lower_bound = sample_mean - margin_of_error\n",
    "    upper_bound = sample_mean + margin_of_error\n",
    "    \n",
    "    interval_estimate_of_populaion_mean = f\"({lower_bound} , {upper_bound})\"\n",
    "    \n",
    "    return f\"The point estimate of population mean is {point_estimate_population_mean} and interval estimate of population mean is {interval_estimate_of_populaion_mean} with 99% of confidence interval\""
   ]
  },
  {
   "cell_type": "code",
   "execution_count": 36,
   "id": "7ba9be0d-2034-491d-9071-cb2b414a9671",
   "metadata": {},
   "outputs": [
    {
     "data": {
      "text/plain": [
       "'The point estimate of population mean is 4 and interval estimate of population mean is (3.452699351361612 , 4.547300648638387) with 99% of confidence interval'"
      ]
     },
     "execution_count": 36,
     "metadata": {},
     "output_type": "execute_result"
    }
   ],
   "source": [
    "estimate_population_mean(4,1.5,50)"
   ]
  },
  {
   "cell_type": "code",
   "execution_count": null,
   "id": "917eee79-09e1-4524-93a3-d91465b29c61",
   "metadata": {},
   "outputs": [],
   "source": []
  }
 ],
 "metadata": {
  "kernelspec": {
   "display_name": "Python 3 (ipykernel)",
   "language": "python",
   "name": "python3"
  },
  "language_info": {
   "codemirror_mode": {
    "name": "ipython",
    "version": 3
   },
   "file_extension": ".py",
   "mimetype": "text/x-python",
   "name": "python",
   "nbconvert_exporter": "python",
   "pygments_lexer": "ipython3",
   "version": "3.10.8"
  }
 },
 "nbformat": 4,
 "nbformat_minor": 5
}
