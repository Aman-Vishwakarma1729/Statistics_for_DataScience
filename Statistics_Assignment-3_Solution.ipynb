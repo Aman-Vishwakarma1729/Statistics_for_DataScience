{
 "cells": [
  {
   "cell_type": "markdown",
   "id": "e48c96ef-506c-48f7-87c6-150a6024568e",
   "metadata": {},
   "source": [
    "#### Answer_1"
   ]
  },
  {
   "cell_type": "markdown",
   "id": "5defd512-1d07-471e-8c91-dc15e7e19e13",
   "metadata": {},
   "source": [
    "##### > The Probability Density Function(PDF) defines the probability function representing the density of a continuous random variable lying between a specific range of values"
   ]
  },
  {
   "cell_type": "markdown",
   "id": "a90305a6-4893-43b8-9817-de89550a4037",
   "metadata": {},
   "source": [
    "#### Answer_2"
   ]
  },
  {
   "cell_type": "markdown",
   "id": "b5a812c2-cc9b-46c9-9225-feaa20e50b62",
   "metadata": {},
   "source": [
    "##### >> 1] Continuous Probability Distribution\n",
    "##### >> 2] Discrete Probability Distribution\n",
    "##### >> 3] Cumulative Probaility Distribution"
   ]
  },
  {
   "cell_type": "markdown",
   "id": "a3ec0259-8bce-4df0-b609-81300fab9c13",
   "metadata": {},
   "source": [
    "#### Answer_3"
   ]
  },
  {
   "cell_type": "code",
   "execution_count": 33,
   "id": "eae029b2-0e95-4990-84da-9f1ba68f3c80",
   "metadata": {},
   "outputs": [],
   "source": [
    "## Method_1\n",
    "\n",
    "import math as math\n",
    "\n",
    "def pro_den_fun_normal_dis_1(mean,SD,x):\n",
    "## x : The point at which, to calculate probability density function.\n",
    "## SD : Standard Deviation\n",
    "    PDF = (1/(SD*(math.pow((2*(math.pi)),0.5))))*(math.pow((math.e),(-0.5)*(math.pow(((x-mean)/SD),2))))\n",
    "    return PDF"
   ]
  },
  {
   "cell_type": "code",
   "execution_count": 30,
   "id": "b65b67ea-0829-4663-a4a7-d315f1a01080",
   "metadata": {},
   "outputs": [],
   "source": [
    "## Method_2\n",
    "\n",
    "import scipy.stats\n",
    "\n",
    "def pro_den_fun_normal_dis_2(mean,SD,x):\n",
    "    PDF = scipy.stats.norm(mean,SD).pdf(x)\n",
    "    return PDF\n"
   ]
  },
  {
   "cell_type": "code",
   "execution_count": 31,
   "id": "231a1102-a9ed-4192-9b2c-6e5765fdc351",
   "metadata": {},
   "outputs": [
    {
     "data": {
      "text/plain": [
       "0.12098536225957168"
      ]
     },
     "execution_count": 31,
     "metadata": {},
     "output_type": "execute_result"
    }
   ],
   "source": [
    "pro_den_fun_normal_dis_2(1,2,3)"
   ]
  },
  {
   "cell_type": "code",
   "execution_count": 34,
   "id": "43938cfa-77f2-4f13-9b26-f5808428ef3d",
   "metadata": {},
   "outputs": [
    {
     "data": {
      "text/plain": [
       "0.12098536225957168"
      ]
     },
     "execution_count": 34,
     "metadata": {},
     "output_type": "execute_result"
    }
   ],
   "source": [
    "pro_den_fun_normal_dis_1(1,2,3)"
   ]
  },
  {
   "cell_type": "markdown",
   "id": "32cae248-b301-47c0-b170-a8ed661334da",
   "metadata": {},
   "source": [
    "#### Answer_4"
   ]
  },
  {
   "cell_type": "markdown",
   "id": "35b91f9e-3dda-40b8-9658-828ab3339194",
   "metadata": {},
   "source": [
    "##### > A binomial distribution occurs when there are only two mutually exclusive possible outcomes.\n",
    "##### > It is discrete probability distribution.\n",
    "##### > it has parameter (n,p).\n",
    "##### > n : independent trials                 (It should be fixed)\n",
    "##### > p : probability of occuring an event.  (It remains constant)\n",
    "##### > q : 1-p , probability of failure of an event.\n",
    "##### > If p = q the distribution is symmetrical.\n",
    "##### > mean = n * p\n",
    "##### > variance = n * p * q\n",
    "##### > mean > variance\n",
    "##### > When p > 0.5 the distribution is negatively skewed\n",
    "##### > When p < 0.5 the distribution is positively skewed\n",
    "##### > when n is very large and p is very small than Binomial distribution tends to poisson distribution.\n",
    "##### > eg. Two coins are tossed 20 times.\n",
    "##### > eg. A die is rolled 10 times."
   ]
  },
  {
   "cell_type": "markdown",
   "id": "ed0bc8c9-a519-4e8c-a4e3-caab89d1077b",
   "metadata": {},
   "source": [
    "#### Answer_5"
   ]
  },
  {
   "cell_type": "code",
   "execution_count": 36,
   "id": "685919cd-7d73-4d66-9ccd-af17b8627970",
   "metadata": {},
   "outputs": [],
   "source": [
    "import scipy.stats as stats\n",
    "import numpy as np\n",
    "%matplotlib inline\n",
    "import matplotlib.pyplot as plt"
   ]
  },
  {
   "cell_type": "code",
   "execution_count": 41,
   "id": "353075af-dc1d-4879-a930-6d34ff6a4dad",
   "metadata": {},
   "outputs": [],
   "source": [
    "bino = stats.binom(n = 1000 , p = 0.4)\n",
    "bino_sample = bino.rvs(size = 1000 , random_state = 143)"
   ]
  },
  {
   "cell_type": "code",
   "execution_count": 42,
   "id": "e596c032-7fbd-4fc2-b9f3-44773edcd75c",
   "metadata": {},
   "outputs": [
    {
     "data": {
      "text/plain": [
       "array([381, 408, 398, 401, 404, 395, 426, 416, 409, 428, 409, 388, 388,\n",
       "       421, 382, 407, 405, 395, 380, 388, 394, 379, 397, 416, 394, 381,\n",
       "       424, 391, 435, 410, 394, 406, 400, 402, 395, 421, 389, 408, 411,\n",
       "       404, 388, 402, 430, 399, 393, 402, 410, 387, 396, 409, 388, 403,\n",
       "       427, 417, 411, 361, 403, 383, 379, 368, 402, 425, 412, 415, 405,\n",
       "       400, 415, 436, 385, 384, 401, 384, 423, 412, 408, 388, 417, 397,\n",
       "       397, 415, 377, 388, 420, 412, 387, 424, 403, 407, 415, 400, 396,\n",
       "       416, 400, 430, 405, 404, 397, 412, 402, 405, 402, 389, 395, 400,\n",
       "       401, 392, 399, 395, 381, 392, 393, 421, 362, 412, 414, 405, 415,\n",
       "       404, 402, 392, 393, 391, 427, 433, 402, 385, 404, 392, 410, 400,\n",
       "       407, 402, 382, 384, 431, 389, 395, 414, 387, 387, 396, 403, 391,\n",
       "       396, 418, 417, 407, 399, 407, 382, 427, 382, 408, 400, 399, 401,\n",
       "       407, 407, 408, 389, 391, 370, 405, 402, 417, 392, 390, 386, 417,\n",
       "       405, 430, 395, 397, 384, 436, 383, 446, 424, 397, 408, 394, 388,\n",
       "       364, 413, 391, 405, 417, 399, 415, 387, 402, 384, 417, 386, 399,\n",
       "       389, 405, 388, 408, 404, 387, 398, 378, 393, 418, 379, 423, 415,\n",
       "       409, 369, 438, 409, 399, 413, 415, 412, 408, 412, 406, 410, 407,\n",
       "       395, 395, 411, 384, 402, 415, 398, 411, 396, 422, 376, 382, 413,\n",
       "       420, 378, 403, 419, 374, 401, 428, 385, 380, 391, 410, 435, 407,\n",
       "       348, 389, 406, 410, 379, 403, 402, 382, 399, 410, 394, 407, 397,\n",
       "       393, 379, 385, 410, 385, 389, 407, 393, 399, 432, 423, 419, 377,\n",
       "       410, 385, 421, 429, 413, 399, 397, 386, 412, 420, 398, 409, 389,\n",
       "       415, 384, 407, 404, 427, 406, 406, 427, 400, 421, 415, 377, 400,\n",
       "       418, 411, 378, 377, 407, 402, 389, 405, 405, 394, 423, 388, 399,\n",
       "       420, 409, 384, 390, 415, 420, 411, 399, 413, 365, 400, 389, 393,\n",
       "       402, 389, 388, 410, 393, 386, 383, 405, 386, 418, 393, 397, 390,\n",
       "       383, 391, 391, 399, 391, 400, 408, 393, 367, 420, 403, 412, 360,\n",
       "       388, 420, 385, 376, 393, 379, 391, 386, 394, 386, 415, 415, 418,\n",
       "       377, 382, 405, 388, 407, 391, 373, 391, 404, 378, 385, 402, 392,\n",
       "       404, 392, 409, 387, 418, 406, 402, 416, 394, 419, 387, 405, 377,\n",
       "       382, 398, 377, 413, 365, 410, 425, 395, 377, 375, 404, 391, 376,\n",
       "       408, 395, 424, 403, 393, 404, 416, 360, 370, 357, 408, 390, 411,\n",
       "       423, 399, 396, 377, 411, 387, 394, 391, 418, 402, 388, 398, 406,\n",
       "       410, 398, 426, 419, 418, 408, 407, 417, 410, 404, 400, 386, 394,\n",
       "       406, 373, 404, 388, 404, 399, 384, 402, 403, 398, 393, 395, 408,\n",
       "       420, 427, 394, 389, 403, 423, 403, 409, 414, 407, 374, 411, 394,\n",
       "       375, 411, 379, 390, 392, 371, 388, 393, 372, 406, 424, 412, 402,\n",
       "       419, 414, 421, 407, 416, 381, 390, 394, 381, 391, 398, 394, 402,\n",
       "       404, 396, 394, 383, 431, 387, 424, 383, 404, 389, 400, 383, 388,\n",
       "       406, 385, 389, 409, 418, 375, 411, 391, 377, 394, 372, 395, 393,\n",
       "       413, 396, 409, 388, 399, 395, 401, 398, 419, 425, 399, 409, 363,\n",
       "       405, 402, 438, 403, 387, 400, 410, 381, 403, 391, 394, 422, 385,\n",
       "       414, 425, 392, 391, 414, 439, 384, 421, 384, 404, 405, 395, 408,\n",
       "       435, 406, 407, 403, 388, 386, 429, 415, 373, 405, 391, 411, 381,\n",
       "       403, 401, 410, 387, 416, 389, 400, 401, 420, 380, 410, 404, 385,\n",
       "       397, 393, 419, 382, 428, 400, 395, 376, 409, 412, 405, 409, 399,\n",
       "       381, 384, 398, 416, 365, 411, 428, 367, 346, 397, 393, 431, 377,\n",
       "       414, 411, 392, 416, 399, 401, 396, 390, 396, 411, 399, 399, 394,\n",
       "       384, 391, 408, 421, 393, 381, 388, 377, 397, 387, 399, 410, 378,\n",
       "       378, 414, 410, 388, 401, 404, 366, 393, 378, 394, 389, 399, 394,\n",
       "       399, 409, 422, 391, 416, 400, 406, 380, 411, 407, 406, 410, 397,\n",
       "       382, 389, 402, 393, 393, 402, 414, 401, 376, 426, 403, 426, 384,\n",
       "       394, 377, 401, 418, 400, 386, 425, 411, 400, 390, 379, 400, 379,\n",
       "       405, 422, 395, 396, 414, 398, 410, 378, 419, 400, 382, 420, 417,\n",
       "       410, 392, 399, 388, 399, 401, 396, 392, 390, 426, 403, 403, 399,\n",
       "       410, 397, 376, 389, 373, 401, 407, 389, 420, 372, 392, 388, 389,\n",
       "       400, 434, 410, 393, 409, 428, 414, 402, 401, 424, 397, 386, 386,\n",
       "       398, 404, 407, 388, 395, 413, 420, 402, 423, 371, 392, 395, 393,\n",
       "       423, 383, 381, 382, 378, 411, 410, 382, 439, 391, 402, 412, 405,\n",
       "       391, 386, 384, 380, 389, 405, 375, 361, 429, 387, 410, 436, 422,\n",
       "       402, 422, 385, 420, 382, 418, 420, 383, 401, 370, 396, 411, 394,\n",
       "       388, 405, 392, 385, 427, 393, 399, 392, 408, 380, 410, 406, 393,\n",
       "       413, 395, 386, 407, 397, 392, 404, 398, 394, 430, 414, 425, 372,\n",
       "       407, 395, 388, 403, 407, 387, 377, 412, 392, 397, 406, 373, 406,\n",
       "       384, 416, 373, 420, 418, 407, 386, 419, 402, 391, 407, 373, 435,\n",
       "       424, 413, 416, 382, 384, 398, 388, 399, 410, 406, 409, 381, 385,\n",
       "       398, 425, 367, 387, 397, 408, 394, 391, 390, 399, 409, 363, 432,\n",
       "       411, 399, 399, 412, 387, 408, 401, 391, 395, 405, 390, 383, 397,\n",
       "       398, 405, 408, 412, 418, 418, 405, 408, 423, 378, 394, 439, 418,\n",
       "       405, 388, 391, 389, 399, 389, 395, 393, 389, 412, 421, 387, 399,\n",
       "       361, 379, 408, 400, 388, 394, 380, 397, 394, 430, 399, 397, 442,\n",
       "       390, 402, 376, 389, 418, 416, 382, 400, 360, 423, 410, 388, 362,\n",
       "       404, 421, 439, 432, 385, 404, 412, 383, 404, 394, 407, 398, 395,\n",
       "       378, 402, 370, 407, 388, 406, 410, 406, 372, 419, 366, 374, 415,\n",
       "       390, 402, 372, 414, 412, 360, 381, 427, 409, 408, 388, 397, 413,\n",
       "       429, 411, 378, 377, 392, 402, 422, 399, 378, 397, 395, 388, 378,\n",
       "       387, 414, 416, 399, 413, 373, 386, 384, 398, 421, 411, 384])"
      ]
     },
     "execution_count": 42,
     "metadata": {},
     "output_type": "execute_result"
    }
   ],
   "source": [
    "bino_sample"
   ]
  },
  {
   "cell_type": "code",
   "execution_count": 51,
   "id": "fc549efb-c5bc-4322-8a21-3d8e986a7ae0",
   "metadata": {},
   "outputs": [
    {
     "data": {
      "image/png": "[encoded data removed]",
      "text/plain": [
       "<Figure size 640x480 with 1 Axes>"
      ]
     },
     "metadata": {},
     "output_type": "display_data"
    }
   ],
   "source": [
    "plt.hist(bino_sample,label = 'Sample')\n",
    "plt.title(\"Binomial Distribution\")\n",
    "plt.legend()\n",
    "plt.show()"
   ]
  },
  {
   "cell_type": "markdown",
   "id": "5d3a4c8f-dacc-4eab-9eba-720e02f8d425",
   "metadata": {},
   "source": [
    "#### Answer_6"
   ]
  },
  {
   "cell_type": "code",
   "execution_count": 66,
   "id": "715ff7d5-6e08-4ca3-a724-da0d12c5f5e9",
   "metadata": {},
   "outputs": [],
   "source": [
    "## Method_1\n",
    "\n",
    "import math as math\n",
    "\n",
    "def cdf_poisson_dis_1(x,m):\n",
    "## x : 0,1,2,3,...\n",
    "## m : parameter of poisson distribution\n",
    "    CDF = 0\n",
    "    for i in range(0,x+1):\n",
    "        CDF = CDF + (((math.pow(math.e,-m))*(math.pow(m,i)))/math.factorial(i))\n",
    "        i = i + 1\n",
    "    return CDF\n",
    "        \n",
    "    "
   ]
  },
  {
   "cell_type": "code",
   "execution_count": 67,
   "id": "8c523fe5-fba4-4a26-9c2d-b34172b529b8",
   "metadata": {},
   "outputs": [],
   "source": [
    "## Method_2\n",
    "\n",
    "import scipy.stats as stats\n",
    "\n",
    "def cdf_poisson_dis_2(x,m): \n",
    "    CDF = stats.poisson(m).cdf(x)\n",
    "    return CDF\n",
    "    "
   ]
  },
  {
   "cell_type": "code",
   "execution_count": 59,
   "id": "a9eed878-fcaa-4364-a5f8-1f369eef5550",
   "metadata": {},
   "outputs": [
    {
     "data": {
      "text/plain": [
       "0.8571234604985472"
      ]
     },
     "execution_count": 59,
     "metadata": {},
     "output_type": "execute_result"
    }
   ],
   "source": [
    "cdf_poisson_dis_1(3,2)"
   ]
  },
  {
   "cell_type": "code",
   "execution_count": 68,
   "id": "4299474d-07f0-46f8-ae2d-e61aadfb1432",
   "metadata": {},
   "outputs": [
    {
     "data": {
      "text/plain": [
       "0.857123460498547"
      ]
     },
     "execution_count": 68,
     "metadata": {},
     "output_type": "execute_result"
    }
   ],
   "source": [
    "cdf_poisson_dis_2(3,2)"
   ]
  },
  {
   "cell_type": "markdown",
   "id": "e800b29c-5a3b-467c-99c4-929a5089c467",
   "metadata": {},
   "source": [
    "#### Answer_7"
   ]
  },
  {
   "cell_type": "markdown",
   "id": "b9db1490-8e5a-435a-885d-bcac3071c7da",
   "metadata": {},
   "source": [
    "|      Binomial Distribution       |       Poisson Distribution       |\n",
    "|----------------------------------|----------------------------------|\n",
    "| 1) Binomial distribution is one in which the probability of repeated number of trials are studied | 1) Poisson Distribution gives the count of independent events occur randomly with a given period of time. |\n",
    "| 2) It has two parameters | 2) It has only one parameter |\n",
    "| 3) It has fixed number of trials | 3) It has infinite number of trials |\n",
    "| 4) The chance of sucesss is fixed | 4) Infinitesimle chance of sucess |\n",
    "| 5) Only two possible outcomea failure or sucess | 5) Unlimimted number of poisson outcomes |\n",
    "| 6) Mean > Variance | 6) Mean = Variance |\n",
    "| 7) eg: Tossing coin 30 times | 7) typing mistake on book of 1000 pages |"
   ]
  },
  {
   "cell_type": "markdown",
   "id": "20a8fd45-3af0-467b-8b96-1590a0230807",
   "metadata": {},
   "source": [
    "#### Answer_8"
   ]
  },
  {
   "cell_type": "code",
   "execution_count": 69,
   "id": "2f0797f7-7cc1-4277-b810-95a4468d7164",
   "metadata": {},
   "outputs": [],
   "source": [
    "import scipy.stats as stats\n",
    "import numpy as np\n",
    "%matplotlib inline\n",
    "import matplotlib.pyplot as plt"
   ]
  },
  {
   "cell_type": "code",
   "execution_count": 73,
   "id": "7538ab1c-561b-4771-a7c6-d2d3488177af",
   "metadata": {},
   "outputs": [],
   "source": [
    "poisson = stats.poisson(mu = 5)\n",
    "poisson_sample = poisson.rvs(size = 1000 , random_state = 143)"
   ]
  },
  {
   "cell_type": "code",
   "execution_count": 74,
   "id": "f1bdddb4-bb65-450f-b5e1-19942f9f2847",
   "metadata": {},
   "outputs": [
    {
     "data": {
      "text/plain": [
       "array([ 6,  1,  3,  4,  3,  2,  7,  2,  5,  4,  5,  5,  5,  5,  4,  5,  8,\n",
       "        6,  5,  4,  4,  3,  9,  4,  2,  5, 10,  7,  5,  1,  5,  4,  6,  2,\n",
       "        5,  5,  5,  1,  7,  7,  5,  5,  4,  7,  2,  2,  4,  7,  2,  6, 10,\n",
       "        6,  6,  6,  6,  4,  2,  9,  6,  8,  3,  6,  4,  5,  6,  6,  6,  7,\n",
       "        3,  8,  6,  6, 14,  4,  4,  7,  3,  2,  5,  8,  2,  3,  4,  7,  9,\n",
       "        4,  2,  4,  7,  6,  3,  6,  6,  3,  4,  7,  6,  5,  5,  0,  5,  2,\n",
       "       11,  4,  5,  7,  4, 11,  4,  5,  2, 11,  8,  5,  4, 11,  4,  3,  6,\n",
       "        9,  7,  5,  4,  6,  4,  6,  3,  6,  6,  1,  4, 10,  7,  3,  4,  8,\n",
       "        3,  5,  5,  7,  4,  7,  5,  3,  2,  6,  1,  3,  5,  3,  6,  3,  3,\n",
       "        6,  5,  9,  7,  4,  4,  7,  6,  4,  4,  5,  5,  3,  7,  4,  9,  8,\n",
       "        4,  6,  8,  3,  5,  7,  2,  4,  5,  6,  5,  5,  4,  4,  6,  5,  3,\n",
       "        5,  4,  3,  4,  4,  4,  3,  5,  6,  8,  2,  5,  4,  8,  3,  5,  4,\n",
       "        4,  9,  4,  2,  3,  3,  4,  2, 10,  4,  9,  2, 10,  3,  6,  6,  6,\n",
       "        8,  4,  5,  6,  3,  4,  7,  3,  4,  8,  6,  7,  9, 10,  7,  5,  5,\n",
       "        4,  6,  5,  9, 13,  7,  2,  5,  3,  6,  3,  2,  4,  5,  5,  2,  9,\n",
       "        6,  3,  1,  1,  2,  5,  5,  5,  8,  7,  9,  5,  2,  4,  6,  4,  3,\n",
       "        2,  4,  9,  6,  5,  3,  6,  2,  9,  3,  3,  8,  4,  6,  1,  3,  7,\n",
       "        7,  8,  4,  4,  1,  6,  6,  8,  7,  5,  8,  3,  2,  5,  9,  5,  4,\n",
       "        4, 10,  9,  4,  4,  5,  6,  5,  3,  4,  7,  6,  3,  5, 11,  8,  4,\n",
       "        3,  5,  3,  4,  5,  2,  8,  7,  5,  6,  6,  5,  2,  5,  3,  9,  2,\n",
       "        6,  6,  5,  6,  6,  6,  7,  6,  9,  4,  8,  3,  6,  3,  3,  6,  6,\n",
       "        5,  7,  6,  5,  6,  1,  2,  5,  4,  6,  1,  5,  8,  2,  8,  1,  7,\n",
       "        5,  2,  4,  5,  5,  7,  2,  7,  5,  8,  2,  8,  5, 10,  4,  4,  6,\n",
       "        5,  7,  4,  5,  8,  6,  2,  4, 10,  3,  4,  3,  3,  6,  7,  4,  9,\n",
       "        3,  6,  9,  4,  4,  4,  8,  2,  4,  5,  5,  7,  3,  3,  7,  2,  3,\n",
       "        3,  6,  6,  9,  9,  4,  3,  5,  3,  5,  4,  4,  3,  6,  2,  4,  6,\n",
       "        5,  7,  4,  1,  2,  7,  2,  9,  3,  5,  8,  3,  6,  9,  6,  4,  6,\n",
       "        2,  5,  7,  6,  1,  5,  5,  2,  7,  6,  4,  6,  2,  5,  3,  3,  7,\n",
       "        4,  7,  4,  7,  3,  3,  2,  5,  3,  6,  7,  4,  5,  4,  7,  9,  3,\n",
       "        3,  7,  5,  7,  4,  5,  2,  7,  4,  7,  5,  6,  7,  8,  6,  5, 10,\n",
       "        5,  6,  3,  7,  7,  6,  5,  2,  4,  5,  4,  2,  3,  6,  9,  5,  2,\n",
       "        9,  8,  3,  5,  3,  9,  2,  4,  6,  3,  5,  6,  4,  5,  4,  7,  6,\n",
       "        2,  3,  4,  7,  3,  3,  4,  2,  6,  3,  3,  9,  2,  1,  2, 10,  4,\n",
       "        3,  8,  3,  6,  6,  3,  8,  3,  3,  5,  8,  4,  7,  3,  7,  4,  3,\n",
       "        6,  3,  5,  3,  7,  7,  9,  6,  8,  2,  6,  6,  7,  7, 10,  5,  6,\n",
       "        5,  4,  3,  7,  4,  2,  7,  3,  9,  1,  3,  3,  5,  5,  3,  6,  4,\n",
       "        1,  6,  4,  1,  2,  5,  4,  5,  7,  3,  2,  5,  9,  4,  6,  4,  2,\n",
       "        6,  2,  5,  6,  4,  5,  4,  4,  1,  4,  5,  8,  4,  7,  7,  4,  7,\n",
       "        4,  5,  3,  4,  2,  4,  4, 10,  4,  5,  8,  5,  4, 11,  5,  5,  2,\n",
       "        2,  3,  6,  2,  3,  4,  5,  6,  8,  5,  6,  3,  2,  5,  2,  4,  0,\n",
       "        7,  7,  2,  7,  4,  6,  7,  3,  7,  4,  7,  2,  6,  7,  6,  4,  4,\n",
       "        2,  9,  1,  4,  4,  3,  3,  5,  1,  6,  5,  4,  7,  6,  4,  7,  5,\n",
       "        6,  7,  3,  5,  4,  4,  4,  5,  3,  2,  8,  6,  5,  4,  4,  7,  8,\n",
       "        9,  3,  4,  3,  4,  6,  4,  6,  6,  3,  4,  3,  7,  7,  1,  5,  3,\n",
       "        5,  8,  4,  2,  8,  3,  3,  6,  5,  4,  5,  8, 10,  5, 11,  3,  6,\n",
       "        5,  8,  3,  7,  4,  5,  5,  6,  2,  8,  6,  2,  7,  5,  8,  5,  7,\n",
       "        7,  2,  4,  7,  6,  3,  3,  1,  4,  2,  7,  3,  3,  2,  2,  3, 13,\n",
       "        8,  0, 10,  1,  5,  3,  5,  5,  7,  8,  4,  5,  8,  6, 11, 13,  6,\n",
       "        9,  6,  5,  7,  7,  4,  7,  1,  2,  5,  8,  4,  8,  1,  3,  3,  6,\n",
       "        6,  2,  3,  8,  5,  4,  5,  6,  5,  2,  9,  4,  5,  1,  7,  9,  6,\n",
       "        5, 10,  2,  4,  4,  1,  5,  5,  5,  5,  7,  3,  8,  3,  5,  4,  2,\n",
       "        3,  7,  4,  5, 10,  5,  6, 10,  7,  6,  5,  3,  6,  4,  4,  7,  3,\n",
       "        2,  5,  3,  5, 10,  6,  7,  5,  8,  5,  7,  6,  4,  5,  5,  6,  5,\n",
       "        3,  2,  5,  6,  7,  3,  4,  3,  4,  3,  2,  6,  7,  5,  7,  9,  5,\n",
       "        8,  3,  3,  5,  3,  3,  8,  6,  8,  5,  4,  7,  5,  3,  4,  3, 11,\n",
       "       10,  9,  3,  6,  6,  5,  6,  4,  6,  8,  6,  5,  3,  3,  4,  7,  6,\n",
       "        6,  5,  9,  3,  3,  5,  4,  5,  5,  1,  4,  6,  5,  6,  7,  7,  4,\n",
       "        9,  6,  7,  4,  7,  5, 10,  4,  6,  3,  3,  6, 10,  5, 10,  3,  4,\n",
       "        3,  6,  4,  3,  2,  4,  6,  4,  5,  4,  3,  3,  3,  3])"
      ]
     },
     "execution_count": 74,
     "metadata": {},
     "output_type": "execute_result"
    }
   ],
   "source": [
    "poisson = stats.poisson(mu = 5)\n",
    "poisson_sample"
   ]
  },
  {
   "cell_type": "code",
   "execution_count": 79,
   "id": "299918f3-e5cf-4020-a1b3-c03f150a0c24",
   "metadata": {},
   "outputs": [
    {
     "name": "stdout",
     "output_type": "stream",
     "text": [
      "Mean of sample si : 5.04\n",
      "Variance of sample is : 4.984400000000001\n"
     ]
    }
   ],
   "source": [
    "mean = np.mean(poisson_sample)\n",
    "print(\"Mean of sample si :\",mean)\n",
    "\n",
    "variance = np.var(poisson_sample)\n",
    "print(\"Variance of sample is :\",variance)"
   ]
  },
  {
   "cell_type": "markdown",
   "id": "e5baa1dc-4f1d-48f3-a400-5a1ac9448921",
   "metadata": {},
   "source": [
    "#### Answer_9"
   ]
  },
  {
   "cell_type": "markdown",
   "id": "cf3a79ed-f16b-471b-9c00-559bbc3796f3",
   "metadata": {},
   "source": [
    "##### > Binomial Distribution:\n",
    "##### >> Mean = np\n",
    "##### >> Variance = npq\n",
    "\n",
    "##### > Poisson Distribution:\n",
    "##### >> Mean = m\n",
    "##### >> Variance = m"
   ]
  },
  {
   "cell_type": "markdown",
   "id": "e4469e94-be91-4119-bc55-24173a6b0411",
   "metadata": {},
   "source": [
    "#### Answer_10"
   ]
  },
  {
   "cell_type": "markdown",
   "id": "1d426b6e-52ad-4598-94ce-31b8396bf235",
   "metadata": {},
   "source": [
    "##### > least frequent data appear towards the tail."
   ]
  },
  {
   "cell_type": "code",
   "execution_count": null,
   "id": "3738e452-6e46-4237-8f01-c91039e4686b",
   "metadata": {},
   "outputs": [],
   "source": []
  },
  {
   "cell_type": "code",
   "execution_count": null,
   "id": "cc0543fd-f678-4d70-b18b-fb38f67eb1fb",
   "metadata": {},
   "outputs": [],
   "source": []
  },
  {
   "cell_type": "code",
   "execution_count": null,
   "id": "5e40ab69-c89a-41a2-97a5-af85aa5172fb",
   "metadata": {},
   "outputs": [],
   "source": []
  },
  {
   "cell_type": "code",
   "execution_count": null,
   "id": "d7e38edc-3e30-459c-8b27-eb4f960f8191",
   "metadata": {},
   "outputs": [],
   "source": []
  },
  {
   "cell_type": "code",
   "execution_count": null,
   "id": "c60d1397-2b99-4a58-93f2-b6d0813e346a",
   "metadata": {},
   "outputs": [],
   "source": []
  }
 ],
 "metadata": {
  "kernelspec": {
   "display_name": "Python 3 (ipykernel)",
   "language": "python",
   "name": "python3"
  },
  "language_info": {
   "codemirror_mode": {
    "name": "ipython",
    "version": 3
   },
   "file_extension": ".py",
   "mimetype": "text/x-python",
   "name": "python",
   "nbconvert_exporter": "python",
   "pygments_lexer": "ipython3",
   "version": "3.10.8"
  }
 },
 "nbformat": 4,
 "nbformat_minor": 5
}
