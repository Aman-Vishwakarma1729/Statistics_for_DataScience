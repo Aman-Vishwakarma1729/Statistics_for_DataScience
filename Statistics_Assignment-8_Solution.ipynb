{
 "cells": [
  {
   "cell_type": "markdown",
   "id": "8c631a8e-a780-4499-81d6-e69c4617c028",
   "metadata": {},
   "source": [
    "#### Answer_1"
   ]
  },
  {
   "cell_type": "markdown",
   "id": "4e9bc082-63f2-4d82-ad3d-235034dd6e90",
   "metadata": {},
   "source": [
    "ANOVA (Analysis of Variance) is a statistical method used to compare means between two or more groups. In order to use ANOVA, there are certain assumptions that need to be met, and violations of these assumptions could impact the validity of the results. The assumptions are:\n",
    "\n",
    "* Normality assumption: The data within each group should follow a normal distribution. Violations of this assumption could occur when the data is skewed or has extreme outliers.\n",
    "\n",
    "* Homogeneity of variances assumption: The variance of the data within each group should be roughly equal. Violations of this assumption could occur when the variance is much larger in one group than in others, which can affect the F-statistic and the p-value.\n",
    "\n",
    "* Independence assumption: The observations within each group should be independent of each other. This means that the data points should not be related or dependent on each other. Violations of this assumption could occur when there is a relationship between the observations within a group.\n",
    "\n",
    "Examples of violations that could impact the validity of the results:\n",
    "\n",
    "* Non-normality: If the data within each group is not normally distributed, then the results of ANOVA may not be reliable. For example, if the data is skewed or has extreme outliers, then the results may not accurately reflect the true differences between the groups.\n",
    "\n",
    "* Heteroscedasticity: If the variance of the data within each group is not equal, then the results of ANOVA may not be reliable. For example, if the variance is much larger in one group than in others, then the F-statistic may be biased towards that group, resulting in incorrect conclusions.\n",
    "\n",
    "* Dependence: If the observations within a group are not independent, then the results of ANOVA may not be reliable. For example, if the data is collected from a repeated measures design, where each participant is measured more than once, then the observations within each participant may be dependent on each other, violating the independence assumption. In this case, a different statistical analysis, such as a repeated measures ANOVA, would be more appropriate."
   ]
  },
  {
   "cell_type": "markdown",
   "id": "8ab96454-0aa2-444f-a7a8-7b815dec9ef5",
   "metadata": {},
   "source": [
    "#### Answer_2"
   ]
  },
  {
   "cell_type": "markdown",
   "id": "16a99814-55c1-400b-9ec5-6a0a3fd68132",
   "metadata": {},
   "source": [
    "The three types of ANOVA are:\n",
    "\n",
    "* One-way ANOVA: This type of ANOVA is used when there is one categorical independent variable and one continuous dependent variable. The goal is to determine whether the means of the dependent variable are equal across the different levels of the independent variable. For example, a one-way ANOVA could be used to determine whether there are differences in the mean exam scores between three different classes (Class A, B, and C) of students.\n",
    "\n",
    "* Two-way ANOVA: This type of ANOVA is used when there are two categorical independent variables and one continuous dependent variable. The goal is to determine whether the means of the dependent variable are equal across the different levels of the two independent variables and whether there is an interaction effect between the two independent variables. For example, a two-way ANOVA could be used to determine whether there are differences in the mean exam scores between three different classes (Class A, B, and C) of students who were taught by two different teachers (Teacher X and Y).\n",
    "\n",
    "* Three-way ANOVA: This type of ANOVA is used when there are three categorical independent variables and one continuous dependent variable. The goal is to determine whether the means of the dependent variable are equal across the different levels of the three independent variables and whether there are any interaction effects between the three independent variables. For example, a three-way ANOVA could be used to determine whether there are differences in the mean exam scores between three different classes (Class A, B, and C) of students who were taught by two different teachers (Teacher X and Y) in two different schools (School 1 and 2).\n",
    "\n",
    "In summary, one-way ANOVA is used when there is one categorical independent variable, two-way ANOVA is used when there are two categorical independent variables, and three-way ANOVA is used when there are three categorical independent variables. The goal of each type of ANOVA is to determine whether there are significant differences in the means of the dependent variable across the different levels of the independent variables, and to identify any interaction effects between the independent variables."
   ]
  },
  {
   "cell_type": "markdown",
   "id": "ede6e8d7-11a0-46d7-b6be-4db66bc83f4e",
   "metadata": {},
   "source": [
    "#### Answer_3"
   ]
  },
  {
   "cell_type": "markdown",
   "id": "7e4a636e-d127-420f-b220-34b91627406a",
   "metadata": {},
   "source": [
    "Partitioning of variance is a fundamental concept in ANOVA (Analysis of Variance) that refers to the division of the total variance in a dataset into different components that are associated with different sources of variation. The partitioning of variance in ANOVA is important because it allows us to determine how much of the total variance in the data can be attributed to the independent variable(s) being studied, and how much of the variance is due to random error or other factors that are not of interest. This information is crucial in determining whether there are statistically significant differences between groups or conditions.\n",
    "\n",
    "In ANOVA, the total variance in the data is divided into two components: the between-group variance and the within-group variance. The between-group variance represents the differences between the means of the groups being compared and is attributable to the independent variable(s). The within-group variance represents the variability within each group and is attributable to random error or other factors that are not of interest.\n",
    "\n",
    "By comparing the between-group variance to the within-group variance, ANOVA allows us to determine whether the differences between the means of the groups are statistically significant or whether they could be due to chance. If the between-group variance is large relative to the within-group variance, then we can conclude that the differences between the means of the groups are statistically significant and are likely due to the independent variable(s) being studied.\n",
    "\n",
    "In summary, understanding the partitioning of variance in ANOVA is important because it allows us to determine the sources of variation in the data and to determine whether the differences between the means of the groups are statistically significant."
   ]
  },
  {
   "cell_type": "markdown",
   "id": "01b8ffaf-bc4f-4a3c-899a-7ff61ad3cdff",
   "metadata": {},
   "source": [
    "#### Answer_4"
   ]
  },
  {
   "cell_type": "code",
   "execution_count": null,
   "id": "2effe287-7ab1-4e6f-a65e-7e8bb0270d9c",
   "metadata": {},
   "outputs": [],
   "source": [
    "import pandas as pd\n",
    "import statsmodels.api as sm\n",
    "from statsmodels.formula.api import ols\n",
    "\n",
    "# load data into a pandas DataFrame\n",
    "data = pd.read_csv('data.csv')\n",
    "\n",
    "# fit one-way ANOVA model\n",
    "model = ols('response ~ group', data=data).fit()\n",
    "\n",
    "# calculate total sum of squares (SST)\n",
    "sst = sm.stats.anova_lm(model, typ=1)['sum_sq'][0]\n",
    "\n",
    "# calculate explained sum of squares (SSE)\n",
    "sse = sm.stats.anova_lm(model, typ=1)['sum_sq'][1]\n",
    "\n",
    "# calculate residual sum of squares (SSR)\n",
    "ssr = sst - sse\n",
    "\n",
    "print(\"Total sum of squares (SST):\", sst)\n",
    "print(\"Explained sum of squares (SSE):\", sse)\n",
    "print(\"Residual sum of squares (SSR):\", ssr)"
   ]
  },
  {
   "cell_type": "markdown",
   "id": "9f24fa95-1438-4c43-b07a-85056496b1b5",
   "metadata": {},
   "source": [
    "#### Answer_5"
   ]
  },
  {
   "cell_type": "code",
   "execution_count": null,
   "id": "7293461f-7949-48c7-86c6-7665fb8190e8",
   "metadata": {},
   "outputs": [],
   "source": [
    "import pandas as pd\n",
    "import statsmodels.api as sm\n",
    "from statsmodels.formula.api import ols\n",
    "from statsmodels.stats.anova import AnovaRM\n",
    "\n",
    "# load data into a pandas DataFrame\n",
    "data = pd.read_csv('data.csv')\n",
    "\n",
    "# fit two-way ANOVA model\n",
    "model = ols('response ~ factorA + factorB + factorA:factorB', data=data).fit()\n",
    "\n",
    "# perform ANOVA and extract main and interaction effects\n",
    "anovarm = AnovaRM(data, 'response', 'id', within=['factorA', 'factorB'])\n",
    "res = anovarm.fit()\n",
    "\n",
    "main_effects = res.anova_table['F Value'][0:2]\n",
    "interaction_effect = res.anova_table['F Value'][2]\n",
    "\n",
    "print(\"Main effect of factor A:\", main_effects[0])\n",
    "print(\"Main effect of factor B:\", main_effects[1])\n",
    "print(\"Interaction effect:\", interaction_effect)"
   ]
  },
  {
   "cell_type": "markdown",
   "id": "eebe5d8d-3a16-49c7-9daa-15240cb95167",
   "metadata": {},
   "source": [
    "#### Answer_6"
   ]
  },
  {
   "cell_type": "markdown",
   "id": "2b09c9c3-1b13-40ff-9e87-925ed2ac0f19",
   "metadata": {},
   "source": [
    "If we conducted a one-way ANOVA and obtained an F-statistic of 5.23 and a p-value of 0.02, we can conclude that there is statistically significant evidence that at least one of the groups is different from the others in terms of the mean value of the response variable.\n",
    "\n",
    "The F-statistic is a ratio of the variance between the groups to the variance within the groups, so a higher F-value indicates that the differences between the groups are relatively larger compared to the differences within the groups. In this case, the F-value of 5.23 suggests that the differences between the groups are moderately larger than the differences within the groups.\n",
    "\n",
    "The p-value of 0.02 indicates that the probability of obtaining an F-statistic as extreme or more extreme than the one we observed, assuming that there is no difference between the groups, is only 0.02. This is below the commonly used threshold of 0.05, so we can reject the null hypothesis of no difference between the groups and conclude that there is statistically significant evidence that at least one of the groups is different from the others.\n",
    "\n",
    "However, it's important to note that the one-way ANOVA only tells us that there is a difference between the groups, but not which specific groups are different from each other. To determine this, we would need to conduct post-hoc tests, such as Tukey's HSD or Bonferroni correction, to compare pairs of groups and identify the significant differences."
   ]
  },
  {
   "cell_type": "markdown",
   "id": "44789304-c9fe-48f0-a7ab-76c1620a4220",
   "metadata": {},
   "source": [
    "#### Answer_7"
   ]
  },
  {
   "cell_type": "markdown",
   "id": "f19191c5-f1e6-4cb5-8daf-950b5cff3a01",
   "metadata": {},
   "source": [
    "In a repeated measures ANOVA, missing data can occur if one or more measurements are not available for some of the participants. There are different methods to handle missing data, and the choice of method can have an impact on the validity and precision of the results.\n",
    "\n",
    "Here are some common methods for handling missing data in a repeated measures ANOVA:\n",
    "\n",
    "* Complete case analysis: This method involves excluding all participants who have missing data on any of the variables used in the ANOVA. The advantage of this method is that it is straightforward to implement and can reduce bias if the data are missing completely at random. However, this method can reduce the sample size and potentially introduce bias if the missing data are related to the outcome or the covariates.\n",
    "\n",
    "* Pairwise deletion: This method involves including all participants who have at least one complete measurement on the variables used in the ANOVA. The advantage of this method is that it can retain more data than complete case analysis, but it can also introduce bias if the missing data are related to the outcome or the covariates.\n",
    "\n",
    "* Imputation: This method involves estimating the missing values based on the observed values and the characteristics of the data. There are different types of imputation methods, such as mean imputation, regression imputation, and multiple imputation. The advantage of imputation is that it can retain more data and potentially reduce bias if the imputation model is correctly specified. However, imputation can also introduce bias if the imputation model is misspecified or if the assumptions of the imputation method are violated.\n",
    "\n",
    "It is important to note that the choice of method for handling missing data should depend on the mechanism of missingness (i.e., whether the missing data are missing completely at random, missing at random, or missing not at random) and the amount and pattern of missing data. In general, it is recommended to use multiple imputation or other advanced imputation methods if the amount of missing data is substantial or if the missingness is non-ignorable.\n",
    "\n",
    "In addition, different methods for handling missing data can lead to different estimates of the standard errors and the p-values, which can affect the conclusions of the ANOVA. Therefore, it is important to report the method used for handling missing data and to conduct sensitivity analyses to assess the robustness of the results to different methods."
   ]
  },
  {
   "cell_type": "markdown",
   "id": "4207a1ee-af1d-444a-be07-f1645f94c71f",
   "metadata": {},
   "source": [
    "#### Answer_8"
   ]
  },
  {
   "cell_type": "markdown",
   "id": "c4623325-cd17-4d69-bb9f-9402b25eb6ab",
   "metadata": {},
   "source": [
    "After conducting an ANOVA, post-hoc tests can be used to compare pairs of groups and identify which groups differ significantly from each other. Here are some common post-hoc tests used after ANOVA and when to use each one:\n",
    "\n",
    "* Tukey's Honestly Significant Difference (HSD) test: This test is used when there are more than two groups, and it is the most conservative test among the commonly used post-hoc tests. It controls the overall Type I error rate, which is the probability of rejecting the null hypothesis when it is true, at a specified level, and it is appropriate for situations where all pairwise comparisons need to be made. For example, a researcher may conduct a one-way ANOVA to compare the mean scores of three different teaching methods on a math test. If the ANOVA shows a significant difference among the three groups, the researcher may use Tukey's HSD test to compare the mean scores of each pair of teaching methods.\n",
    "\n",
    "* Bonferroni correction: This test is used when there are multiple pairwise comparisons, and it adjusts the p-values to control the overall Type I error rate at a specified level. It is more conservative than Tukey's HSD test and is appropriate when the number of pairwise comparisons is relatively large. For example, if a researcher conducts a two-way ANOVA to compare the effects of gender and age on a cognitive task, and the ANOVA shows a significant interaction effect, the researcher may use Bonferroni correction to compare the mean scores of each combination of gender and age.\n",
    "\n",
    "* Dunnett's test: This test is used when there is a control group and multiple treatment groups, and it compares each treatment group with the control group while controlling the overall Type I error rate. It is appropriate when the research question is whether any of the treatment groups differ significantly from the control group. For example, a researcher may conduct a one-way ANOVA to compare the mean scores of four different medications on a symptom scale, with a placebo group as the control. If the ANOVA shows a significant difference among the five groups, the researcher may use Dunnett's test to compare the mean scores of each medication group with the placebo group.\n",
    "\n",
    "It's important to note that post-hoc tests can increase the probability of making a Type I error, which is the risk of rejecting a null hypothesis when it is true. Therefore, it is recommended to use them cautiously and report the results with the adjusted p-values and effect sizes. A post-hoc test might be necessary when a researcher conducts an ANOVA and finds a significant difference among the groups or conditions but wants to determine which specific groups or conditions differ significantly from each other."
   ]
  },
  {
   "cell_type": "markdown",
   "id": "a079ee2a-e2d9-4bc6-9970-7becd3ef49ce",
   "metadata": {},
   "source": [
    "#### Answer_9"
   ]
  },
  {
   "cell_type": "code",
   "execution_count": 31,
   "id": "40b83554-cacb-49b7-a27a-18dcc20c536f",
   "metadata": {},
   "outputs": [
    {
     "name": "stdout",
     "output_type": "stream",
     "text": [
      "F-Statistic :0.17\n",
      "p_value : 0.843\n"
     ]
    }
   ],
   "source": [
    "import pandas as pd\n",
    "import numpy as np\n",
    "import scipy.stats as stat\n",
    "\n",
    "\n",
    "data = pd.DataFrame({\n",
    "    \"weight loss by diet A in kg\" : [5.2, 3.8, 4.5, 2.3, 6.1, 3.9, 4.8, 5.3, 3.2, 2.5, 7.2, 8.1, 6.9,7.5, 8.8, 7.1],\n",
    "    \"weight loss by diet B in kg\" : [6.4, 7.9, 9.1, 8.5, 4.2, 2.9, 3.6, 5.1, 3.3, 4.1, 2.8, 5.5, 3.4, 4.7,5.2, 3.8],\n",
    "    \"weight loss by diet C in kg\" : [3.2, 2.5, 7.2, 8.1, 6.9,7.5, 8.8, 7.1, 3.3, 4.1, 2.8, 5.5, 3.4, 4.7,5.2, 3.8]\n",
    "})\n",
    "\n",
    "F_stat,p_value = stat.f_oneway(data[\"weight loss by diet A in kg\"],\n",
    "                               data[\"weight loss by diet B in kg\"], \n",
    "                               data[\"weight loss by diet C in kg\"])\n",
    "print(\"F-Statistic :{:.2f}\".format(F_stat))\n",
    "print(\"p_value : {:.3f}\".format(p_value))\n"
   ]
  },
  {
   "cell_type": "markdown",
   "id": "29d0cca3-9a3e-4d4a-b8d5-40f1097ff730",
   "metadata": {},
   "source": [
    "#### Answer_10"
   ]
  },
  {
   "cell_type": "code",
   "execution_count": 16,
   "id": "16652ba0-bdd9-44b2-8ac4-4b905aa0a20a",
   "metadata": {},
   "outputs": [],
   "source": [
    "import pandas as pd\n",
    "\n",
    "data = pd.DataFrame({\n",
    "    'program': ['A']*20 + ['B']*20 + ['C']*20,\n",
    "    'experience': ['experienced']*10 + ['novice']*10 + ['experienced']*10 + ['novice']*10 + ['experienced']*10 + ['novice']*10,\n",
    "    'time': [24,26,25,27,28,26,27,29,25,28, # program A experienced\n",
    "             24,37,28,32,29,31,30,28,31,33, # program A novice\n",
    "             31,29,30,28,32,30,28,29,33,31, # program B experienced\n",
    "             35,36,33,38,37,34,36,39,35,33, # program B novice\n",
    "             17,19,20,18,21,19,18,20,21,19, # program C experienced\n",
    "             22,23,24,20,21,22,23,22,24,20] # program C novice\n",
    "})"
   ]
  },
  {
   "cell_type": "code",
   "execution_count": 18,
   "id": "46f89419-dbf2-4bff-b604-aee29babfc47",
   "metadata": {},
   "outputs": [],
   "source": [
    "import statsmodels.api as sm\n",
    "from statsmodels.formula.api import ols"
   ]
  },
  {
   "cell_type": "code",
   "execution_count": 20,
   "id": "a47790ea-6895-4181-a2c2-11ca10313aef",
   "metadata": {},
   "outputs": [],
   "source": [
    "model = ols('time ~ program + experience + program:experience' , data).fit()"
   ]
  },
  {
   "cell_type": "code",
   "execution_count": 21,
   "id": "e11ef2fc-d209-4ae5-8b88-262614516e69",
   "metadata": {},
   "outputs": [],
   "source": [
    "anova_table = sm.stats.anova_lm(model, typ=2)"
   ]
  },
  {
   "cell_type": "code",
   "execution_count": 22,
   "id": "da613fed-ba90-45d3-865e-d5febb4892c4",
   "metadata": {},
   "outputs": [
    {
     "data": {
      "text/html": [
       "<div>\n",
       "<style scoped>\n",
       "    .dataframe tbody tr th:only-of-type {\n",
       "        vertical-align: middle;\n",
       "    }\n",
       "\n",
       "    .dataframe tbody tr th {\n",
       "        vertical-align: top;\n",
       "    }\n",
       "\n",
       "    .dataframe thead th {\n",
       "        text-align: right;\n",
       "    }\n",
       "</style>\n",
       "<table border=\"1\" class=\"dataframe\">\n",
       "  <thead>\n",
       "    <tr style=\"text-align: right;\">\n",
       "      <th></th>\n",
       "      <th>sum_sq</th>\n",
       "      <th>df</th>\n",
       "      <th>F</th>\n",
       "      <th>PR(&gt;F)</th>\n",
       "    </tr>\n",
       "  </thead>\n",
       "  <tbody>\n",
       "    <tr>\n",
       "      <th>program</th>\n",
       "      <td>1524.700000</td>\n",
       "      <td>2.0</td>\n",
       "      <td>181.832597</td>\n",
       "      <td>1.028650e-24</td>\n",
       "    </tr>\n",
       "    <tr>\n",
       "      <th>experience</th>\n",
       "      <td>248.066667</td>\n",
       "      <td>1.0</td>\n",
       "      <td>59.167845</td>\n",
       "      <td>3.103420e-10</td>\n",
       "    </tr>\n",
       "    <tr>\n",
       "      <th>program:experience</th>\n",
       "      <td>17.433333</td>\n",
       "      <td>2.0</td>\n",
       "      <td>2.079064</td>\n",
       "      <td>1.349430e-01</td>\n",
       "    </tr>\n",
       "    <tr>\n",
       "      <th>Residual</th>\n",
       "      <td>226.400000</td>\n",
       "      <td>54.0</td>\n",
       "      <td>NaN</td>\n",
       "      <td>NaN</td>\n",
       "    </tr>\n",
       "  </tbody>\n",
       "</table>\n",
       "</div>"
      ],
      "text/plain": [
       "                         sum_sq    df           F        PR(>F)\n",
       "program             1524.700000   2.0  181.832597  1.028650e-24\n",
       "experience           248.066667   1.0   59.167845  3.103420e-10\n",
       "program:experience    17.433333   2.0    2.079064  1.349430e-01\n",
       "Residual             226.400000  54.0         NaN           NaN"
      ]
     },
     "execution_count": 22,
     "metadata": {},
     "output_type": "execute_result"
    }
   ],
   "source": [
    "anova_table"
   ]
  },
  {
   "cell_type": "markdown",
   "id": "e201ef3c-b11f-43ba-bdd6-489ebbbaf3a4",
   "metadata": {},
   "source": [
    "From the ANOVA table, we can see that there are significant main effects of program (F(2,54) = 181.83, p = 1.028650e-24) and experience (F(1,54) = 59.16, p = 3.103420e-10) and significant interaction effect (F(2,54) = 2.08, p =1.349430e-01).\n",
    "\n",
    "The main effect of program indicates that there are differences in the average time it takes to complete the task using the different software programs. However, we cannot say which programs are significantly different from each other without conducting post-hoc tests.\n",
    "\n",
    "The main effect of experience indicates that there are differences in the average time it takes to complete the task between novice and experienced employees, regardless of the software program used.\n",
    "\n",
    "The significant interaction effect indicates that the effect of software program on task completion time is  dependent on the employee's experience level, and vice versa."
   ]
  },
  {
   "cell_type": "markdown",
   "id": "97407707-d95e-48ae-8457-dfb587804848",
   "metadata": {},
   "source": [
    "#### Answer_11"
   ]
  },
  {
   "cell_type": "code",
   "execution_count": 23,
   "id": "b505a675-8c62-4889-8153-6a2538780f80",
   "metadata": {},
   "outputs": [
    {
     "name": "stdout",
     "output_type": "stream",
     "text": [
      "t-statistic: -4.12895470878696\n",
      "p-value: 5.369597482929837e-05\n"
     ]
    }
   ],
   "source": [
    "import numpy as np\n",
    "from scipy import stats\n",
    "\n",
    "# Generate some sample data \n",
    "control_scores = np.random.normal(loc=70, scale=10, size=100)\n",
    "experimental_scores = np.random.normal(loc=75, scale=10, size=100)\n",
    "\n",
    "# Conduct the t-test\n",
    "t_statistic, p_value = stats.ttest_ind(control_scores, experimental_scores)\n",
    "\n",
    "# Print the results\n",
    "print(\"t-statistic:\", t_statistic)\n",
    "print(\"p-value:\", p_value)\n"
   ]
  },
  {
   "cell_type": "code",
   "execution_count": 24,
   "id": "5053abb0-36e2-45f5-9678-6cbaceb18619",
   "metadata": {},
   "outputs": [
    {
     "name": "stdout",
     "output_type": "stream",
     "text": [
      "   Multiple Comparison of Means - Tukey HSD, FWER=0.05   \n",
      "=========================================================\n",
      " group1    group2    meandiff p-adj  lower  upper  reject\n",
      "---------------------------------------------------------\n",
      "control experimental   5.3468 0.0001 2.7931 7.9004   True\n",
      "---------------------------------------------------------\n"
     ]
    }
   ],
   "source": [
    "import statsmodels.stats.multicomp as mc\n",
    "\n",
    "# Create a list of group labels\n",
    "groups = ['control']*100 + ['experimental']*100\n",
    "\n",
    "# Create a list of all test scores\n",
    "all_scores = np.concatenate((control_scores, experimental_scores))\n",
    "\n",
    "# Perform the Tukey's HSD test\n",
    "tukey_results = mc.MultiComparison(all_scores, groups).tukeyhsd()\n",
    "\n",
    "# Print the results\n",
    "print(tukey_results)\n"
   ]
  },
  {
   "cell_type": "markdown",
   "id": "7f1f431f-f31c-43e2-8667-3c716c7748a1",
   "metadata": {},
   "source": [
    "#### Answer_12"
   ]
  },
  {
   "cell_type": "code",
   "execution_count": 25,
   "id": "adf5a24d-03f2-48a8-82b8-0b3bec7dd1bd",
   "metadata": {},
   "outputs": [],
   "source": [
    "import numpy as np\n",
    "import pandas as pd\n",
    "\n",
    "np.random.seed(1)\n",
    "\n",
    "store_a = np.random.normal(100, 20, 30)\n",
    "store_b = np.random.normal(110, 25, 30)\n",
    "store_c = np.random.normal(120, 30, 30)\n",
    "\n",
    "sales_data = pd.DataFrame({\n",
    "    'Store A': store_a,\n",
    "    'Store B': store_b,\n",
    "    'Store C': store_c\n",
    "})\n"
   ]
  },
  {
   "cell_type": "code",
   "execution_count": 26,
   "id": "17abf290-8dd7-49b9-a442-1a0fbcc936c6",
   "metadata": {},
   "outputs": [
    {
     "data": {
      "text/html": [
       "<div>\n",
       "<style scoped>\n",
       "    .dataframe tbody tr th:only-of-type {\n",
       "        vertical-align: middle;\n",
       "    }\n",
       "\n",
       "    .dataframe tbody tr th {\n",
       "        vertical-align: top;\n",
       "    }\n",
       "\n",
       "    .dataframe thead th {\n",
       "        text-align: right;\n",
       "    }\n",
       "</style>\n",
       "<table border=\"1\" class=\"dataframe\">\n",
       "  <thead>\n",
       "    <tr style=\"text-align: right;\">\n",
       "      <th></th>\n",
       "      <th>Store A</th>\n",
       "      <th>Store B</th>\n",
       "      <th>Store C</th>\n",
       "    </tr>\n",
       "  </thead>\n",
       "  <tbody>\n",
       "    <tr>\n",
       "      <th>0</th>\n",
       "      <td>132.486907</td>\n",
       "      <td>92.708481</td>\n",
       "      <td>97.368062</td>\n",
       "    </tr>\n",
       "    <tr>\n",
       "      <th>1</th>\n",
       "      <td>87.764872</td>\n",
       "      <td>100.081162</td>\n",
       "      <td>157.586045</td>\n",
       "    </tr>\n",
       "    <tr>\n",
       "      <th>2</th>\n",
       "      <td>89.436565</td>\n",
       "      <td>92.820682</td>\n",
       "      <td>135.387895</td>\n",
       "    </tr>\n",
       "    <tr>\n",
       "      <th>3</th>\n",
       "      <td>78.540628</td>\n",
       "      <td>88.869859</td>\n",
       "      <td>111.057215</td>\n",
       "    </tr>\n",
       "    <tr>\n",
       "      <th>4</th>\n",
       "      <td>117.308153</td>\n",
       "      <td>93.218847</td>\n",
       "      <td>134.655544</td>\n",
       "    </tr>\n",
       "    <tr>\n",
       "      <th>5</th>\n",
       "      <td>53.969226</td>\n",
       "      <td>109.683385</td>\n",
       "      <td>117.732849</td>\n",
       "    </tr>\n",
       "    <tr>\n",
       "      <th>6</th>\n",
       "      <td>134.896235</td>\n",
       "      <td>82.067241</td>\n",
       "      <td>153.948882</td>\n",
       "    </tr>\n",
       "    <tr>\n",
       "      <th>7</th>\n",
       "      <td>84.775862</td>\n",
       "      <td>115.860392</td>\n",
       "      <td>165.594504</td>\n",
       "    </tr>\n",
       "    <tr>\n",
       "      <th>8</th>\n",
       "      <td>106.380782</td>\n",
       "      <td>151.495054</td>\n",
       "      <td>185.567262</td>\n",
       "    </tr>\n",
       "    <tr>\n",
       "      <th>9</th>\n",
       "      <td>95.012592</td>\n",
       "      <td>128.551104</td>\n",
       "      <td>78.105110</td>\n",
       "    </tr>\n",
       "    <tr>\n",
       "      <th>10</th>\n",
       "      <td>129.242159</td>\n",
       "      <td>105.204111</td>\n",
       "      <td>76.676586</td>\n",
       "    </tr>\n",
       "    <tr>\n",
       "      <th>11</th>\n",
       "      <td>58.797186</td>\n",
       "      <td>87.809276</td>\n",
       "      <td>104.866024</td>\n",
       "    </tr>\n",
       "    <tr>\n",
       "      <th>12</th>\n",
       "      <td>93.551656</td>\n",
       "      <td>91.321043</td>\n",
       "      <td>124.801112</td>\n",
       "    </tr>\n",
       "    <tr>\n",
       "      <th>13</th>\n",
       "      <td>92.318913</td>\n",
       "      <td>152.311365</td>\n",
       "      <td>146.285068</td>\n",
       "    </tr>\n",
       "    <tr>\n",
       "      <th>14</th>\n",
       "      <td>122.675389</td>\n",
       "      <td>111.270194</td>\n",
       "      <td>129.469048</td>\n",
       "    </tr>\n",
       "    <tr>\n",
       "      <th>15</th>\n",
       "      <td>78.002175</td>\n",
       "      <td>94.075109</td>\n",
       "      <td>59.333964</td>\n",
       "    </tr>\n",
       "    <tr>\n",
       "      <th>16</th>\n",
       "      <td>96.551436</td>\n",
       "      <td>114.772887</td>\n",
       "      <td>110.813880</td>\n",
       "    </tr>\n",
       "    <tr>\n",
       "      <th>17</th>\n",
       "      <td>82.442832</td>\n",
       "      <td>162.506378</td>\n",
       "      <td>144.839239</td>\n",
       "    </tr>\n",
       "    <tr>\n",
       "      <th>18</th>\n",
       "      <td>100.844275</td>\n",
       "      <td>113.003974</td>\n",
       "      <td>126.902842</td>\n",
       "    </tr>\n",
       "    <tr>\n",
       "      <th>19</th>\n",
       "      <td>111.656304</td>\n",
       "      <td>125.430078</td>\n",
       "      <td>142.860335</td>\n",
       "    </tr>\n",
       "    <tr>\n",
       "      <th>20</th>\n",
       "      <td>77.987616</td>\n",
       "      <td>117.504258</td>\n",
       "      <td>113.330156</td>\n",
       "    </tr>\n",
       "    <tr>\n",
       "      <th>21</th>\n",
       "      <td>122.894474</td>\n",
       "      <td>101.193754</td>\n",
       "      <td>113.977258</td>\n",
       "    </tr>\n",
       "    <tr>\n",
       "      <th>22</th>\n",
       "      <td>118.031814</td>\n",
       "      <td>81.437045</td>\n",
       "      <td>125.596842</td>\n",
       "    </tr>\n",
       "    <tr>\n",
       "      <th>23</th>\n",
       "      <td>110.049887</td>\n",
       "      <td>101.266432</td>\n",
       "      <td>132.301549</td>\n",
       "    </tr>\n",
       "    <tr>\n",
       "      <th>24</th>\n",
       "      <td>118.017119</td>\n",
       "      <td>104.777644</td>\n",
       "      <td>125.948992</td>\n",
       "    </tr>\n",
       "    <tr>\n",
       "      <th>25</th>\n",
       "      <td>86.325443</td>\n",
       "      <td>124.665580</td>\n",
       "      <td>123.570259</td>\n",
       "    </tr>\n",
       "    <tr>\n",
       "      <th>26</th>\n",
       "      <td>97.542195</td>\n",
       "      <td>130.974585</td>\n",
       "      <td>99.880131</td>\n",
       "    </tr>\n",
       "    <tr>\n",
       "      <th>27</th>\n",
       "      <td>81.284611</td>\n",
       "      <td>133.277552</td>\n",
       "      <td>131.326914</td>\n",
       "    </tr>\n",
       "    <tr>\n",
       "      <th>28</th>\n",
       "      <td>94.642238</td>\n",
       "      <td>117.139683</td>\n",
       "      <td>123.654638</td>\n",
       "    </tr>\n",
       "    <tr>\n",
       "      <th>29</th>\n",
       "      <td>110.607109</td>\n",
       "      <td>132.128529</td>\n",
       "      <td>153.884517</td>\n",
       "    </tr>\n",
       "  </tbody>\n",
       "</table>\n",
       "</div>"
      ],
      "text/plain": [
       "       Store A     Store B     Store C\n",
       "0   132.486907   92.708481   97.368062\n",
       "1    87.764872  100.081162  157.586045\n",
       "2    89.436565   92.820682  135.387895\n",
       "3    78.540628   88.869859  111.057215\n",
       "4   117.308153   93.218847  134.655544\n",
       "5    53.969226  109.683385  117.732849\n",
       "6   134.896235   82.067241  153.948882\n",
       "7    84.775862  115.860392  165.594504\n",
       "8   106.380782  151.495054  185.567262\n",
       "9    95.012592  128.551104   78.105110\n",
       "10  129.242159  105.204111   76.676586\n",
       "11   58.797186   87.809276  104.866024\n",
       "12   93.551656   91.321043  124.801112\n",
       "13   92.318913  152.311365  146.285068\n",
       "14  122.675389  111.270194  129.469048\n",
       "15   78.002175   94.075109   59.333964\n",
       "16   96.551436  114.772887  110.813880\n",
       "17   82.442832  162.506378  144.839239\n",
       "18  100.844275  113.003974  126.902842\n",
       "19  111.656304  125.430078  142.860335\n",
       "20   77.987616  117.504258  113.330156\n",
       "21  122.894474  101.193754  113.977258\n",
       "22  118.031814   81.437045  125.596842\n",
       "23  110.049887  101.266432  132.301549\n",
       "24  118.017119  104.777644  125.948992\n",
       "25   86.325443  124.665580  123.570259\n",
       "26   97.542195  130.974585   99.880131\n",
       "27   81.284611  133.277552  131.326914\n",
       "28   94.642238  117.139683  123.654638\n",
       "29  110.607109  132.128529  153.884517"
      ]
     },
     "execution_count": 26,
     "metadata": {},
     "output_type": "execute_result"
    }
   ],
   "source": [
    "sales_data "
   ]
  },
  {
   "cell_type": "code",
   "execution_count": 38,
   "id": "7d6c3ffa-85bf-4999-ad64-464a6627600b",
   "metadata": {},
   "outputs": [
    {
     "data": {
      "text/html": [
       "<div>\n",
       "<style scoped>\n",
       "    .dataframe tbody tr th:only-of-type {\n",
       "        vertical-align: middle;\n",
       "    }\n",
       "\n",
       "    .dataframe tbody tr th {\n",
       "        vertical-align: top;\n",
       "    }\n",
       "\n",
       "    .dataframe thead th {\n",
       "        text-align: right;\n",
       "    }\n",
       "</style>\n",
       "<table border=\"1\" class=\"dataframe\">\n",
       "  <thead>\n",
       "    <tr style=\"text-align: right;\">\n",
       "      <th></th>\n",
       "      <th>sum_sq</th>\n",
       "      <th>df</th>\n",
       "      <th>F</th>\n",
       "      <th>PR(&gt;F)</th>\n",
       "    </tr>\n",
       "  </thead>\n",
       "  <tbody>\n",
       "    <tr>\n",
       "      <th>store</th>\n",
       "      <td>10225.685477</td>\n",
       "      <td>2.0</td>\n",
       "      <td>9.675720</td>\n",
       "      <td>0.000165</td>\n",
       "    </tr>\n",
       "    <tr>\n",
       "      <th>day</th>\n",
       "      <td>513.902230</td>\n",
       "      <td>1.0</td>\n",
       "      <td>0.972526</td>\n",
       "      <td>0.326883</td>\n",
       "    </tr>\n",
       "    <tr>\n",
       "      <th>store:day</th>\n",
       "      <td>1128.773737</td>\n",
       "      <td>2.0</td>\n",
       "      <td>1.068065</td>\n",
       "      <td>0.348293</td>\n",
       "    </tr>\n",
       "    <tr>\n",
       "      <th>Residual</th>\n",
       "      <td>44387.271403</td>\n",
       "      <td>84.0</td>\n",
       "      <td>NaN</td>\n",
       "      <td>NaN</td>\n",
       "    </tr>\n",
       "  </tbody>\n",
       "</table>\n",
       "</div>"
      ],
      "text/plain": [
       "                 sum_sq    df         F    PR(>F)\n",
       "store      10225.685477   2.0  9.675720  0.000165\n",
       "day          513.902230   1.0  0.972526  0.326883\n",
       "store:day   1128.773737   2.0  1.068065  0.348293\n",
       "Residual   44387.271403  84.0       NaN       NaN"
      ]
     },
     "execution_count": 38,
     "metadata": {},
     "output_type": "execute_result"
    }
   ],
   "source": [
    "import statsmodels.api as sm\n",
    "from statsmodels.formula.api import ols\n",
    "\n",
    "sales_melt = pd.melt(sales_data.reset_index(), id_vars=['index'], value_vars=['Store A', 'Store B', 'Store C'])\n",
    "sales_melt.columns = ['day', 'store', 'sales']\n",
    "rm_anova = ols('sales ~ store + day + store:day', data=sales_melt).fit()\n",
    "sm.stats.anova_lm(rm_anova, typ=2)\n"
   ]
  },
  {
   "cell_type": "code",
   "execution_count": 39,
   "id": "5bcf4e52-cd06-48e3-8bba-b45d6dc049be",
   "metadata": {},
   "outputs": [
    {
     "name": "stdout",
     "output_type": "stream",
     "text": [
      " Multiple Comparison of Means - Tukey HSD, FWER=0.05  \n",
      "======================================================\n",
      " group1  group2 meandiff p-adj   lower   upper  reject\n",
      "------------------------------------------------------\n",
      "Store A Store B   13.113 0.0754 -1.0485 27.2744  False\n",
      "Store A Store C  26.1095 0.0001 11.9481  40.271   True\n",
      "Store B Store C  12.9966 0.0788 -1.1649  27.158  False\n",
      "------------------------------------------------------\n"
     ]
    }
   ],
   "source": [
    "from statsmodels.stats.multicomp import pairwise_tukeyhsd\n",
    "\n",
    "# Perform Tukey's HSD test for post-hoc comparisons\n",
    "tukey = pairwise_tukeyhsd(endog=sales_melt['sales'], groups=sales_melt['store'], alpha=0.05)\n",
    "\n",
    "print(tukey.summary())"
   ]
  },
  {
   "cell_type": "code",
   "execution_count": null,
   "id": "8151b999-0179-47ba-b1a9-9615f537f90f",
   "metadata": {},
   "outputs": [],
   "source": []
  }
 ],
 "metadata": {
  "kernelspec": {
   "display_name": "Python 3 (ipykernel)",
   "language": "python",
   "name": "python3"
  },
  "language_info": {
   "codemirror_mode": {
    "name": "ipython",
    "version": 3
   },
   "file_extension": ".py",
   "mimetype": "text/x-python",
   "name": "python",
   "nbconvert_exporter": "python",
   "pygments_lexer": "ipython3",
   "version": "3.10.8"
  }
 },
 "nbformat": 4,
 "nbformat_minor": 5
}
