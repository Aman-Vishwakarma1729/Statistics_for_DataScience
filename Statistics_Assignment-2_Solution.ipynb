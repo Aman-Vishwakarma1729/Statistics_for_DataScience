{
 "cells": [
  {
   "cell_type": "markdown",
   "id": "f72cbbd9-cc7b-47c4-a5b6-1c546f2a8983",
   "metadata": {},
   "source": [
    "#### Answer_1"
   ]
  },
  {
   "cell_type": "markdown",
   "id": "448d7a43-12d2-467e-af11-6bfe45edb1e4",
   "metadata": {},
   "source": [
    "##### > 1) Mean\n",
    "##### > 2) Median\n",
    "##### > 3) Mode"
   ]
  },
  {
   "cell_type": "markdown",
   "id": "23737b61-0136-4ab8-a963-fb49614ea926",
   "metadata": {},
   "source": [
    "#### Answer_2"
   ]
  },
  {
   "cell_type": "markdown",
   "id": "ad315d0d-3bc0-4a33-a58c-016fbd13b999",
   "metadata": {},
   "source": [
    "##### > Mean is study of average of data.\n",
    "##### > Median is studying the center of data.\n",
    "##### > Mode is studying the data point with highest occurrence that is it's frequency.\n"
   ]
  },
  {
   "cell_type": "markdown",
   "id": "d9a49036-e358-49f8-9cae-47f3edb3328e",
   "metadata": {},
   "source": [
    "#### Answer_3"
   ]
  },
  {
   "cell_type": "code",
   "execution_count": 2,
   "id": "380e2920-307a-419d-afdb-cc8418886ee4",
   "metadata": {},
   "outputs": [],
   "source": [
    "height = [178,177,176,177,178.2,178,175,179,180,175,178.9,176.2,177,172.5,178,176.5]"
   ]
  },
  {
   "cell_type": "code",
   "execution_count": 4,
   "id": "1644fcc5-207d-4d32-8267-b439775374c6",
   "metadata": {},
   "outputs": [
    {
     "name": "stdout",
     "output_type": "stream",
     "text": [
      "The mean height is:  177.01875\n"
     ]
    }
   ],
   "source": [
    "## Mean\n",
    "\n",
    "import numpy as np\n",
    "\n",
    "print('The mean height is: ',np.mean(height))"
   ]
  },
  {
   "cell_type": "code",
   "execution_count": 6,
   "id": "6b38761a-add2-464a-b835-8412fb6eee6e",
   "metadata": {},
   "outputs": [
    {
     "name": "stdout",
     "output_type": "stream",
     "text": [
      "The median height is:  177.0\n"
     ]
    }
   ],
   "source": [
    "## Median\n",
    "\n",
    "print('The median height is: ',np.median(height))"
   ]
  },
  {
   "cell_type": "code",
   "execution_count": 11,
   "id": "581cc911-e4d1-4a26-9e16-2f317bb431a0",
   "metadata": {},
   "outputs": [
    {
     "name": "stdout",
     "output_type": "stream",
     "text": [
      "Mode of the given array of height is :  ModeResult(mode=array([177.]), count=array([3]))\n"
     ]
    },
    {
     "name": "stderr",
     "output_type": "stream",
     "text": [
      "/tmp/ipykernel_591/3477528447.py:5: FutureWarning: Unlike other reduction functions (e.g. `skew`, `kurtosis`), the default behavior of `mode` typically preserves the axis it acts along. In SciPy 1.11.0, this behavior will change: the default value of `keepdims` will become False, the `axis` over which the statistic is taken will be eliminated, and the value None will no longer be accepted. Set `keepdims` to True or False to avoid this warning.\n",
      "  print('Mode of the given array of height is : ',stats.mode(height))\n"
     ]
    }
   ],
   "source": [
    "## Mode\n",
    "\n",
    "from scipy import stats\n",
    "\n",
    "print('Mode of the given array of height is : ',stats.mode(height))"
   ]
  },
  {
   "cell_type": "markdown",
   "id": "a6880db8-9a1b-4b74-91d1-b47932bc039d",
   "metadata": {},
   "source": [
    "#### Answer_4"
   ]
  },
  {
   "cell_type": "code",
   "execution_count": 13,
   "id": "ee1fe018-f647-41c1-a7b8-62cec028e265",
   "metadata": {},
   "outputs": [
    {
     "name": "stdout",
     "output_type": "stream",
     "text": [
      "Standard Deviattion of the give data is :  1.7885814036548633\n"
     ]
    }
   ],
   "source": [
    "data = [178,177,176,177,178.2,178,175,179,180,175,178.9,176.2,177,172.5,178,176.5]\n",
    "\n",
    "print('Standard Deviattion of the give data is : ',np.std(data))"
   ]
  },
  {
   "cell_type": "markdown",
   "id": "4ad47c6b-4965-4d06-bdf4-bbea6e20f18c",
   "metadata": {},
   "source": [
    "#### Answer_5"
   ]
  },
  {
   "cell_type": "markdown",
   "id": "b6828485-1599-45b1-8d44-e2e107c88f3d",
   "metadata": {},
   "source": [
    "##### > Range:\n",
    "###### > The range is the difference between the highest and lowest scores in a data set and is the simplest measure of spread.\n",
    "###### >>> Range = maximum value - minimum value\n",
    "###### > The wide range indicates high variability.\n",
    "###### > Small range indicates low variability in the distribution."
   ]
  },
  {
   "cell_type": "code",
   "execution_count": 22,
   "id": "9ab91213-df87-4a7a-889b-e29a0671b7a2",
   "metadata": {},
   "outputs": [
    {
     "name": "stdout",
     "output_type": "stream",
     "text": [
      "Range of data_1 is : 7.5\n",
      "Range of data_2 is : 980\n"
     ]
    }
   ],
   "source": [
    "## Range \n",
    "\n",
    "data_1 = [178,177,176,177,178.2,178,175,179,180,175,178.9,176.2,177,172.5,178,176.5]\n",
    "range_1 = max(data_1) - min(data_1)\n",
    "print(\"Range of data_1 is :\" , range_1)\n",
    "\n",
    "data_2 = [20,40,100,150,400,300,700,1000]\n",
    "range_2 = max(data_2) - min(data_2)\n",
    "print(\"Range of data_2 is :\" , range_2)\n"
   ]
  },
  {
   "cell_type": "markdown",
   "id": "8e488f92-dfa6-497e-95ec-86dd733924c5",
   "metadata": {},
   "source": [
    "###### > we can clealry observer data_1 and data_2 and their variance in of datapoints and we can also observe it through range of respective datas."
   ]
  },
  {
   "cell_type": "markdown",
   "id": "2d01c4ce-6061-4ef1-8aad-b865bb5720db",
   "metadata": {},
   "source": [
    "##### > Variance \n",
    "###### > Variance measures how far each number in the dataset from the mean."
   ]
  },
  {
   "cell_type": "code",
   "execution_count": 24,
   "id": "5ccc26e7-3f5c-4a76-94e5-fd453d690acb",
   "metadata": {},
   "outputs": [
    {
     "name": "stdout",
     "output_type": "stream",
     "text": [
      "Variance is:  3.199023437500001\n"
     ]
    }
   ],
   "source": [
    "## Variance\n",
    "\n",
    "print('Variance is: ',np.var(height))"
   ]
  },
  {
   "cell_type": "markdown",
   "id": "37edd743-85aa-4cea-93d0-a2cb7ab2ac7d",
   "metadata": {},
   "source": [
    "##### > Standard Deviation\n",
    "###### > If the data points are further from the mean, there is a higher deviation within the data set; thus, the more spread out the data, the higher the standard deviation."
   ]
  },
  {
   "cell_type": "markdown",
   "id": "2838bd4d-4d6e-4e9d-ba7e-5c3073256694",
   "metadata": {},
   "source": [
    "#### Answer_6"
   ]
  },
  {
   "cell_type": "markdown",
   "id": "68de0b89-1b22-4fc8-9c21-15f49a8b91bb",
   "metadata": {},
   "source": [
    "##### > A Venn diagram is an illustration that uses circles to show the relationships among things or finite groups of things. Circles that overlap have a commonality while circles that do not overlap do not share those traits"
   ]
  },
  {
   "cell_type": "markdown",
   "id": "fc3de486-aab9-454c-88da-04c9e5638436",
   "metadata": {},
   "source": [
    "#### Answer_7"
   ]
  },
  {
   "cell_type": "code",
   "execution_count": 31,
   "id": "3f650134-bf6f-42f3-a35b-d5ea890713ec",
   "metadata": {},
   "outputs": [
    {
     "name": "stdout",
     "output_type": "stream",
     "text": [
      "A n B :  {2, 6}\n",
      "A U B {0, 2, 3, 4, 5, 6, 7, 8, 10}\n"
     ]
    }
   ],
   "source": [
    "A = {2,3,4,5,6,7}\n",
    "B = {0,2,6,8,10}\n",
    "\n",
    "A_intersection_B = A.intersection(B)\n",
    "print(\"A n B : \",A_intersection_B)\n",
    "\n",
    "A_union_B = A.union(B)\n",
    "print(\"A U B\",A_union_B)"
   ]
  },
  {
   "cell_type": "markdown",
   "id": "d07c2a80-dd45-431f-98b7-8cee43dbfff0",
   "metadata": {},
   "source": [
    "#### Answer_8"
   ]
  },
  {
   "cell_type": "markdown",
   "id": "d6ff2297-77ff-4541-8da6-8281b556b24d",
   "metadata": {},
   "source": [
    "##### > Skewness is measure that refers to extent of symmetry or assymmetry in distribution. It describes the shape of distribution.\n",
    "##### > Skewness means lack of symmetry or assymetry of distribution of random variables. Skewness gives idea obout the shape of curve which we can draw with the help of data."
   ]
  },
  {
   "cell_type": "markdown",
   "id": "5db36364-944f-4c5c-a372-cc35e0e41712",
   "metadata": {},
   "source": [
    "#### Answer_9"
   ]
  },
  {
   "cell_type": "markdown",
   "id": "347be3e3-2452-4201-9351-5bfca78928de",
   "metadata": {},
   "source": [
    "##### When data is right/positively skewed:\n",
    "##### Mode < Median < Mean"
   ]
  },
  {
   "cell_type": "markdown",
   "id": "2c61846a-240a-4e6e-a984-56e5f186e596",
   "metadata": {},
   "source": [
    "#### Answer_10"
   ]
  },
  {
   "cell_type": "markdown",
   "id": "98e9a994-1698-450c-8a55-8a640e91858d",
   "metadata": {},
   "source": [
    "##### Covariance shows you how the two variables differ, whereas correlation shows you how the two variables are related.\n",
    "#### > COVARIANCE:\n",
    "##### >> Covariance is a statistical term that refers to a systematic relationship between two random variables in which a change in the other reflects a change in one variable.\n",
    "##### >> The covariance value can range from -∞ to +∞, with a negative value indicating a negative relationship and a positive value indicating a positive relationship.\n",
    "\n",
    "#### > CORELATION:\n",
    "##### >> In statistics, correlation is a measure that determines the degree to which two or more random variables move in sequence. When an equivalent movement of another variable reciprocates the movement of one variable in some way or another during the study of two variables, the variables are said to be correlated."
   ]
  },
  {
   "cell_type": "markdown",
   "id": "77129196-99a1-4b5e-a305-87f42d5431ad",
   "metadata": {},
   "source": [
    "#### Answer_11"
   ]
  },
  {
   "cell_type": "markdown",
   "id": "eb9bd94d-7e1f-4b69-9cef-a2e265d12644",
   "metadata": {},
   "source": [
    "##### Formula for calculating sample mean is:\n",
    "##### s = ( summation i from 1 to n (Xi))/n\n",
    "##### where s is sample mean.\n",
    "##### Xi is data points.\n",
    "##### n is total number of observations."
   ]
  },
  {
   "cell_type": "code",
   "execution_count": 39,
   "id": "5b30280c-2b84-4804-8573-42e0c37a8d57",
   "metadata": {},
   "outputs": [
    {
     "name": "stdout",
     "output_type": "stream",
     "text": [
      "Summation of data points are:  2832.3\n",
      "Total number of observation :  16\n",
      "Sample mean of given data is : 177.01875\n"
     ]
    }
   ],
   "source": [
    "## Sample mean\n",
    "\n",
    "data = [178,177,176,177,178.2,178,175,179,180,175,178.9,176.2,177,172.5,178,176.5]\n",
    "\n",
    "## Method_1\n",
    "\n",
    "sum_data = sum(data)\n",
    "print(\"Summation of data points are: \" , sum_data)\n",
    "n = len(data)\n",
    "print(\"Total number of observation : \", n)\n",
    "sample_mean = sum_data/n\n",
    "print(\"Sample mean of given data is :\" ,sample_mean)"
   ]
  },
  {
   "cell_type": "code",
   "execution_count": 41,
   "id": "14a65239-3028-47da-8bcc-727ce46c54bd",
   "metadata": {},
   "outputs": [
    {
     "data": {
      "text/plain": [
       "177.01875"
      ]
     },
     "execution_count": 41,
     "metadata": {},
     "output_type": "execute_result"
    }
   ],
   "source": [
    "## method 2\n",
    "\n",
    "np.mean(data)"
   ]
  },
  {
   "cell_type": "markdown",
   "id": "9aa4e4c4-0f99-4f78-96ed-b6b58e3bd2b3",
   "metadata": {},
   "source": [
    "#### Answer_12"
   ]
  },
  {
   "cell_type": "markdown",
   "id": "332bdab0-32d6-44d3-8430-9ce9f43d6f3c",
   "metadata": {},
   "source": [
    "##### Mean = Median = Mode"
   ]
  },
  {
   "cell_type": "markdown",
   "id": "92f87fa7-eeb0-4359-bdfc-1d5ccd1c1e6d",
   "metadata": {},
   "source": [
    "#### Answer_13"
   ]
  },
  {
   "cell_type": "markdown",
   "id": "b64e83df-e736-4410-9044-1f2a8f41a933",
   "metadata": {},
   "source": [
    "| Covarience | Correlation |\n",
    "|------------|-------------|\n",
    "| 1) Covariance is a measure to indicate the extent to which two random variables change in tandem. | 1) Correlation is a measure used to represent how strongly two random variables are related to each other. | \n",
    "| 2) Covariance is nothing but a measure of correlation. | 2) Correlation refers to the scaled form of covariance. |\n",
    "| 3) Covariance indicates the direction of the linear relationship between variables. | 3) Correlation on the other hand measures both the strength and direction of the linear relationship between two variables. |\n",
    "| 4) Covariance can vary between -∞ and +∞ | 4) Correlation ranges between -1 and +1 |\n",
    "| 5) Covariance is affected by the change in scale. If all the values of one variable are multiplied by a constant and all the values of another variable are multiplied, by a similar or different constant, then the covariance is changed. | 5) Correlation is not influenced by the change in scale. |\n",
    "| 6) Covariance assumes the units from the product of the units of the two variables. | 6) Correlation is dimensionless, i.e. It’s a unit-free measure of the relationship between variables. |\n",
    "| 7) Covariance of two dependent variables measures how much in real quantity (i.e. cm, kg, liters) on average they co-vary. | 7) Correlation of two dependent variables measures the proportion of how much on average these variables vary w.r.t one another. |\n",
    "| 8) Covariance is zero in case of independent variables (if one variable moves and the other doesn’t) because then the variables do not necessarily move together. | 8)  independent variables (if one variable moves and the other doesn’t) because then the variables do not necessarily move together.\tIndependent movements do not contribute to the total correlation. Therefore, completely independent variables have a zero correlation. |"
   ]
  },
  {
   "cell_type": "markdown",
   "id": "936e2746-c9cf-4d39-86a7-91da7589e36a",
   "metadata": {},
   "source": [
    "#### Answer_14"
   ]
  },
  {
   "cell_type": "markdown",
   "id": "59fbbce1-7bff-4d94-aadf-bc6b17b04578",
   "metadata": {},
   "source": [
    "##### > Measures of central tendency are mean, median and mode. Outliers affect the mean value of the data but have little effect on the median or mode of a given set of data."
   ]
  },
  {
   "cell_type": "code",
   "execution_count": 50,
   "id": "a7a65b77-0b54-4b3b-a19a-a45f3569e50a",
   "metadata": {},
   "outputs": [
    {
     "name": "stdout",
     "output_type": "stream",
     "text": [
      "mean without outlier : 177.01875\n",
      "mean with outlier : 254.84117647058824\n"
     ]
    }
   ],
   "source": [
    "## Example (mean)\n",
    "\n",
    "data = [178,177,176,177,178.2,178,175,179,180,175,178.9,176.2,177,172.5,178,176.5]\n",
    "data_with_outlier = [178,177,176,177,178.2,178,175,179,180,175,178.9,176.2,177,172.5,178,176.5,1500]\n",
    "\n",
    "print('mean without outlier :',np.mean(data))\n",
    "print('mean with outlier :',np.mean(data_with_outlier))\n"
   ]
  },
  {
   "cell_type": "code",
   "execution_count": 51,
   "id": "41611608-f8c5-4bc4-b6a1-50da8570e836",
   "metadata": {},
   "outputs": [
    {
     "name": "stdout",
     "output_type": "stream",
     "text": [
      "median without outlier : 177.0\n",
      "median with outlier : 177.0\n"
     ]
    }
   ],
   "source": [
    "## Example (Median)\n",
    "\n",
    "print('median without outlier :',np.median(data))\n",
    "print('median with outlier :',np.median(data_with_outlier))"
   ]
  },
  {
   "cell_type": "code",
   "execution_count": 52,
   "id": "c5495e36-66e8-4e84-bdd8-3d661ef49216",
   "metadata": {},
   "outputs": [
    {
     "name": "stdout",
     "output_type": "stream",
     "text": [
      "mode without outlier : ModeResult(mode=array([177.]), count=array([3]))\n",
      "mode with outlier : ModeResult(mode=array([177.]), count=array([3]))\n"
     ]
    },
    {
     "name": "stderr",
     "output_type": "stream",
     "text": [
      "/tmp/ipykernel_591/369301386.py:3: FutureWarning: Unlike other reduction functions (e.g. `skew`, `kurtosis`), the default behavior of `mode` typically preserves the axis it acts along. In SciPy 1.11.0, this behavior will change: the default value of `keepdims` will become False, the `axis` over which the statistic is taken will be eliminated, and the value None will no longer be accepted. Set `keepdims` to True or False to avoid this warning.\n",
      "  print('mode without outlier :',stats.mode(data))\n",
      "/tmp/ipykernel_591/369301386.py:4: FutureWarning: Unlike other reduction functions (e.g. `skew`, `kurtosis`), the default behavior of `mode` typically preserves the axis it acts along. In SciPy 1.11.0, this behavior will change: the default value of `keepdims` will become False, the `axis` over which the statistic is taken will be eliminated, and the value None will no longer be accepted. Set `keepdims` to True or False to avoid this warning.\n",
      "  print('mode with outlier :',stats.mode(data_with_outlier))\n"
     ]
    }
   ],
   "source": [
    "## Example (mode)\n",
    "\n",
    "print('mode without outlier :',stats.mode(data))\n",
    "print('mode with outlier :',stats.mode(data_with_outlier))"
   ]
  },
  {
   "cell_type": "markdown",
   "id": "14f60ab9-0306-4b6a-90ce-d2ed2b1ff3ab",
   "metadata": {},
   "source": [
    "##### > Variance is highly affected by outlier.\n",
    "##### > S.D is less affected by outlier as compare to variance"
   ]
  },
  {
   "cell_type": "code",
   "execution_count": 53,
   "id": "119acc4e-8771-47d3-85e1-18a271fc679b",
   "metadata": {},
   "outputs": [
    {
     "name": "stdout",
     "output_type": "stream",
     "text": [
      "variance without outlier : 3.199023437500001\n",
      "variance with outlier : 96904.29183391004\n"
     ]
    }
   ],
   "source": [
    "print('variance without outlier :',np.var(data))\n",
    "print('variance with outlier :',np.var(data_with_outlier))"
   ]
  },
  {
   "cell_type": "code",
   "execution_count": 54,
   "id": "b3889d20-4442-4135-a3cf-e203a7cc95e1",
   "metadata": {},
   "outputs": [
    {
     "name": "stdout",
     "output_type": "stream",
     "text": [
      "S.D without outlier : 1.7885814036548633\n",
      "S.D with outlier : 311.2945419275931\n"
     ]
    }
   ],
   "source": [
    "print('S.D without outlier :',np.std(data))\n",
    "print('S.D with outlier :',np.std(data_with_outlier))"
   ]
  },
  {
   "cell_type": "code",
   "execution_count": null,
   "id": "22dc33cf-0bdc-4e95-be37-bda0e9ca829d",
   "metadata": {},
   "outputs": [],
   "source": []
  }
 ],
 "metadata": {
  "kernelspec": {
   "display_name": "Python 3 (ipykernel)",
   "language": "python",
   "name": "python3"
  },
  "language_info": {
   "codemirror_mode": {
    "name": "ipython",
    "version": 3
   },
   "file_extension": ".py",
   "mimetype": "text/x-python",
   "name": "python",
   "nbconvert_exporter": "python",
   "pygments_lexer": "ipython3",
   "version": "3.10.8"
  }
 },
 "nbformat": 4,
 "nbformat_minor": 5
}
