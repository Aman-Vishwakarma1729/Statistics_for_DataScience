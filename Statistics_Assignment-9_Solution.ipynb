{
 "cells": [
  {
   "cell_type": "markdown",
   "id": "c11d43e9-268b-42f4-a131-88a849486b4f",
   "metadata": {},
   "source": [
    "#### Answer_1"
   ]
  },
  {
   "cell_type": "code",
   "execution_count": 1,
   "id": "a0bbfdd8-4dc1-4e81-aa54-33748fa9b5fe",
   "metadata": {},
   "outputs": [],
   "source": [
    "import numpy as np\n",
    "from scipy.stats import f\n",
    "\n",
    "\n",
    "def variance_ratio_test(x, y):\n",
    "    n = len(x)\n",
    "    m = len(y)\n",
    "    k = np.minimum(n, m)\n",
    "    \n",
    "    x_var = np.var(x, ddof=1)\n",
    "    y_var = np.var(y, ddof=1)\n",
    "    \n",
    "    f_stat = x_var / y_var\n",
    "    \n",
    "    p_val = 1 - f.cdf(f_stat, k - 1, m - 1)\n",
    "    \n",
    "    return f\"f_statistics is {f_stat} and p value is {p_val}\"\n"
   ]
  },
  {
   "cell_type": "code",
   "execution_count": 2,
   "id": "2a5431e2-7dcd-4d02-a31b-42f24f9b1a26",
   "metadata": {},
   "outputs": [
    {
     "data": {
      "text/plain": [
       "'f_statistics is 0.03226514486391571 and p value is 0.9991587219842107'"
      ]
     },
     "execution_count": 2,
     "metadata": {},
     "output_type": "execute_result"
    }
   ],
   "source": [
    "variance_ratio_test([1,2,3,4,5,6], [5,5,5,8,9,10,34])"
   ]
  },
  {
   "cell_type": "markdown",
   "id": "40added0-3fe2-4446-aae8-b5378f6e8a3b",
   "metadata": {},
   "source": [
    "#### Answer_2"
   ]
  },
  {
   "cell_type": "code",
   "execution_count": 3,
   "id": "0ddb76cc-5408-4861-9482-c727ef67ed47",
   "metadata": {},
   "outputs": [],
   "source": [
    "from scipy.stats import f\n",
    "\n",
    "def critical_f_value(alpha, dfn, dfd):\n",
    "    return f.ppf(alpha/2, dfn, dfd), f.ppf(1 - alpha/2, dfn, dfd)\n"
   ]
  },
  {
   "cell_type": "code",
   "execution_count": 4,
   "id": "1105de50-3d2a-4a97-86e7-c908c8a18001",
   "metadata": {},
   "outputs": [
    {
     "data": {
      "text/plain": [
       "(0.06837889693755998, 5.889819167203254)"
      ]
     },
     "execution_count": 4,
     "metadata": {},
     "output_type": "execute_result"
    }
   ],
   "source": [
    "critical_f_value(0.05, 3, 7)"
   ]
  },
  {
   "cell_type": "markdown",
   "id": "c43fc642-cd19-4eef-8e97-c58c5fc8d743",
   "metadata": {},
   "source": [
    "#### Answer_3"
   ]
  },
  {
   "cell_type": "code",
   "execution_count": 5,
   "id": "b3b49e88-1d62-4c11-aeab-62712190237f",
   "metadata": {},
   "outputs": [
    {
     "name": "stdout",
     "output_type": "stream",
     "text": [
      "F-value: 0.7222372045945328\n",
      "Degrees of freedom: 19 and 24\n",
      "p-value: 0.7634605547621935\n"
     ]
    }
   ],
   "source": [
    "import numpy as np\n",
    "from scipy.stats import f\n",
    "\n",
    "np.random.seed(123)\n",
    "\n",
    "mean1 = 0\n",
    "mean2 = 0\n",
    "var1 = 1\n",
    "var2 = 2\n",
    "n1 = 20\n",
    "n2 = 25\n",
    "\n",
    "sample1 = np.random.normal(mean1, np.sqrt(var1), n1)\n",
    "sample2 = np.random.normal(mean2, np.sqrt(var2), n2)\n",
    "\n",
    "f_stat = np.var(sample1, ddof=1) / np.var(sample2, ddof=1)\n",
    "dfn = n1 - 1\n",
    "dfd = n2 - 1\n",
    "p_val = 1 - f.cdf(f_stat, dfn, dfd)\n",
    "\n",
    "print(\"F-value:\", f_stat)\n",
    "print(\"Degrees of freedom:\", dfn, \"and\", dfd)\n",
    "print(\"p-value:\", p_val)"
   ]
  },
  {
   "cell_type": "markdown",
   "id": "85ca2dbb-9618-4af1-971f-a483a2a4ff64",
   "metadata": {},
   "source": [
    "#### Answer_4"
   ]
  },
  {
   "cell_type": "markdown",
   "id": "653fdd01-4ae2-4f6d-b148-0673bfd643fd",
   "metadata": {},
   "source": [
    "To conduct an F-test to determine if the variances of two populations are significantly different, we can use the formula:\n",
    "\n",
    "* F = s1^2 / s2^2\n",
    "\n",
    "where s1^2 and s2^2 are the sample variances of the two populations, and F follows an F-distribution with degrees of freedom df1 = n1 - 1 and df2 = n2 - 1, where n1 and n2 are the sample sizes.\n",
    "\n",
    "At the 5% significance level, we can use a critical value of F such that the probability of obtaining an F-value as extreme as the one observed is less than or equal to 0.05. The critical value can be obtained from an F-distribution table or using a statistical software.\n",
    "\n",
    "In this case, the variances of the two populations are known to be 10 and 15, respectively, and a sample of 12 observations is taken from each population. Let's assume that the two populations are normally distributed and independent.\n",
    "\n",
    "First, we can calculate the sample variances of the two populations:\n",
    "\n",
    "* s1^2 = 1/11 * ((9-12.5)^2 + (13-12.5)^2 + ... + (14-12.5)^2) = 10.17\n",
    "* s2^2 = 1/11 * ((6-9)^2 + (12-9)^2 + ... + (11-9)^2) = 13.18\n",
    "\n",
    "Next, we can calculate the F-value:\n",
    "\n",
    "* F = s1^2 / s2^2 = 10.17 / 13.18 = 0.771\n",
    "\n",
    "The degrees of freedom for the F-distribution are df1 = 11 and df2 = 11.\n",
    "\n",
    "Using an F-distribution table or a statistical software, we can find the critical value of F at the 5% significance level with df1 = 11 and df2 = 11 to be approximately 2.68.\n",
    "\n",
    "Since the calculated F-value (0.771) is less than the critical value (2.68), we fail to reject the null hypothesis that the variances of the two populations are equal at the 5% significance level. Therefore, we can conclude that there is not enough evidence to suggest that the variances of the two populations are significantly different."
   ]
  },
  {
   "cell_type": "markdown",
   "id": "ae1d45e5-f0db-4f0b-adaa-41e3dd7a89fd",
   "metadata": {},
   "source": [
    "#### Answer_5"
   ]
  },
  {
   "cell_type": "markdown",
   "id": "dc32d350-c084-48ba-ae3f-20df9dda3fbc",
   "metadata": {},
   "source": [
    "To conduct an F-test to determine if the claim made by the manufacturer about the variance of the diameter of the product is justified, we can use the formula:\n",
    "\n",
    "F = s^2 / σ^2\n",
    "\n",
    "where s^2 is the sample variance, σ^2 is the claimed population variance, and F follows an F-distribution with degrees of freedom df1 = n - 1 and df2 = ∞, where n is the sample size.\n",
    "\n",
    "At the 1% significance level, we can use a critical value of F such that the probability of obtaining an F-value as extreme as the one observed is less than or equal to 0.01. The critical value can be obtained from an F-distribution table or using a statistical software.\n",
    "\n",
    "In this case, the manufacturer claims that the variance of the diameter of the product is 0.005, and a sample of 25 products is taken with a sample variance of 0.006.\n",
    "\n",
    "First, we can calculate the F-value:\n",
    "\n",
    "F = s^2 / σ^2 = 0.006 / 0.005 = 1.2\n",
    "\n",
    "The degrees of freedom for the F-distribution are df1 = 24 and df2 = ∞.\n",
    "\n",
    "Using an F-distribution table or a statistical software, we can find the critical value of F at the 1% significance level with df1 = 24 and df2 = ∞ to be approximately 4.25.\n",
    "\n",
    "Since the calculated F-value (1.2) is less than the critical value (4.25), we fail to reject the null hypothesis that the variance of the diameter of the product is equal to 0.005 at the 1% significance level. Therefore, we can conclude that there is not enough evidence to suggest that the manufacturer's claim about the variance of the diameter of the product is unjustified at the 1% significance level."
   ]
  },
  {
   "cell_type": "markdown",
   "id": "59e4d854-2b11-42c1-b859-ab181d29592d",
   "metadata": {},
   "source": [
    "#### Answer_6"
   ]
  },
  {
   "cell_type": "code",
   "execution_count": 7,
   "id": "13032bce-8a3c-4f7f-8bcb-7bc3e70c6a5d",
   "metadata": {},
   "outputs": [],
   "source": [
    "import math\n",
    "\n",
    "def f_distribution_mean_variance(df1, df2):\n",
    "    if df1 <= 0 or df2 <= 0:\n",
    "        raise ValueError(\"Degrees of freedom must be positive integers.\")\n",
    "    mean = df2 / (df2 - 2)\n",
    "    if df2 <= 4:\n",
    "        variance = math.nan\n",
    "    else:\n",
    "        variance = 2 * (df2**2) * (df1 + df2 - 2) / (df1 * (df2 - 2)**2 * (df2 - 4))\n",
    "    return (mean, variance)"
   ]
  },
  {
   "cell_type": "markdown",
   "id": "7b108598-d8f0-4261-9f58-b2979548b38c",
   "metadata": {},
   "source": [
    "#### Answer_7"
   ]
  },
  {
   "cell_type": "markdown",
   "id": "8070672a-32cc-428a-bc65-009858595ffb",
   "metadata": {},
   "source": [
    "To conduct an F-test to determine if the variances of the two populations are significantly different, we can use the formula:\n",
    "\n",
    "F = s1^2 / s2^2\n",
    "\n",
    "where s1^2 and s2^2 are the sample variances of the two populations, and F follows an F-distribution with degrees of freedom df1 = n1 - 1 and df2 = n2 - 1, where n1 and n2 are the sample sizes.\n",
    "\n",
    "At the 10% significance level, we can use a critical value of F such that the probability of obtaining an F-value as extreme as the one observed is less than or equal to 0.10. The critical value can be obtained from an F-distribution table or using a statistical software.\n",
    "\n",
    "In this case, a sample of 10 measurements is taken from a normal population with unknown variance, and the sample variance is found to be 25. Another sample of 15 measurements is taken from another normal population with unknown variance, and the sample variance is found to be 20.\n",
    "\n",
    "First, we can calculate the F-value:\n",
    "\n",
    "F = s1^2 / s2^2 = 25 / 20 = 1.25\n",
    "\n",
    "The degrees of freedom for the F-distribution are df1 = 9 and df2 = 14.\n",
    "\n",
    "Using an F-distribution table or a statistical software, we can find the critical value of F at the 10% significance level with df1 = 9 and df2 = 14 to be approximately 2.4.\n",
    "\n",
    "Since the calculated F-value (1.25) is less than the critical value (2.4), we fail to reject the null hypothesis that the variances of the two populations are equal at the 10% significance level. Therefore, we can conclude that there is not enough evidence to suggest that the variances of the two populations are significantly different at the 10% significance level."
   ]
  },
  {
   "cell_type": "markdown",
   "id": "8a521e85-7c57-463d-baa0-c4926bf1fdde",
   "metadata": {},
   "source": [
    "#### Answer_8"
   ]
  },
  {
   "cell_type": "markdown",
   "id": "209d3c4a-aeb0-46ff-ade7-cdbcb63666a6",
   "metadata": {},
   "source": [
    "To conduct an F-test to determine if the variances of the two populations are significantly different, we can use the formula:\n",
    "\n",
    "F = s1^2 / s2^2\n",
    "\n",
    "where s1^2 and s2^2 are the sample variances of the two populations, and F follows an F-distribution with degrees of freedom df1 = n1 - 1 and df2 = n2 - 1, where n1 and n2 are the sample sizes.\n",
    "\n",
    "In this case, the sample waiting times at Restaurant A are 24, 25, 28, 23, 22, 20, and 27, and the sample waiting times at Restaurant B are 31, 33, 35, 30, 32, and 36. We can calculate the sample variances for each restaurant:\n",
    "\n",
    "s1^2 = ((24-24.14)^2 + (25-24.14)^2 + (28-24.14)^2 + (23-24.14)^2 + (22-24.14)^2 + (20-24.14)^2 + (27-24.14)^2) / 6 = 8.8\n",
    "s2^2 = ((31-32.83)^2 + (33-32.83)^2 + (35-32.83)^2 + (30-32.83)^2 + (32-32.83)^2 + (36-32.83)^2) / 5 = 7.3\n",
    "\n",
    "The degrees of freedom for the F-distribution are df1 = 6 and df2 = 5.\n",
    "\n",
    "We can then calculate the F-value:\n",
    "\n",
    "F = s1^2 / s2^2 = 8.8 / 7.3 = 1.2055\n",
    "\n",
    "Using an F-distribution table or a statistical software, we can find the critical value of F at the 5% significance level with df1 = 6 and df2 = 5 to be approximately 5.99.\n",
    "\n",
    "Since the calculated F-value (1.2055) is less than the critical value (5.99), we fail to reject the null hypothesis that the variances of the two populations are equal at the 5% significance level. Therefore, we can conclude that there is not enough evidence to suggest that the variances of the waiting times at Restaurant A and Restaurant B are significantly different at the 5% significance level."
   ]
  },
  {
   "cell_type": "markdown",
   "id": "05484ce2-3348-43e7-ace4-b8f9f5ea53ad",
   "metadata": {},
   "source": [
    "#### Answer_9"
   ]
  },
  {
   "cell_type": "markdown",
   "id": "cad2c2f6-8695-4c50-bdf2-4314c002ab6b",
   "metadata": {},
   "source": [
    "To conduct an F-test to determine if the variances of the two populations are significantly different, we can use the formula:\n",
    "\n",
    "F = s1^2 / s2^2\n",
    "\n",
    "where s1^2 and s2^2 are the sample variances of the two populations, and F follows an F-distribution with degrees of freedom df1 = n1 - 1 and df2 = n2 - 1, where n1 and n2 are the sample sizes.\n",
    "\n",
    "In this case, the test scores for Group A are 80, 85, 90, 92, 87, and 83, and the test scores for Group B are 75, 78, 82, 79, 81, and 84. We can calculate the sample variances for each group:\n",
    "\n",
    "s1^2 = ((80-87)^2 + (85-87)^2 + (90-87)^2 + (92-87)^2 + (87-87)^2 + (83-87)^2) / 5 = 21.2\n",
    "s2^2 = ((75-80.17)^2 + (78-80.17)^2 + (82-80.17)^2 + (79-80.17)^2 + (81-80.17)^2 + (84-80.17)^2) / 5 = 6.71\n",
    "\n",
    "The degrees of freedom for the F-distribution are df1 = 5 and df2 = 5.\n",
    "\n",
    "We can then calculate the F-value:\n",
    "\n",
    "F = s1^2 / s2^2 = 21.2 / 6.71 = 3.155\n",
    "\n",
    "Using an F-distribution table or a statistical software, we can find the critical value of F at the 1% significance level with df1 = 5 and df2 = 5 to be approximately 6.94.\n",
    "\n",
    "Since the calculated F-value (3.155) is less than the critical value (6.94), we fail to reject the null hypothesis that the variances of the two populations are equal at the 1% significance level. Therefore, we can conclude that there is not enough evidence to suggest that the variances of the test scores for Group A and Group B are significantly different at the 1% significance level."
   ]
  },
  {
   "cell_type": "code",
   "execution_count": null,
   "id": "ca01cf63-44b0-415c-b248-934f031ce7f0",
   "metadata": {},
   "outputs": [],
   "source": []
  }
 ],
 "metadata": {
  "kernelspec": {
   "display_name": "Python 3 (ipykernel)",
   "language": "python",
   "name": "python3"
  },
  "language_info": {
   "codemirror_mode": {
    "name": "ipython",
    "version": 3
   },
   "file_extension": ".py",
   "mimetype": "text/x-python",
   "name": "python",
   "nbconvert_exporter": "python",
   "pygments_lexer": "ipython3",
   "version": "3.10.8"
  }
 },
 "nbformat": 4,
 "nbformat_minor": 5
}
